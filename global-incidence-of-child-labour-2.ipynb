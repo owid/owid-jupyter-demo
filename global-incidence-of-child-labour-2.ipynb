{
 "cells": [
  {
   "cell_type": "markdown",
   "id": "66f128a5",
   "metadata": {},
   "source": [
    "# Global incidence of child labor"
   ]
  },
  {
   "cell_type": "code",
   "execution_count": null,
   "id": "e5136e4d",
   "metadata": {},
   "outputs": [],
   "source": [
    "import pandas as pd\n",
    "from owid import grapher, site"
   ]
  },
  {
   "cell_type": "code",
   "execution_count": null,
   "id": "0d2a4c68",
   "metadata": {},
   "outputs": [],
   "source": [
    "data = site.get_chart_data(slug=\"global-incidence-of-child-labour-2\")\n",
    "data.head()"
   ]
  },
  {
   "cell_type": "code",
   "execution_count": null,
   "id": "b8c18303",
   "metadata": {},
   "outputs": [],
   "source": [
    "grapher.Chart(\n",
    "    data[data.entity == \"World\"]\n",
    ").encode(\n",
    "    x=\"year\",\n",
    "    y=\"value\",\n",
    "    c=\"variable\"\n",
    ").label(\n",
    "    title=\"Global incidence of child labor\",\n",
    "    subtitle=\"Share of children ages 5-17 involved in economic activity for at least one hour in the reference week of the corresponding survey (irrespective of school attendance)\"\n",
    ").interact(\n",
    "    entity_control=True\n",
    ")"
   ]
  }
 ],
 "metadata": {
  "kernelspec": {
   "display_name": "Python 3 (ipykernel)",
   "language": "python",
   "name": "python3"
  }
 },
 "nbformat": 4,
 "nbformat_minor": 5
}
