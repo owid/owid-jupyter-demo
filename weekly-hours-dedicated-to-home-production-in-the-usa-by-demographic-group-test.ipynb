{
 "cells": [
  {
   "cell_type": "markdown",
   "id": "bfed4f55",
   "metadata": {},
   "source": [
    "# Weekly hours dedicated to home production in the USA, by demographic group"
   ]
  },
  {
   "cell_type": "code",
   "execution_count": null,
   "id": "01f3a346",
   "metadata": {},
   "outputs": [],
   "source": [
    "import pandas as pd\n",
    "from owid import grapher, site"
   ]
  },
  {
   "cell_type": "code",
   "execution_count": null,
   "id": "25c97d40",
   "metadata": {},
   "outputs": [],
   "source": [
    "data = site.get_chart_data(slug=\"weekly-hours-dedicated-to-home-production-in-the-usa-by-demographic-group-test\")\n",
    "data.head()"
   ]
  },
  {
   "cell_type": "code",
   "execution_count": null,
   "id": "03ff4eff",
   "metadata": {},
   "outputs": [],
   "source": [
    "grapher.Chart(\n",
    "    data.query('entity in [\"Women 25-54\", \"Men 18-24\", \"Men 55-64\", \"Men and Women Ages 18-64\", \"Men 25-54\", \"Women 18-24\", \"Women 55-64\", \"Men and Women Ages 18+\"]')\n",
    ").encode(\n",
    "    x=\"year\",\n",
    "    y=\"value\",\n",
    "    c=\"variable\"\n",
    ").select(\n",
    "    timespan=(earliest, latest)\n",
    ").label(\n",
    "    title=\"Weekly hours dedicated to home production in the USA, by demographic group\"\n",
    ").interact(\n",
    "    entity_control=True\n",
    ")"
   ]
  }
 ],
 "metadata": {
  "kernelspec": {
   "display_name": "Python 3 (ipykernel)",
   "language": "python",
   "name": "python3"
  }
 },
 "nbformat": 4,
 "nbformat_minor": 5
}
