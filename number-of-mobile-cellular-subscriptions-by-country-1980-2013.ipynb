{
 "cells": [
  {
   "cell_type": "markdown",
   "id": "b489c060",
   "metadata": {},
   "source": [
    "# Number of mobile cellular subscriptions by country"
   ]
  },
  {
   "cell_type": "code",
   "execution_count": null,
   "id": "10e60998",
   "metadata": {},
   "outputs": [],
   "source": [
    "import pandas as pd\n",
    "from owid import grapher, site"
   ]
  },
  {
   "cell_type": "code",
   "execution_count": null,
   "id": "b576ad02",
   "metadata": {},
   "outputs": [],
   "source": [
    "data = site.get_chart_data(slug=\"number-of-mobile-cellular-subscriptions-by-country-1980-2013\")\n",
    "data.head()"
   ]
  },
  {
   "cell_type": "code",
   "execution_count": null,
   "id": "e88ab45b",
   "metadata": {},
   "outputs": [],
   "source": [
    "grapher.Chart(\n",
    "    data\n",
    ").encode(\n",
    "    x=\"year\",\n",
    "    y=\"value\",\n",
    "    c=\"entity\"\n",
    ").select(\n",
    "    entities=[\"Estonia\",\n",
    "        \"United Kingdom\",\n",
    "        \"United States\",\n",
    "        \"Afghanistan\",\n",
    "        \"China\",\n",
    "        \"India\"],\n",
    "    timespan=(1980, None)\n",
    ").label(\n",
    "    title=\"Number of mobile cellular subscriptions by country\"\n",
    ").interact(\n",
    "    entity_control=True\n",
    ")"
   ]
  }
 ],
 "metadata": {
  "kernelspec": {
   "display_name": "Python 3 (ipykernel)",
   "language": "python",
   "name": "python3"
  }
 },
 "nbformat": 4,
 "nbformat_minor": 5
}
