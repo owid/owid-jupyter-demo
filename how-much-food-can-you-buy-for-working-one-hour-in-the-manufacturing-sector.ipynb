{
 "cells": [
  {
   "cell_type": "markdown",
   "id": "86293929",
   "metadata": {},
   "source": [
    "# How much food can you buy for working one hour in the manufacturing sector?"
   ]
  },
  {
   "cell_type": "code",
   "execution_count": null,
   "id": "b55157a5",
   "metadata": {},
   "outputs": [],
   "source": [
    "import pandas as pd\n",
    "from owid import grapher, site"
   ]
  },
  {
   "cell_type": "code",
   "execution_count": null,
   "id": "23b3416d",
   "metadata": {},
   "outputs": [],
   "source": [
    "data = site.get_chart_data(slug=\"how-much-food-can-you-buy-for-working-one-hour-in-the-manufacturing-sector\")\n",
    "data.head()"
   ]
  },
  {
   "cell_type": "code",
   "execution_count": null,
   "id": "d6559309",
   "metadata": {},
   "outputs": [],
   "source": [
    "grapher.Chart(\n",
    "    data\n",
    ").encode(\n",
    "    x=\"year\",\n",
    "    y=\"value\",\n",
    "    c=\"entity\"\n",
    ").label(\n",
    "    title=\"How much food can you buy for working one hour in the manufacturing sector?\"\n",
    ").interact(\n",
    "    entity_control=True\n",
    ")"
   ]
  }
 ],
 "metadata": {
  "kernelspec": {
   "display_name": "Python 3 (ipykernel)",
   "language": "python",
   "name": "python3"
  }
 },
 "nbformat": 4,
 "nbformat_minor": 5
}
