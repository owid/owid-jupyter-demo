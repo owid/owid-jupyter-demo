{
 "cells": [
  {
   "cell_type": "markdown",
   "id": "1c98a1bc",
   "metadata": {},
   "source": [
    "# Inequality of life years"
   ]
  },
  {
   "cell_type": "code",
   "execution_count": null,
   "id": "c5b2813d",
   "metadata": {},
   "outputs": [],
   "source": [
    "import pandas as pd\n",
    "from owid import grapher, site"
   ]
  },
  {
   "cell_type": "code",
   "execution_count": null,
   "id": "85c7dcf1",
   "metadata": {},
   "outputs": [],
   "source": [
    "data = site.get_chart_data(slug=\"inequality-of-life-as-measured-by-mortality-gini-coefficient-1742-2002\")\n",
    "data.head()"
   ]
  },
  {
   "cell_type": "code",
   "execution_count": null,
   "id": "a371b930",
   "metadata": {},
   "outputs": [],
   "source": [
    "grapher.Chart(\n",
    "    data\n",
    ").encode(\n",
    "    x=\"year\",\n",
    "    y=\"value\",\n",
    "    c=\"entity\"\n",
    ").select([\n",
    "    \"Russia\",\n",
    "    \"England and Wales\",\n",
    "    \"Germany\",\n",
    "    \"United States\",\n",
    "    \"Sweden\"\n",
    "]).label(\n",
    "    title=\"Inequality of life years\",\n",
    "    subtitle=\"The inequality of years of life between people within the same country is measured with the Gini index here. A high Gini means large within-country inequalities of the number of years that people live.\"\n",
    ").interact(\n",
    "    entity_control=True\n",
    ")"
   ]
  }
 ],
 "metadata": {
  "kernelspec": {
   "display_name": "Python 3 (ipykernel)",
   "language": "python",
   "name": "python3"
  }
 },
 "nbformat": 4,
 "nbformat_minor": 5
}
