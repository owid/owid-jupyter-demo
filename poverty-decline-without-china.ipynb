{
 "cells": [
  {
   "cell_type": "markdown",
   "id": "a1d72171",
   "metadata": {},
   "source": [
    "# Share of global population living in extreme poverty including and excluding China"
   ]
  },
  {
   "cell_type": "code",
   "execution_count": null,
   "id": "f8761289",
   "metadata": {},
   "outputs": [],
   "source": [
    "import pandas as pd\n",
    "from owid import grapher, site"
   ]
  },
  {
   "cell_type": "code",
   "execution_count": null,
   "id": "9abe6c99",
   "metadata": {},
   "outputs": [],
   "source": [
    "data = site.get_chart_data(slug=\"poverty-decline-without-china\")\n",
    "data.head()"
   ]
  },
  {
   "cell_type": "code",
   "execution_count": null,
   "id": "e8a9e904",
   "metadata": {},
   "outputs": [],
   "source": [
    "grapher.Chart(\n",
    "    data.query('entity in [\"World\", \"World not including China\"]')\n",
    ").encode(\n",
    "    x=\"year\",\n",
    "    y=\"value\",\n",
    "    c=\"variable\"\n",
    ").label(\n",
    "    title=\"Share of global population living in extreme poverty including and excluding China\",\n",
    "    subtitle=\"Living in extreme poverty is defined as living below the international poverty line at 1.90 international-$ per day,\"\n",
    ").interact(\n",
    "    entity_control=True\n",
    ")"
   ]
  }
 ],
 "metadata": {
  "kernelspec": {
   "display_name": "Python 3 (ipykernel)",
   "language": "python",
   "name": "python3"
  }
 },
 "nbformat": 4,
 "nbformat_minor": 5
}
