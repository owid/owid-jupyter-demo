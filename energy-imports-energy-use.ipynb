{
 "cells": [
  {
   "cell_type": "markdown",
   "id": "84e62e79",
   "metadata": {},
   "source": [
    "# Energy imports (% energy use)"
   ]
  },
  {
   "cell_type": "code",
   "execution_count": null,
   "id": "d12e4cbc",
   "metadata": {},
   "outputs": [],
   "source": [
    "import pandas as pd\n",
    "from owid import grapher, site"
   ]
  },
  {
   "cell_type": "code",
   "execution_count": null,
   "id": "ade2dc91",
   "metadata": {},
   "outputs": [],
   "source": [
    "data = site.get_chart_data(slug=\"energy-imports-energy-use\")\n",
    "data.head()"
   ]
  },
  {
   "cell_type": "code",
   "execution_count": null,
   "id": "64900399",
   "metadata": {},
   "outputs": [],
   "source": [
    "grapher.Chart(\n",
    "    data\n",
    ").encode(\n",
    "    x=\"year\",\n",
    "    y=\"value\",\n",
    "    c=\"entity\"\n",
    ").select([\n",
    "    \"France\",\n",
    "    \"Germany\",\n",
    "    \"United States\",\n",
    "    \"United Kingdom\"\n",
    "]).label(\n",
    "    title=\"Energy imports (% energy use)\",\n",
    "    subtitle=\"Energy imports, measured as the percentage of total energy use. Imports is measured as the difference in use relative to production (both in tonnes of oil equivalent). Positive numbers represent energy imports; negative numbers indicate net energy export.\",\n",
    "    source_desc=\"International Energy Agency (IEA) via The World Bank\"\n",
    ").interact(\n",
    "    entity_control=True\n",
    ")"
   ]
  }
 ],
 "metadata": {
  "kernelspec": {
   "display_name": "Python 3 (ipykernel)",
   "language": "python",
   "name": "python3"
  }
 },
 "nbformat": 4,
 "nbformat_minor": 5
}
