{
 "cells": [
  {
   "cell_type": "markdown",
   "id": "5787ec87",
   "metadata": {},
   "source": [
    "# Gender ratios for mean years of schooling"
   ]
  },
  {
   "cell_type": "code",
   "execution_count": null,
   "id": "7f98b55f",
   "metadata": {},
   "outputs": [],
   "source": [
    "import pandas as pd\n",
    "from owid import grapher, site"
   ]
  },
  {
   "cell_type": "code",
   "execution_count": null,
   "id": "6cc53628",
   "metadata": {},
   "outputs": [],
   "source": [
    "data = site.get_chart_data(slug=\"gender-ratios-for-mean-years-of-schooling\")\n",
    "data.head()"
   ]
  },
  {
   "cell_type": "code",
   "execution_count": null,
   "id": "73a554ca",
   "metadata": {},
   "outputs": [],
   "source": [
    "grapher.Chart(\n",
    "    data\n",
    ").encode(\n",
    "    x=\"year\",\n",
    "    y=\"value\",\n",
    "    c=\"entity\"\n",
    ").label(\n",
    "    title=\"Gender ratios for mean years of schooling\",\n",
    "    subtitle=\"Female-to-male ratio of average years of schooling, expressed in percents. All education levels for population aged 15-64. Regional estimates are population-weighted averages.\"\n",
    ").interact(\n",
    "    entity_control=True\n",
    ")"
   ]
  }
 ],
 "metadata": {
  "kernelspec": {
   "display_name": "Python 3 (ipykernel)",
   "language": "python",
   "name": "python3"
  }
 },
 "nbformat": 4,
 "nbformat_minor": 5
}
