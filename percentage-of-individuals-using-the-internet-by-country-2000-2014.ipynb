{
 "cells": [
  {
   "cell_type": "markdown",
   "id": "559cb442",
   "metadata": {},
   "source": [
    "# Percentage of individuals using the internet by country"
   ]
  },
  {
   "cell_type": "code",
   "execution_count": null,
   "id": "6eb61d8c",
   "metadata": {},
   "outputs": [],
   "source": [
    "import pandas as pd\n",
    "from owid import grapher, site"
   ]
  },
  {
   "cell_type": "code",
   "execution_count": null,
   "id": "aa1b922d",
   "metadata": {},
   "outputs": [],
   "source": [
    "data = site.get_chart_data(slug=\"percentage-of-individuals-using-the-internet-by-country-2000-2014\")\n",
    "data.head()"
   ]
  },
  {
   "cell_type": "code",
   "execution_count": null,
   "id": "ff85110c",
   "metadata": {},
   "outputs": [],
   "source": [
    "grapher.Chart(\n",
    "    data\n",
    ").encode(\n",
    "    x=\"year\",\n",
    "    y=\"value\",\n",
    "    c=\"entity\"\n",
    ").select([\n",
    "    \"Iran\",\n",
    "    \"Estonia\",\n",
    "    \"Kenya\",\n",
    "    \"United Kingdom\",\n",
    "    \"South Africa\",\n",
    "    \"United States\"\n",
    "]).label(\n",
    "    title=\"Percentage of individuals using the internet by country\"\n",
    ").interact(\n",
    "    entity_control=True\n",
    ")"
   ]
  }
 ],
 "metadata": {
  "kernelspec": {
   "display_name": "Python 3 (ipykernel)",
   "language": "python",
   "name": "python3"
  }
 },
 "nbformat": 4,
 "nbformat_minor": 5
}
