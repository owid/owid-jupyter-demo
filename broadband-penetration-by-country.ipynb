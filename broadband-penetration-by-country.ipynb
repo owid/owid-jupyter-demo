{
 "cells": [
  {
   "cell_type": "markdown",
   "id": "b412e9ab",
   "metadata": {},
   "source": [
    "# Broadband subscriptions per 100 people"
   ]
  },
  {
   "cell_type": "code",
   "execution_count": null,
   "id": "a797f229",
   "metadata": {},
   "outputs": [],
   "source": [
    "import pandas as pd\n",
    "from owid import grapher, site"
   ]
  },
  {
   "cell_type": "code",
   "execution_count": null,
   "id": "2df63199",
   "metadata": {},
   "outputs": [],
   "source": [
    "data = site.get_chart_data(slug=\"broadband-penetration-by-country\")\n",
    "data.head()"
   ]
  },
  {
   "cell_type": "code",
   "execution_count": null,
   "id": "dd2cfa4b",
   "metadata": {},
   "outputs": [],
   "source": [
    "grapher.Chart(\n",
    "    data\n",
    ").encode(\n",
    "    x=\"year\",\n",
    "    y=\"value\",\n",
    "    c=\"entity\"\n",
    ").select([\n",
    "    \"South Korea\",\n",
    "    \"Pakistan\",\n",
    "    \"World\",\n",
    "    \"Germany\",\n",
    "    \"United States\"\n",
    "]).label(\n",
    "    title=\"Broadband subscriptions per 100 people\",\n",
    "    subtitle=\"Broadband subscriptions refer to fixed subscriptions to high-speed access to the public Internet (a TCP/IP connection), at downstream speeds equal to, or greater than, 256 kbit/s.\",\n",
    "    note=\"For more details on the definition see the sources tab.\"\n",
    ").interact(\n",
    "    entity_control=True,\n",
    "    enable_map=True\n",
    ")"
   ]
  }
 ],
 "metadata": {
  "kernelspec": {
   "display_name": "Python 3 (ipykernel)",
   "language": "python",
   "name": "python3"
  }
 },
 "nbformat": 4,
 "nbformat_minor": 5
}
