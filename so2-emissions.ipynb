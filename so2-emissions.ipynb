{
 "cells": [
  {
   "cell_type": "markdown",
   "id": "97ebc262",
   "metadata": {},
   "source": [
    "# Sulphur dioxide (SO₂) emissions"
   ]
  },
  {
   "cell_type": "code",
   "execution_count": null,
   "id": "ea660e69",
   "metadata": {},
   "outputs": [],
   "source": [
    "import pandas as pd\n",
    "from owid import grapher, site"
   ]
  },
  {
   "cell_type": "code",
   "execution_count": null,
   "id": "47d01900",
   "metadata": {},
   "outputs": [],
   "source": [
    "data = site.get_chart_data(slug=\"so2-emissions\")\n",
    "data.head()"
   ]
  },
  {
   "cell_type": "code",
   "execution_count": null,
   "id": "5ed9e826",
   "metadata": {},
   "outputs": [],
   "source": [
    "grapher.Chart(\n",
    "    data\n",
    ").encode(\n",
    "    x=\"year\",\n",
    "    y=\"value\",\n",
    "    c=\"entity\"\n",
    ").label(\n",
    "    title=\"Sulphur dioxide (SO₂) emissions\",\n",
    "    subtitle=\"Sulphur dioxide (SO₂) emissions measured in tonnes.\",\n",
    "    source_desc=\"Klimont et al. (2013)\"\n",
    ").interact(\n",
    "    entity_control=True\n",
    ")"
   ]
  }
 ],
 "metadata": {
  "kernelspec": {
   "display_name": "Python 3 (ipykernel)",
   "language": "python",
   "name": "python3"
  }
 },
 "nbformat": 4,
 "nbformat_minor": 5
}
