{
 "cells": [
  {
   "cell_type": "markdown",
   "id": "1fa90a6d",
   "metadata": {},
   "source": [
    "# Composition of tax revenues"
   ]
  },
  {
   "cell_type": "code",
   "execution_count": null,
   "id": "a3bcc33f",
   "metadata": {},
   "outputs": [],
   "source": [
    "import pandas as pd\n",
    "from owid import grapher, site"
   ]
  },
  {
   "cell_type": "code",
   "execution_count": null,
   "id": "f95a718b",
   "metadata": {},
   "outputs": [],
   "source": [
    "data = site.get_chart_data(slug=\"composition-of-tax-revenues-regional\")\n",
    "data.head()"
   ]
  },
  {
   "cell_type": "code",
   "execution_count": null,
   "id": "6858a4da",
   "metadata": {},
   "outputs": [],
   "source": [
    "grapher.Chart(\n",
    "    data[data.entity == \"Developing - All\"]\n",
    ").encode(\n",
    "    x=\"year\",\n",
    "    y=\"value\",\n",
    "    c=\"variable\"\n",
    ").label(\n",
    "    title=\"Composition of tax revenues\",\n",
    "    subtitle=\"Comparative composition of tax revenues, given as a share of GDP.\"\n",
    ").interact(\n",
    "    entity_control=True\n",
    ")"
   ]
  }
 ],
 "metadata": {
  "kernelspec": {
   "display_name": "Python 3 (ipykernel)",
   "language": "python",
   "name": "python3"
  }
 },
 "nbformat": 4,
 "nbformat_minor": 5
}
