{
 "cells": [
  {
   "cell_type": "markdown",
   "id": "4c864e7c",
   "metadata": {},
   "source": [
    "# Number of unsheltered homeless people in England (per 100,000 population)"
   ]
  },
  {
   "cell_type": "code",
   "execution_count": null,
   "id": "183d58d4",
   "metadata": {},
   "outputs": [],
   "source": [
    "import pandas as pd\n",
    "from owid import grapher, site"
   ]
  },
  {
   "cell_type": "code",
   "execution_count": null,
   "id": "3981870f",
   "metadata": {},
   "outputs": [],
   "source": [
    "data = site.get_chart_data(slug=\"number-of-unsheltered-homeless-people-per-100000-population\")\n",
    "data.head()"
   ]
  },
  {
   "cell_type": "code",
   "execution_count": null,
   "id": "ceef71c9",
   "metadata": {},
   "outputs": [],
   "source": [
    "grapher.Chart(\n",
    "    data\n",
    ").encode(\n",
    "    x=\"year\",\n",
    "    y=\"value\"\n",
    ").label(\n",
    "    title=\"Number of unsheltered homeless people in England (per 100,000 population)\",\n",
    "    subtitle=\"Estimated number of homeless people, per 100,000 people in the total population in England. Figures correspond to 'point-in-time' estimates obtained by counting 'rough sleepers' in autumn. Total population figures correspond to June.\"\n",
    ").interact(\n",
    "    entity_control=True\n",
    ")"
   ]
  }
 ],
 "metadata": {
  "kernelspec": {
   "display_name": "Python 3 (ipykernel)",
   "language": "python",
   "name": "python3"
  }
 },
 "nbformat": 4,
 "nbformat_minor": 5
}
