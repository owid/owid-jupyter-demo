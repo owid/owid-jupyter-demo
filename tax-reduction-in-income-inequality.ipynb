{
 "cells": [
  {
   "cell_type": "markdown",
   "id": "ec3bc606",
   "metadata": {},
   "source": [
    "# Tax reduction in income inequality"
   ]
  },
  {
   "cell_type": "code",
   "execution_count": null,
   "id": "4d11d062",
   "metadata": {},
   "outputs": [],
   "source": [
    "import pandas as pd\n",
    "from owid import grapher, site"
   ]
  },
  {
   "cell_type": "code",
   "execution_count": null,
   "id": "2c71d2ce",
   "metadata": {},
   "outputs": [],
   "source": [
    "data = site.get_chart_data(slug=\"tax-reduction-in-income-inequality\")\n",
    "data.head()"
   ]
  },
  {
   "cell_type": "code",
   "execution_count": null,
   "id": "f5c807ec",
   "metadata": {},
   "outputs": [],
   "source": [
    "grapher.Chart(\n",
    "    data\n",
    ").encode(\n",
    "    x=\"year\",\n",
    "    y=\"value\",\n",
    "    c=\"entity\"\n",
    ").select([\n",
    "    \"France\",\n",
    "    \"South Korea\",\n",
    "    \"Turkey\",\n",
    "    \"Japan\",\n",
    "    \"Netherlands\",\n",
    "    \"United Kingdom\",\n",
    "    \"United States\",\n",
    "    \"Denmark\",\n",
    "    \"Ireland\",\n",
    "    \"Switzerland\",\n",
    "    \"Mexico\"\n",
    "]).label(\n",
    "    title=\"Tax reduction in income inequality\",\n",
    "    subtitle=\"Percentage reduction in Gini coefficients before and after taxes and transfers.\"\n",
    ").interact(\n",
    "    entity_control=True\n",
    ")"
   ]
  }
 ],
 "metadata": {
  "kernelspec": {
   "display_name": "Python 3 (ipykernel)",
   "language": "python",
   "name": "python3"
  }
 },
 "nbformat": 4,
 "nbformat_minor": 5
}
