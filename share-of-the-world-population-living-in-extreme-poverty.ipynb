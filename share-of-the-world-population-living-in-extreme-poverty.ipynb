{
 "cells": [
  {
   "cell_type": "markdown",
   "id": "4d8c14cd",
   "metadata": {},
   "source": [
    "# Share of the world population living in extreme poverty"
   ]
  },
  {
   "cell_type": "code",
   "execution_count": null,
   "id": "e3dc7df6",
   "metadata": {},
   "outputs": [],
   "source": [
    "import pandas as pd\n",
    "from owid import grapher, site"
   ]
  },
  {
   "cell_type": "code",
   "execution_count": null,
   "id": "e8d7d7de",
   "metadata": {},
   "outputs": [],
   "source": [
    "data = site.get_chart_data(slug=\"share-of-the-world-population-living-in-extreme-poverty\")\n",
    "data.head()"
   ]
  },
  {
   "cell_type": "code",
   "execution_count": null,
   "id": "13f5b3ce",
   "metadata": {},
   "outputs": [],
   "source": [
    "grapher.Chart(\n",
    "    data\n",
    ").encode(\n",
    "    x=\"year\",\n",
    "    y=\"value\"\n",
    ").label(\n",
    "    title=\"Share of the world population living in extreme poverty\",\n",
    "    subtitle=\"Share of population living in below the International Poverty Line (1.90 International Dollars). Figures account for cross-country differences in prices levels, as well as for inflation. Projection for 2030 is based on the assumption that the average growth rates of consumption in all countries will be the same as the observed average growth rates from the previous 10 years.\",\n",
    "    note=\"The projected figure for 2030 also assumes that the dispersion in the distribution of consumption in each country remains unchanged from the most recent available data.\"\n",
    ").interact(\n",
    "    entity_control=True\n",
    ")"
   ]
  }
 ],
 "metadata": {
  "kernelspec": {
   "display_name": "Python 3 (ipykernel)",
   "language": "python",
   "name": "python3"
  }
 },
 "nbformat": 4,
 "nbformat_minor": 5
}
