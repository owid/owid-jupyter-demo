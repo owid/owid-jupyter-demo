{
 "cells": [
  {
   "cell_type": "markdown",
   "id": "a54097b8",
   "metadata": {},
   "source": [
    "# Global CO₂ atmospheric concentration"
   ]
  },
  {
   "cell_type": "code",
   "execution_count": null,
   "id": "34ae0a00",
   "metadata": {},
   "outputs": [],
   "source": [
    "import pandas as pd\n",
    "from owid import grapher, site"
   ]
  },
  {
   "cell_type": "code",
   "execution_count": null,
   "id": "2577944c",
   "metadata": {},
   "outputs": [],
   "source": [
    "data = site.get_chart_data(slug=\"global-co-concentration-ppm\")\n",
    "data.head()"
   ]
  },
  {
   "cell_type": "code",
   "execution_count": null,
   "id": "d3d8d5dc",
   "metadata": {},
   "outputs": [],
   "source": [
    "grapher.Chart(\n",
    "    data\n",
    ").encode(\n",
    "    x=\"year\",\n",
    "    y=\"value\"\n",
    ").select(\n",
    "    timespan=(1, None)\n",
    ").label(\n",
    "    title=\"Global CO₂ atmospheric concentration\",\n",
    "    subtitle=\"Global mean annual concentration of carbon dioxide (CO₂) measured in parts per million (ppm).\",\n",
    "    source_desc=\"NOAA/ESRL (2018)\"\n",
    ").interact(\n",
    "    entity_control=True\n",
    ")"
   ]
  }
 ],
 "metadata": {
  "kernelspec": {
   "display_name": "Python 3 (ipykernel)",
   "language": "python",
   "name": "python3"
  }
 },
 "nbformat": 4,
 "nbformat_minor": 5
}
