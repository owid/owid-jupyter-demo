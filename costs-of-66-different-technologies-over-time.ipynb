{
 "cells": [
  {
   "cell_type": "markdown",
   "id": "3bc71313",
   "metadata": {},
   "source": [
    "# Costs of 66 different technologies over time"
   ]
  },
  {
   "cell_type": "code",
   "execution_count": null,
   "id": "8cac905d",
   "metadata": {},
   "outputs": [],
   "source": [
    "import pandas as pd\n",
    "from owid import grapher, site"
   ]
  },
  {
   "cell_type": "code",
   "execution_count": null,
   "id": "7f331cf4",
   "metadata": {},
   "outputs": [],
   "source": [
    "data = site.get_chart_data(slug=\"costs-of-66-different-technologies-over-time\")\n",
    "data.head()"
   ]
  },
  {
   "cell_type": "code",
   "execution_count": null,
   "id": "c6633619",
   "metadata": {},
   "outputs": [],
   "source": [
    "grapher.Chart(\n",
    "    data\n",
    ").encode(\n",
    "    x=\"year\",\n",
    "    y=\"value\",\n",
    "    c=\"entity\"\n",
    ").select([\n",
    "    \"Wind Turbine (Denmark)\",\n",
    "    \"Caprolactam\",\n",
    "    \"PolyesterFiber\",\n",
    "    \"Photovoltaics\",\n",
    "    \"Ammonia\",\n",
    "    \"DNA Sequencing\",\n",
    "    \"Ethanol (Brazil)\",\n",
    "    \"Automotive (US)\",\n",
    "    \"Beer (Japan)\",\n",
    "    \"Aluminum\"\n",
    "]).label(\n",
    "    title=\"Costs of 66 different technologies over time\"\n",
    ").interact(\n",
    "    entity_control=True,\n",
    "    scale_control=True\n",
    ")"
   ]
  }
 ],
 "metadata": {
  "kernelspec": {
   "display_name": "Python 3 (ipykernel)",
   "language": "python",
   "name": "python3"
  }
 },
 "nbformat": 4,
 "nbformat_minor": 5
}
