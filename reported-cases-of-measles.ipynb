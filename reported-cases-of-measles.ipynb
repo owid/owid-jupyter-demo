{
 "cells": [
  {
   "cell_type": "markdown",
   "id": "517c2d8d",
   "metadata": {},
   "source": [
    "# Reported cases of measles"
   ]
  },
  {
   "cell_type": "code",
   "execution_count": null,
   "id": "affc3f6d",
   "metadata": {},
   "outputs": [],
   "source": [
    "import pandas as pd\n",
    "from owid import grapher, site"
   ]
  },
  {
   "cell_type": "code",
   "execution_count": null,
   "id": "de431f77",
   "metadata": {},
   "outputs": [],
   "source": [
    "data = site.get_chart_data(slug=\"reported-cases-of-measles\")\n",
    "data.head()"
   ]
  },
  {
   "cell_type": "code",
   "execution_count": null,
   "id": "ebac4bc6",
   "metadata": {},
   "outputs": [],
   "source": [
    "grapher.Chart(\n",
    "    data\n",
    ").encode(\n",
    "    x=\"year\",\n",
    "    y=\"value\"\n",
    ").select([\n",
    "    \"United States\"\n",
    "]).label(\n",
    "    title=\"Reported cases of measles\"\n",
    ").interact(\n",
    "    entity_control=True\n",
    ")"
   ]
  }
 ],
 "metadata": {
  "kernelspec": {
   "display_name": "Python 3 (ipykernel)",
   "language": "python",
   "name": "python3"
  }
 },
 "nbformat": 4,
 "nbformat_minor": 5
}
