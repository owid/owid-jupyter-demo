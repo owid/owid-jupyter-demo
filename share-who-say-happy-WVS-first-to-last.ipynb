{
 "cells": [
  {
   "cell_type": "markdown",
   "id": "8fca024d",
   "metadata": {},
   "source": [
    "# Share of people who say they are happy"
   ]
  },
  {
   "cell_type": "code",
   "execution_count": null,
   "id": "d697ac21",
   "metadata": {},
   "outputs": [],
   "source": [
    "import pandas as pd\n",
    "from owid import grapher, site"
   ]
  },
  {
   "cell_type": "code",
   "execution_count": null,
   "id": "d735e5e8",
   "metadata": {},
   "outputs": [],
   "source": [
    "data = site.get_chart_data(slug=\"share-who-say-happy-WVS-first-to-last\")\n",
    "data.head()"
   ]
  },
  {
   "cell_type": "code",
   "execution_count": null,
   "id": "34c7cc8b",
   "metadata": {},
   "outputs": [],
   "source": [
    "grapher.Chart(\n",
    "    data\n",
    ").encode(\n",
    "    x=\"year\",\n",
    "    y=\"value\",\n",
    "    c=\"entity\"\n",
    ").select([\n",
    "    \"Azerbaijan\",\n",
    "    \"Russia\",\n",
    "    \"Estonia\",\n",
    "    \"Brazil\",\n",
    "    \"Germany\",\n",
    "    \"Uruguay\",\n",
    "    \"Argentina\",\n",
    "    \"Zimbabwe\",\n",
    "    \"India\",\n",
    "    \"Sweden\",\n",
    "    \"Georgia\"\n",
    "]).label(\n",
    "    title=\"Share of people who say they are happy\",\n",
    "    subtitle=\"Share of people who say they are 'very happy' or 'rather happy'. Observations correspond to first and last available waves in World Value Survey\",\n",
    "    note=\"Full question asks: \"Taking all things together, would you say you are (i) Very happy, (ii) Rather happy, (iii) Not very happy, (iv) Not at all happy, or (v) Don't Know\".\"\n",
    ").interact(\n",
    "    entity_control=True,\n",
    "    enable_map=True\n",
    ")"
   ]
  }
 ],
 "metadata": {
  "kernelspec": {
   "display_name": "Python 3 (ipykernel)",
   "language": "python",
   "name": "python3"
  }
 },
 "nbformat": 4,
 "nbformat_minor": 5
}
