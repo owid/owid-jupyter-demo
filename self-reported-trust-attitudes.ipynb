{
 "cells": [
  {
   "cell_type": "markdown",
   "id": "f945243f",
   "metadata": {},
   "source": [
    "# Share of people agreeing with the statement \"most people can be trusted\""
   ]
  },
  {
   "cell_type": "code",
   "execution_count": null,
   "id": "8e70f25d",
   "metadata": {},
   "outputs": [],
   "source": [
    "import pandas as pd\n",
    "from owid import grapher, site"
   ]
  },
  {
   "cell_type": "code",
   "execution_count": null,
   "id": "fd646643",
   "metadata": {},
   "outputs": [],
   "source": [
    "data = site.get_chart_data(slug=\"self-reported-trust-attitudes\")\n",
    "data.head()"
   ]
  },
  {
   "cell_type": "code",
   "execution_count": null,
   "id": "7b14dbab",
   "metadata": {},
   "outputs": [],
   "source": [
    "grapher.Chart(\n",
    "    data\n",
    ").encode(\n",
    "    x=\"year\",\n",
    "    y=\"value\",\n",
    "    c=\"entity\"\n",
    ").select(\n",
    "    entities=[\"Pakistan\",\n",
    "        \"Brazil\",\n",
    "        \"United Kingdom\",\n",
    "        \"China\",\n",
    "        \"Colombia\",\n",
    "        \"Sweden\"],\n",
    "    timespan=(1993, None)\n",
    ").label(\n",
    "    title=\"Share of people agreeing with the statement \"most people can be trusted\"\",\n",
    "    subtitle=\"The survey question was \"Generally speaking, would you say that most people can be trusted or that you need to be very careful in dealing with people?\" Possible answers were \"Most people can be trusted\", \"Don't know\" and \"Can't be too careful\".\"\n",
    ").interact(\n",
    "    entity_control=True,\n",
    "    enable_map=True\n",
    ")"
   ]
  }
 ],
 "metadata": {
  "kernelspec": {
   "display_name": "Python 3 (ipykernel)",
   "language": "python",
   "name": "python3"
  }
 },
 "nbformat": 4,
 "nbformat_minor": 5
}
