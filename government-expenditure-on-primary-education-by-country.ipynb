{
 "cells": [
  {
   "cell_type": "markdown",
   "id": "a81b92a0",
   "metadata": {},
   "source": [
    "# Government expenditure on primary education by country"
   ]
  },
  {
   "cell_type": "code",
   "execution_count": null,
   "id": "7c763fed",
   "metadata": {},
   "outputs": [],
   "source": [
    "import pandas as pd\n",
    "from owid import grapher, site"
   ]
  },
  {
   "cell_type": "code",
   "execution_count": null,
   "id": "808b0631",
   "metadata": {},
   "outputs": [],
   "source": [
    "data = site.get_chart_data(slug=\"government-expenditure-on-primary-education-by-country\")\n",
    "data.head()"
   ]
  },
  {
   "cell_type": "code",
   "execution_count": null,
   "id": "13c3d1be",
   "metadata": {},
   "outputs": [],
   "source": [
    "grapher.Chart(\n",
    "    data\n",
    ").encode(\n",
    "    x=\"year\",\n",
    "    y=\"value\",\n",
    "    c=\"entity\"\n",
    ").select([\n",
    "    \"France\",\n",
    "    \"South Korea\",\n",
    "    \"Japan\",\n",
    "    \"Hong Kong\",\n",
    "    \"Brazil\",\n",
    "    \"Germany\",\n",
    "    \"United Kingdom\",\n",
    "    \"United States\",\n",
    "    \"India\"\n",
    "]).label(\n",
    "    title=\"Government expenditure on primary education by country\",\n",
    "    subtitle=\"Government expenditure per student as a percentage of GDP per capita.\"\n",
    ").interact(\n",
    "    entity_control=True\n",
    ")"
   ]
  }
 ],
 "metadata": {
  "kernelspec": {
   "display_name": "Python 3 (ipykernel)",
   "language": "python",
   "name": "python3"
  }
 },
 "nbformat": 4,
 "nbformat_minor": 5
}
