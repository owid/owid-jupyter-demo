{
 "cells": [
  {
   "cell_type": "markdown",
   "id": "95d020e5",
   "metadata": {},
   "source": [
    "# Public expenditure on healthcare as percent of total healthcare expenditure"
   ]
  },
  {
   "cell_type": "code",
   "execution_count": null,
   "id": "10f35adf",
   "metadata": {},
   "outputs": [],
   "source": [
    "import pandas as pd\n",
    "from owid import grapher, site"
   ]
  },
  {
   "cell_type": "code",
   "execution_count": null,
   "id": "de5b02be",
   "metadata": {},
   "outputs": [],
   "source": [
    "data = site.get_chart_data(slug=\"share-of-public-expenditure-on-healthcare-by-country\")\n",
    "data.head()"
   ]
  },
  {
   "cell_type": "code",
   "execution_count": null,
   "id": "44bec877",
   "metadata": {},
   "outputs": [],
   "source": [
    "grapher.Chart(\n",
    "    data\n",
    ").encode(\n",
    "    x=\"year\",\n",
    "    y=\"value\",\n",
    "    c=\"entity\"\n",
    ").select([\n",
    "    \"South Korea\",\n",
    "    \"Russia\",\n",
    "    \"United Kingdom\",\n",
    "    \"United States\",\n",
    "    \"China\",\n",
    "    \"India\"\n",
    "]).label(\n",
    "    title=\"Public expenditure on healthcare as percent of total healthcare expenditure\"\n",
    ").interact(\n",
    "    entity_control=True,\n",
    "    enable_map=True\n",
    ")"
   ]
  }
 ],
 "metadata": {
  "kernelspec": {
   "display_name": "Python 3 (ipykernel)",
   "language": "python",
   "name": "python3"
  }
 },
 "nbformat": 4,
 "nbformat_minor": 5
}
