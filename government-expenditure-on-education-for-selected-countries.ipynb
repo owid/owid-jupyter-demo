{
 "cells": [
  {
   "cell_type": "markdown",
   "id": "cd3ad34f",
   "metadata": {},
   "source": [
    "# Government expenditure on education"
   ]
  },
  {
   "cell_type": "code",
   "execution_count": null,
   "id": "f95d5ab8",
   "metadata": {},
   "outputs": [],
   "source": [
    "import pandas as pd\n",
    "from owid import grapher, site"
   ]
  },
  {
   "cell_type": "code",
   "execution_count": null,
   "id": "f8442062",
   "metadata": {},
   "outputs": [],
   "source": [
    "data = site.get_chart_data(slug=\"government-expenditure-on-education-for-selected-countries\")\n",
    "data.head()"
   ]
  },
  {
   "cell_type": "code",
   "execution_count": null,
   "id": "59263681",
   "metadata": {},
   "outputs": [],
   "source": [
    "grapher.Chart(\n",
    "    data\n",
    ").encode(\n",
    "    x=\"year\",\n",
    "    y=\"value\",\n",
    "    c=\"entity\"\n",
    ").select(\n",
    "    entities=[\"High-income countries\",\n",
    "        \"Pakistan\",\n",
    "        \"Ethiopia\",\n",
    "        \"Brazil\",\n",
    "        \"Colombia\",\n",
    "        \"India\"],\n",
    "    timespan=(earliest, latest)\n",
    ").label(\n",
    "    title=\"Government expenditure on education\",\n",
    "    subtitle=\"Government expenditure on education as share of GDP for selected low and middle income countries (plus average of high income countries)\"\n",
    ").interact(\n",
    "    entity_control=True\n",
    ")"
   ]
  }
 ],
 "metadata": {
  "kernelspec": {
   "display_name": "Python 3 (ipykernel)",
   "language": "python",
   "name": "python3"
  }
 },
 "nbformat": 4,
 "nbformat_minor": 5
}
