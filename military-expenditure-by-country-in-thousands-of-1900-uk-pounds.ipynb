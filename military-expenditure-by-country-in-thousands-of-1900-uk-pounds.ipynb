{
 "cells": [
  {
   "cell_type": "markdown",
   "id": "8235be90",
   "metadata": {},
   "source": [
    "# Military expenditure by country (in thousands of 1900 UK pounds)"
   ]
  },
  {
   "cell_type": "code",
   "execution_count": null,
   "id": "2e45702b",
   "metadata": {},
   "outputs": [],
   "source": [
    "import pandas as pd\n",
    "from owid import grapher, site"
   ]
  },
  {
   "cell_type": "code",
   "execution_count": null,
   "id": "71543d0c",
   "metadata": {},
   "outputs": [],
   "source": [
    "data = site.get_chart_data(slug=\"military-expenditure-by-country-in-thousands-of-1900-uk-pounds\")\n",
    "data.head()"
   ]
  },
  {
   "cell_type": "code",
   "execution_count": null,
   "id": "56a963bc",
   "metadata": {},
   "outputs": [],
   "source": [
    "grapher.Chart(\n",
    "    data\n",
    ").encode(\n",
    "    x=\"year\",\n",
    "    y=\"value\",\n",
    "    c=\"entity\"\n",
    ").select([\n",
    "    \"France\",\n",
    "    \"Italy\",\n",
    "    \"Germany\",\n",
    "    \"United Kingdom\",\n",
    "    \"United States\"\n",
    "]).label(\n",
    "    title=\"Military expenditure by country (in thousands of 1900 UK pounds)\"\n",
    ").interact(\n",
    "    entity_control=True\n",
    ")"
   ]
  }
 ],
 "metadata": {
  "kernelspec": {
   "display_name": "Python 3 (ipykernel)",
   "language": "python",
   "name": "python3"
  }
 },
 "nbformat": 4,
 "nbformat_minor": 5
}
