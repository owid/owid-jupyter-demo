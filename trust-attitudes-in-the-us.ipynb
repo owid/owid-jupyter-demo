{
 "cells": [
  {
   "cell_type": "markdown",
   "id": "d037cca6",
   "metadata": {},
   "source": [
    "# Share of people who think that \"most people can be trusted\""
   ]
  },
  {
   "cell_type": "code",
   "execution_count": null,
   "id": "e0bf19f8",
   "metadata": {},
   "outputs": [],
   "source": [
    "import pandas as pd\n",
    "from owid import grapher, site"
   ]
  },
  {
   "cell_type": "code",
   "execution_count": null,
   "id": "67132275",
   "metadata": {},
   "outputs": [],
   "source": [
    "data = site.get_chart_data(slug=\"trust-attitudes-in-the-us\")\n",
    "data.head()"
   ]
  },
  {
   "cell_type": "code",
   "execution_count": null,
   "id": "9ccbf73a",
   "metadata": {},
   "outputs": [],
   "source": [
    "grapher.Chart(\n",
    "    data\n",
    ").encode(\n",
    "    x=\"year\",\n",
    "    y=\"value\"\n",
    ").label(\n",
    "    title=\"Share of people who think that \"most people can be trusted\"\",\n",
    "    subtitle=\"Interpersonal trust in the USA\"\n",
    ").interact(\n",
    "    entity_control=True\n",
    ")"
   ]
  }
 ],
 "metadata": {
  "kernelspec": {
   "display_name": "Python 3 (ipykernel)",
   "language": "python",
   "name": "python3"
  }
 },
 "nbformat": 4,
 "nbformat_minor": 5
}
