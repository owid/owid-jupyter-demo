{
 "cells": [
  {
   "cell_type": "markdown",
   "id": "0da9c3ad",
   "metadata": {},
   "source": [
    "# GDP per capita in England"
   ]
  },
  {
   "cell_type": "code",
   "execution_count": null,
   "id": "97799270",
   "metadata": {},
   "outputs": [],
   "source": [
    "import pandas as pd\n",
    "from owid import grapher, site"
   ]
  },
  {
   "cell_type": "code",
   "execution_count": null,
   "id": "f5ce34ca",
   "metadata": {},
   "outputs": [],
   "source": [
    "data = site.get_chart_data(slug=\"GDP-per-capita-in-the-uk-since-1270\")\n",
    "data.head()"
   ]
  },
  {
   "cell_type": "code",
   "execution_count": null,
   "id": "bdd4f7a4",
   "metadata": {},
   "outputs": [],
   "source": [
    "grapher.Chart(\n",
    "    data\n",
    ").encode(\n",
    "    x=\"year\",\n",
    "    y=\"value\"\n",
    ").label(\n",
    "    title=\"GDP per capita in England\",\n",
    "    subtitle=\"Adjusted for inflation and measured in British Pounds in 2013 prices\",\n",
    "    source_desc=\"Broadberry, Campbell, Klein, Overton, and van Leeuwen (2015) via Bank of England (2020)\",\n",
    "    note=\"Data refers to England until 1700 and the UK from then onwards.\"\n",
    ").interact(\n",
    "    entity_control=True,\n",
    "    scale_control=True\n",
    ")"
   ]
  }
 ],
 "metadata": {
  "kernelspec": {
   "display_name": "Python 3 (ipykernel)",
   "language": "python",
   "name": "python3"
  }
 },
 "nbformat": 4,
 "nbformat_minor": 5
}
