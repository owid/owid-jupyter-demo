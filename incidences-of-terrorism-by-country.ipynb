{
 "cells": [
  {
   "cell_type": "markdown",
   "id": "539e61c9",
   "metadata": {},
   "source": [
    "# Incidences of terrorism by country"
   ]
  },
  {
   "cell_type": "code",
   "execution_count": null,
   "id": "127c1dc3",
   "metadata": {},
   "outputs": [],
   "source": [
    "import pandas as pd\n",
    "from owid import grapher, site"
   ]
  },
  {
   "cell_type": "code",
   "execution_count": null,
   "id": "4936ad0d",
   "metadata": {},
   "outputs": [],
   "source": [
    "data = site.get_chart_data(slug=\"incidences-of-terrorism-by-country\")\n",
    "data.head()"
   ]
  },
  {
   "cell_type": "code",
   "execution_count": null,
   "id": "6c59bd79",
   "metadata": {},
   "outputs": [],
   "source": [
    "grapher.Chart(\n",
    "    data\n",
    ").encode(\n",
    "    x=\"year\",\n",
    "    y=\"value\",\n",
    "    c=\"entity\"\n",
    ").select([\n",
    "    \"Spain\",\n",
    "    \"Kashmir\",\n",
    "    \"Israel\",\n",
    "    \"Palestine\",\n",
    "    \"Colombia\"\n",
    "]).label(\n",
    "    title=\"Incidences of terrorism by country\"\n",
    ").interact(\n",
    "    entity_control=True\n",
    ")"
   ]
  }
 ],
 "metadata": {
  "kernelspec": {
   "display_name": "Python 3 (ipykernel)",
   "language": "python",
   "name": "python3"
  }
 },
 "nbformat": 4,
 "nbformat_minor": 5
}
