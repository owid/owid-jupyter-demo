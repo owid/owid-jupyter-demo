{
 "cells": [
  {
   "cell_type": "markdown",
   "id": "975448b9",
   "metadata": {},
   "source": [
    "# Solar PV module prices"
   ]
  },
  {
   "cell_type": "code",
   "execution_count": null,
   "id": "5d0f6167",
   "metadata": {},
   "outputs": [],
   "source": [
    "import pandas as pd\n",
    "from owid import grapher, site"
   ]
  },
  {
   "cell_type": "code",
   "execution_count": null,
   "id": "c2aadd00",
   "metadata": {},
   "outputs": [],
   "source": [
    "data = site.get_chart_data(slug=\"solar-pv-prices\")\n",
    "data.head()"
   ]
  },
  {
   "cell_type": "code",
   "execution_count": null,
   "id": "df5fe7a6",
   "metadata": {},
   "outputs": [],
   "source": [
    "grapher.Chart(\n",
    "    data\n",
    ").encode(\n",
    "    x=\"year\",\n",
    "    y=\"value\"\n",
    ").label(\n",
    "    title=\"Solar PV module prices\",\n",
    "    subtitle=\"Global average price of solar photovoltaic (PV) modules, measured in 2019 US$ per Watt.\",\n",
    "    source_desc=\"LaFond et al. (2017) & IRENA Database\"\n",
    ").interact(\n",
    "    entity_control=True,\n",
    "    scale_control=True\n",
    ")"
   ]
  }
 ],
 "metadata": {
  "kernelspec": {
   "display_name": "Python 3 (ipykernel)",
   "language": "python",
   "name": "python3"
  }
 },
 "nbformat": 4,
 "nbformat_minor": 5
}
