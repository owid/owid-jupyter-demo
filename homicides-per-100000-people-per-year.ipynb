{
 "cells": [
  {
   "cell_type": "markdown",
   "id": "747f2fce",
   "metadata": {},
   "source": [
    "# Homicide rate"
   ]
  },
  {
   "cell_type": "code",
   "execution_count": null,
   "id": "2af4f9d2",
   "metadata": {},
   "outputs": [],
   "source": [
    "import pandas as pd\n",
    "from owid import grapher, site"
   ]
  },
  {
   "cell_type": "code",
   "execution_count": null,
   "id": "6623146a",
   "metadata": {},
   "outputs": [],
   "source": [
    "data = site.get_chart_data(slug=\"homicides-per-100000-people-per-year\")\n",
    "data.head()"
   ]
  },
  {
   "cell_type": "code",
   "execution_count": null,
   "id": "b38b0490",
   "metadata": {},
   "outputs": [],
   "source": [
    "grapher.Chart(\n",
    "    data\n",
    ").encode(\n",
    "    x=\"year\",\n",
    "    y=\"value\",\n",
    "    c=\"entity\"\n",
    ").select([\n",
    "    \"Germany\",\n",
    "    \"Italy\",\n",
    "    \"India\",\n",
    "    \"Switzerland\"\n",
    "]).label(\n",
    "    title=\"Homicide rate\",\n",
    "    subtitle=\"Homicides per 100,000 people year.\"\n",
    ").interact(\n",
    "    entity_control=True,\n",
    "    enable_map=True\n",
    ")"
   ]
  }
 ],
 "metadata": {
  "kernelspec": {
   "display_name": "Python 3 (ipykernel)",
   "language": "python",
   "name": "python3"
  }
 },
 "nbformat": 4,
 "nbformat_minor": 5
}
