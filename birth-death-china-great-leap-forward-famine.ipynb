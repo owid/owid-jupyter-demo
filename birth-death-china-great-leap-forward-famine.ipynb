{
 "cells": [
  {
   "cell_type": "markdown",
   "id": "6c350aa1",
   "metadata": {},
   "source": [
    "# Birth and Death Rates in China and how they were affected by the Great Leap Forward Famine (1959-1961)"
   ]
  },
  {
   "cell_type": "code",
   "execution_count": null,
   "id": "7fe65f32",
   "metadata": {},
   "outputs": [],
   "source": [
    "import pandas as pd\n",
    "from owid import grapher, site"
   ]
  },
  {
   "cell_type": "code",
   "execution_count": null,
   "id": "de8e74bb",
   "metadata": {},
   "outputs": [],
   "source": [
    "data = site.get_chart_data(slug=\"birth-death-china-great-leap-forward-famine\")\n",
    "data.head()"
   ]
  },
  {
   "cell_type": "code",
   "execution_count": null,
   "id": "c957cb20",
   "metadata": {},
   "outputs": [],
   "source": [
    "grapher.Chart(\n",
    "    data[data.entity == \"China\"]\n",
    ").encode(\n",
    "    x=\"year\",\n",
    "    y=\"value\",\n",
    "    c=\"variable\"\n",
    ").label(\n",
    "    title=\"Birth and Death Rates in China and how they were affected by the Great Leap Forward Famine (1959-1961)\",\n",
    "    subtitle=\"Both the birth and death rate are expressed per 1,000 of the population\",\n",
    "    source_desc=\"Brian Mitchell - International Historical Statistics\"\n",
    ").interact(\n",
    "    entity_control=True\n",
    ")"
   ]
  }
 ],
 "metadata": {
  "kernelspec": {
   "display_name": "Python 3 (ipykernel)",
   "language": "python",
   "name": "python3"
  }
 },
 "nbformat": 4,
 "nbformat_minor": 5
}
