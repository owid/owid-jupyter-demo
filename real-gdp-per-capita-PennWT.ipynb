{
 "cells": [
  {
   "cell_type": "markdown",
   "id": "fabacf6a",
   "metadata": {},
   "source": [
    "# Real GDP per capita"
   ]
  },
  {
   "cell_type": "code",
   "execution_count": null,
   "id": "31b45c27",
   "metadata": {},
   "outputs": [],
   "source": [
    "import pandas as pd\n",
    "from owid import grapher, site"
   ]
  },
  {
   "cell_type": "code",
   "execution_count": null,
   "id": "84c5b680",
   "metadata": {},
   "outputs": [],
   "source": [
    "data = site.get_chart_data(slug=\"real-gdp-per-capita-PennWT\")\n",
    "data.head()"
   ]
  },
  {
   "cell_type": "code",
   "execution_count": null,
   "id": "6ac06e1d",
   "metadata": {},
   "outputs": [],
   "source": [
    "grapher.Chart(\n",
    "    data\n",
    ").encode(\n",
    "    x=\"year\",\n",
    "    y=\"value\",\n",
    "    c=\"entity\"\n",
    ").select([\n",
    "    \"Germany\",\n",
    "    \"United States\"\n",
    "]).label(\n",
    "    title=\"Real GDP per capita\",\n",
    "    subtitle=\"GDP per capita is adjusted for price changes over time and between countries. It is expressed in 2011 international dollars.\",\n",
    "    source_desc=\"Feenstra et al. (2015) Penn World Table 9.1\"\n",
    ").interact(\n",
    "    entity_control=True,\n",
    "    scale_control=True,\n",
    "    enable_map=True\n",
    ")"
   ]
  }
 ],
 "metadata": {
  "kernelspec": {
   "display_name": "Python 3 (ipykernel)",
   "language": "python",
   "name": "python3"
  }
 },
 "nbformat": 4,
 "nbformat_minor": 5
}
