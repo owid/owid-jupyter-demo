{
 "cells": [
  {
   "cell_type": "markdown",
   "id": "f32fb2b5",
   "metadata": {},
   "source": [
    "# Public social spending as a share of GDP"
   ]
  },
  {
   "cell_type": "code",
   "execution_count": null,
   "id": "aae3303a",
   "metadata": {},
   "outputs": [],
   "source": [
    "import pandas as pd\n",
    "from owid import grapher, site"
   ]
  },
  {
   "cell_type": "code",
   "execution_count": null,
   "id": "990d8544",
   "metadata": {},
   "outputs": [],
   "source": [
    "data = site.get_chart_data(slug=\"social-spending-oecd-longrun\")\n",
    "data.head()"
   ]
  },
  {
   "cell_type": "code",
   "execution_count": null,
   "id": "c88808e4",
   "metadata": {},
   "outputs": [],
   "source": [
    "grapher.Chart(\n",
    "    data\n",
    ").encode(\n",
    "    x=\"year\",\n",
    "    y=\"value\",\n",
    "    c=\"entity\"\n",
    ").select([\n",
    "    \"Greece\",\n",
    "    \"Canada\",\n",
    "    \"Australia\",\n",
    "    \"Japan\",\n",
    "    \"United States\",\n",
    "    \"Sweden\",\n",
    "    \"Italy\",\n",
    "    \"Germany\",\n",
    "    \"Netherlands\",\n",
    "    \"France\",\n",
    "    \"United Kingdom\"\n",
    "]).label(\n",
    "    title=\"Public social spending as a share of GDP\",\n",
    "    subtitle=\"Social spending includes, among others, the following areas: health, old age, incapacity-related benefits, family, active labor market programmes, unemployment, and housing.\",\n",
    "    source_desc=\"Our World in Data based on OECD and Lindert (2004)\"\n",
    ").interact(\n",
    "    entity_control=True,\n",
    "    enable_map=True\n",
    ")"
   ]
  }
 ],
 "metadata": {
  "kernelspec": {
   "display_name": "Python 3 (ipykernel)",
   "language": "python",
   "name": "python3"
  }
 },
 "nbformat": 4,
 "nbformat_minor": 5
}
