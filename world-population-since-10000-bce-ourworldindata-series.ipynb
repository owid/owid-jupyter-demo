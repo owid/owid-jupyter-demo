{
 "cells": [
  {
   "cell_type": "markdown",
   "id": "797730d2",
   "metadata": {},
   "source": [
    "# World population since 10,000 BCE (OurWorldInData series)"
   ]
  },
  {
   "cell_type": "code",
   "execution_count": null,
   "id": "2d059eb4",
   "metadata": {},
   "outputs": [],
   "source": [
    "import pandas as pd\n",
    "from owid import grapher, site"
   ]
  },
  {
   "cell_type": "code",
   "execution_count": null,
   "id": "fbb0a0f9",
   "metadata": {},
   "outputs": [],
   "source": [
    "data = site.get_chart_data(slug=\"world-population-since-10000-bce-ourworldindata-series\")\n",
    "data.head()"
   ]
  },
  {
   "cell_type": "code",
   "execution_count": null,
   "id": "5ec73094",
   "metadata": {},
   "outputs": [],
   "source": [
    "grapher.Chart(\n",
    "    data\n",
    ").encode(\n",
    "    x=\"year\",\n",
    "    y=\"value\"\n",
    ").select([\n",
    "    \"Our World In Data\"\n",
    "]).label(\n",
    "    title=\"World population since 10,000 BCE (OurWorldInData series)\",\n",
    "    source_desc=\"History Database of the Global Environment (HYDE) (before 1900), UN Publication \"The World at Six Billion\" (1900-1940), UN World Population Prospects: 2019 Revision (1950-2019)\"\n",
    ").interact(\n",
    "    entity_control=True,\n",
    "    scale_control=True\n",
    ")"
   ]
  }
 ],
 "metadata": {
  "kernelspec": {
   "display_name": "Python 3 (ipykernel)",
   "language": "python",
   "name": "python3"
  }
 },
 "nbformat": 4,
 "nbformat_minor": 5
}
