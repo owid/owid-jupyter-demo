{
 "cells": [
  {
   "cell_type": "markdown",
   "id": "15d3d8f1",
   "metadata": {},
   "source": [
    "# Various measures of health expenditure as share of GDP"
   ]
  },
  {
   "cell_type": "code",
   "execution_count": null,
   "id": "88ac629c",
   "metadata": {},
   "outputs": [],
   "source": [
    "import pandas as pd\n",
    "from owid import grapher, site"
   ]
  },
  {
   "cell_type": "code",
   "execution_count": null,
   "id": "145b97f9",
   "metadata": {},
   "outputs": [],
   "source": [
    "data = site.get_chart_data(slug=\"various-measures-of-health-expenditure-as-share-of-gdp\")\n",
    "data.head()"
   ]
  },
  {
   "cell_type": "code",
   "execution_count": null,
   "id": "62f99f20",
   "metadata": {},
   "outputs": [],
   "source": [
    "grapher.Chart(\n",
    "    data[data.entity == \"United Kingdom\"]\n",
    ").encode(\n",
    "    x=\"year\",\n",
    "    y=\"value\",\n",
    "    c=\"variable\"\n",
    ").label(\n",
    "    title=\"Various measures of health expenditure as share of GDP\",\n",
    "    subtitle=\"Figures correspond to various sources of information regarding public expenditure on health care, as share of GDP. The series 'OWID extrapolated' was constructed using the other series (see Source tab for details).\"\n",
    ").interact(\n",
    "    entity_control=True\n",
    ")"
   ]
  }
 ],
 "metadata": {
  "kernelspec": {
   "display_name": "Python 3 (ipykernel)",
   "language": "python",
   "name": "python3"
  }
 },
 "nbformat": 4,
 "nbformat_minor": 5
}
