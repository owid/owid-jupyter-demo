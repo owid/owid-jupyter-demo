{
 "cells": [
  {
   "cell_type": "markdown",
   "id": "ddaef390",
   "metadata": {},
   "source": [
    "# Share of working children who work only"
   ]
  },
  {
   "cell_type": "code",
   "execution_count": null,
   "id": "ec69578c",
   "metadata": {},
   "outputs": [],
   "source": [
    "import pandas as pd\n",
    "from owid import grapher, site"
   ]
  },
  {
   "cell_type": "code",
   "execution_count": null,
   "id": "780e745c",
   "metadata": {},
   "outputs": [],
   "source": [
    "data = site.get_chart_data(slug=\"share-of-working-children-who-work-only\")\n",
    "data.head()"
   ]
  },
  {
   "cell_type": "code",
   "execution_count": null,
   "id": "6f76226e",
   "metadata": {},
   "outputs": [],
   "source": [
    "grapher.Chart(\n",
    "    data\n",
    ").encode(\n",
    "    x=\"year\",\n",
    "    y=\"value\",\n",
    "    c=\"entity\"\n",
    ").select([\n",
    "    \"Nepal\",\n",
    "    \"Chad\",\n",
    "    \"Ethiopia\",\n",
    "    \"Brazil\",\n",
    "    \"Colombia\",\n",
    "    \"Cameroon\"\n",
    "]).label(\n",
    "    title=\"Share of working children who work only\",\n",
    "    subtitle=\"Children ages 7-14 involved in economic activity and not attending school, as a share of all children in economic activity.\"\n",
    ").interact(\n",
    "    entity_control=True,\n",
    "    enable_map=True\n",
    ")"
   ]
  }
 ],
 "metadata": {
  "kernelspec": {
   "display_name": "Python 3 (ipykernel)",
   "language": "python",
   "name": "python3"
  }
 },
 "nbformat": 4,
 "nbformat_minor": 5
}
