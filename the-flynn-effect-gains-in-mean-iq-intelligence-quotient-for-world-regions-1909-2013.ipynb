{
 "cells": [
  {
   "cell_type": "markdown",
   "id": "8e0c7ae7",
   "metadata": {},
   "source": [
    "# The Flynn Effect: Gains in mean IQ for world regions"
   ]
  },
  {
   "cell_type": "code",
   "execution_count": null,
   "id": "223efa48",
   "metadata": {},
   "outputs": [],
   "source": [
    "import pandas as pd\n",
    "from owid import grapher, site"
   ]
  },
  {
   "cell_type": "code",
   "execution_count": null,
   "id": "d4b1eb5f",
   "metadata": {},
   "outputs": [],
   "source": [
    "data = site.get_chart_data(slug=\"the-flynn-effect-gains-in-mean-iq-intelligence-quotient-for-world-regions-1909-2013\")\n",
    "data.head()"
   ]
  },
  {
   "cell_type": "code",
   "execution_count": null,
   "id": "a2030f37",
   "metadata": {},
   "outputs": [],
   "source": [
    "grapher.Chart(\n",
    "    data\n",
    ").encode(\n",
    "    x=\"year\",\n",
    "    y=\"value\",\n",
    "    c=\"entity\"\n",
    ").label(\n",
    "    title=\"The Flynn Effect: Gains in mean IQ for world regions\",\n",
    "    subtitle=\"Gain in mean fullscale IQ (Intelligence quotient) for world regions.\",\n",
    "    note=\"This only shows how quickly advances were being made. Cross-country comparisons are of limited usefulness in this context since the data is incomplete.\"\n",
    ").interact(\n",
    "    entity_control=True\n",
    ")"
   ]
  }
 ],
 "metadata": {
  "kernelspec": {
   "display_name": "Python 3 (ipykernel)",
   "language": "python",
   "name": "python3"
  }
 },
 "nbformat": 4,
 "nbformat_minor": 5
}
