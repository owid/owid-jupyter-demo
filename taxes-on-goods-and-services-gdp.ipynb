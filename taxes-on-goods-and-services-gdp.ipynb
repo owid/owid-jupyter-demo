{
 "cells": [
  {
   "cell_type": "markdown",
   "id": "44591949",
   "metadata": {},
   "source": [
    "# Taxes on goods  and services"
   ]
  },
  {
   "cell_type": "code",
   "execution_count": null,
   "id": "44532068",
   "metadata": {},
   "outputs": [],
   "source": [
    "import pandas as pd\n",
    "from owid import grapher, site"
   ]
  },
  {
   "cell_type": "code",
   "execution_count": null,
   "id": "3c4ac862",
   "metadata": {},
   "outputs": [],
   "source": [
    "data = site.get_chart_data(slug=\"taxes-on-goods-and-services-gdp\")\n",
    "data.head()"
   ]
  },
  {
   "cell_type": "code",
   "execution_count": null,
   "id": "21f8eeca",
   "metadata": {},
   "outputs": [],
   "source": [
    "grapher.Chart(\n",
    "    data\n",
    ").encode(\n",
    "    x=\"year\",\n",
    "    y=\"value\",\n",
    "    c=\"entity\"\n",
    ").select([\n",
    "    \"Germany\",\n",
    "    \"Venezuela\",\n",
    "    \"Afghanistan\",\n",
    "    \"Nigeria\",\n",
    "    \"India\",\n",
    "    \"Austria\"\n",
    "]).label(\n",
    "    title=\"Taxes on goods and services\",\n",
    "    subtitle=\"Taxes on goods and services (including sales taxes, value added taxes and excise duties), expressed as share of GDP.\"\n",
    ").interact(\n",
    "    entity_control=True,\n",
    "    enable_map=True\n",
    ")"
   ]
  }
 ],
 "metadata": {
  "kernelspec": {
   "display_name": "Python 3 (ipykernel)",
   "language": "python",
   "name": "python3"
  }
 },
 "nbformat": 4,
 "nbformat_minor": 5
}
