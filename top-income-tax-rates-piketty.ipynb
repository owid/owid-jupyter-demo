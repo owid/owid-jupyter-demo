{
 "cells": [
  {
   "cell_type": "markdown",
   "id": "ba1c9d16",
   "metadata": {},
   "source": [
    "# Top marginal income tax rate"
   ]
  },
  {
   "cell_type": "code",
   "execution_count": null,
   "id": "1fb26ed8",
   "metadata": {},
   "outputs": [],
   "source": [
    "import pandas as pd\n",
    "from owid import grapher, site"
   ]
  },
  {
   "cell_type": "code",
   "execution_count": null,
   "id": "332d971f",
   "metadata": {},
   "outputs": [],
   "source": [
    "data = site.get_chart_data(slug=\"top-income-tax-rates-piketty\")\n",
    "data.head()"
   ]
  },
  {
   "cell_type": "code",
   "execution_count": null,
   "id": "abdcbe41",
   "metadata": {},
   "outputs": [],
   "source": [
    "grapher.Chart(\n",
    "    data\n",
    ").encode(\n",
    "    x=\"year\",\n",
    "    y=\"value\",\n",
    "    c=\"entity\"\n",
    ").label(\n",
    "    title=\"Top marginal income tax rate\",\n",
    "    subtitle=\"Top marginal tax rate of the income tax (i.e. the maximum rate of taxation applied to the highest part of income)\",\n",
    "    source_desc=\"World Inequality Report (2018)\"\n",
    ").interact(\n",
    "    entity_control=True\n",
    ")"
   ]
  }
 ],
 "metadata": {
  "kernelspec": {
   "display_name": "Python 3 (ipykernel)",
   "language": "python",
   "name": "python3"
  }
 },
 "nbformat": 4,
 "nbformat_minor": 5
}
