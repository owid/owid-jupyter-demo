{
 "cells": [
  {
   "cell_type": "markdown",
   "id": "c597988b",
   "metadata": {},
   "source": [
    "# World GDP over the last two millennia"
   ]
  },
  {
   "cell_type": "code",
   "execution_count": null,
   "id": "15f6b3db",
   "metadata": {},
   "outputs": [],
   "source": [
    "import pandas as pd\n",
    "from owid import grapher, site"
   ]
  },
  {
   "cell_type": "code",
   "execution_count": null,
   "id": "58489ed7",
   "metadata": {},
   "outputs": [],
   "source": [
    "data = site.get_chart_data(slug=\"world-gdp-over-the-last-two-millennia\")\n",
    "data.head()"
   ]
  },
  {
   "cell_type": "code",
   "execution_count": null,
   "id": "4dd2fee7",
   "metadata": {},
   "outputs": [],
   "source": [
    "grapher.Chart(\n",
    "    data\n",
    ").encode(\n",
    "    x=\"year\",\n",
    "    y=\"value\"\n",
    ").label(\n",
    "    title=\"World GDP over the last two millennia\",\n",
    "    subtitle=\"Total output of the world economy; adjusted for inflation and expressed in international-$ in 2011 prices.\"\n",
    ").interact(\n",
    "    entity_control=True,\n",
    "    scale_control=True\n",
    ")"
   ]
  }
 ],
 "metadata": {
  "kernelspec": {
   "display_name": "Python 3 (ipykernel)",
   "language": "python",
   "name": "python3"
  }
 },
 "nbformat": 4,
 "nbformat_minor": 5
}
