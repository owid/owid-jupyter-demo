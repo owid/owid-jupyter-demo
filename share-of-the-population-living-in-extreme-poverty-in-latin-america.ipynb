{
 "cells": [
  {
   "cell_type": "markdown",
   "id": "5353d377",
   "metadata": {},
   "source": [
    "# Share of the population living in extreme poverty in Latin America"
   ]
  },
  {
   "cell_type": "code",
   "execution_count": null,
   "id": "54eba0f9",
   "metadata": {},
   "outputs": [],
   "source": [
    "import pandas as pd\n",
    "from owid import grapher, site"
   ]
  },
  {
   "cell_type": "code",
   "execution_count": null,
   "id": "9c21b473",
   "metadata": {},
   "outputs": [],
   "source": [
    "data = site.get_chart_data(slug=\"share-of-the-population-living-in-extreme-poverty-in-latin-america\")\n",
    "data.head()"
   ]
  },
  {
   "cell_type": "code",
   "execution_count": null,
   "id": "d21329f1",
   "metadata": {},
   "outputs": [],
   "source": [
    "grapher.Chart(\n",
    "    data\n",
    ").encode(\n",
    "    x=\"year\",\n",
    "    y=\"value\",\n",
    "    c=\"entity\"\n",
    ").select(\n",
    "    entities=[\"Chile\",\n",
    "        \"Peru\",\n",
    "        \"Brazil\",\n",
    "        \"Paraguay\",\n",
    "        \"Bolivia\",\n",
    "        \"Colombia\",\n",
    "        \"Ecuador\",\n",
    "        \"Argentina\"],\n",
    "    timespan=(2000, 2013)\n",
    ").label(\n",
    "    title=\"Share of the population living in extreme poverty in Latin America\",\n",
    "    subtitle=\"Extreme poverty is defined as living with an income of less than 1.90$ per day. All incomes are adjusted for inflation over time and for price differences between countries and expressed in 2011 PPP international dollars.\"\n",
    ").interact(\n",
    "    entity_control=True\n",
    ")"
   ]
  }
 ],
 "metadata": {
  "kernelspec": {
   "display_name": "Python 3 (ipykernel)",
   "language": "python",
   "name": "python3"
  }
 },
 "nbformat": 4,
 "nbformat_minor": 5
}
