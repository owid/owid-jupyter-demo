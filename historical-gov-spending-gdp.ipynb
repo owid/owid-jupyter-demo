{
 "cells": [
  {
   "cell_type": "markdown",
   "id": "51e7bc50",
   "metadata": {},
   "source": [
    "# Government spending"
   ]
  },
  {
   "cell_type": "code",
   "execution_count": null,
   "id": "3ebb276a",
   "metadata": {},
   "outputs": [],
   "source": [
    "import pandas as pd\n",
    "from owid import grapher, site"
   ]
  },
  {
   "cell_type": "code",
   "execution_count": null,
   "id": "d68d70d2",
   "metadata": {},
   "outputs": [],
   "source": [
    "data = site.get_chart_data(slug=\"historical-gov-spending-gdp\")\n",
    "data.head()"
   ]
  },
  {
   "cell_type": "code",
   "execution_count": null,
   "id": "bec31b0e",
   "metadata": {},
   "outputs": [],
   "source": [
    "grapher.Chart(\n",
    "    data\n",
    ").encode(\n",
    "    x=\"year\",\n",
    "    y=\"value\",\n",
    "    c=\"entity\"\n",
    ").select([\n",
    "    \"Japan\",\n",
    "    \"Germany\",\n",
    "    \"United States\",\n",
    "    \"United Kingdom\"\n",
    "]).label(\n",
    "    title=\"Government spending\",\n",
    "    subtitle=\"Total government spending, including interest government expenditures, as share of national GDP\"\n",
    ").interact(\n",
    "    entity_control=True,\n",
    "    enable_map=True\n",
    ")"
   ]
  }
 ],
 "metadata": {
  "kernelspec": {
   "display_name": "Python 3 (ipykernel)",
   "language": "python",
   "name": "python3"
  }
 },
 "nbformat": 4,
 "nbformat_minor": 5
}
