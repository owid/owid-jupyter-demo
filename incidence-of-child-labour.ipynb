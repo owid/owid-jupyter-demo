{
 "cells": [
  {
   "cell_type": "markdown",
   "id": "a4172742",
   "metadata": {},
   "source": [
    "# Share of children in employment"
   ]
  },
  {
   "cell_type": "code",
   "execution_count": null,
   "id": "62d0f14c",
   "metadata": {},
   "outputs": [],
   "source": [
    "import pandas as pd\n",
    "from owid import grapher, site"
   ]
  },
  {
   "cell_type": "code",
   "execution_count": null,
   "id": "ed8b26cc",
   "metadata": {},
   "outputs": [],
   "source": [
    "data = site.get_chart_data(slug=\"incidence-of-child-labour\")\n",
    "data.head()"
   ]
  },
  {
   "cell_type": "code",
   "execution_count": null,
   "id": "9c08a445",
   "metadata": {},
   "outputs": [],
   "source": [
    "grapher.Chart(\n",
    "    data\n",
    ").encode(\n",
    "    x=\"year\",\n",
    "    y=\"value\",\n",
    "    c=\"entity\"\n",
    ").select([\n",
    "    \"Nepal\",\n",
    "    \"Philippines\",\n",
    "    \"Turkey\",\n",
    "    \"Uganda\",\n",
    "    \"Brazil\",\n",
    "    \"Vietnam\"\n",
    "]).label(\n",
    "    title=\"Share of children in employment\",\n",
    "    subtitle=\"Share of children ages 7-14 involved in economic activity for at least one hour in the reference week of the corresponding survey (irrespective of school attendance)\"\n",
    ").interact(\n",
    "    entity_control=True,\n",
    "    enable_map=True\n",
    ")"
   ]
  }
 ],
 "metadata": {
  "kernelspec": {
   "display_name": "Python 3 (ipykernel)",
   "language": "python",
   "name": "python3"
  }
 },
 "nbformat": 4,
 "nbformat_minor": 5
}
