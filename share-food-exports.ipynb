{
 "cells": [
  {
   "cell_type": "markdown",
   "id": "5bb16479",
   "metadata": {},
   "source": [
    "# Share of food products in total merchandise exports"
   ]
  },
  {
   "cell_type": "code",
   "execution_count": null,
   "id": "643f4195",
   "metadata": {},
   "outputs": [],
   "source": [
    "import pandas as pd\n",
    "from owid import grapher, site"
   ]
  },
  {
   "cell_type": "code",
   "execution_count": null,
   "id": "e1fcfddc",
   "metadata": {},
   "outputs": [],
   "source": [
    "data = site.get_chart_data(slug=\"share-food-exports\")\n",
    "data.head()"
   ]
  },
  {
   "cell_type": "code",
   "execution_count": null,
   "id": "fb2cf695",
   "metadata": {},
   "outputs": [],
   "source": [
    "grapher.Chart(\n",
    "    data\n",
    ").encode(\n",
    "    x=\"year\",\n",
    "    y=\"value\",\n",
    "    c=\"entity\"\n",
    ").select([\n",
    "    \"France\",\n",
    "    \"Russia\",\n",
    "    \"Italy\",\n",
    "    \"Brazil\",\n",
    "    \"Colombia\"\n",
    "]).label(\n",
    "    title=\"Share of food products in total merchandise exports\",\n",
    "    subtitle=\"Food exports (% of merchandise exports), as per Standard International Trade Classification of products.\"\n",
    ").interact(\n",
    "    entity_control=True,\n",
    "    enable_map=True\n",
    ")"
   ]
  }
 ],
 "metadata": {
  "kernelspec": {
   "display_name": "Python 3 (ipykernel)",
   "language": "python",
   "name": "python3"
  }
 },
 "nbformat": 4,
 "nbformat_minor": 5
}
