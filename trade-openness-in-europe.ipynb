{
 "cells": [
  {
   "cell_type": "markdown",
   "id": "4192a32f",
   "metadata": {},
   "source": [
    "# Trade openness in Europe"
   ]
  },
  {
   "cell_type": "code",
   "execution_count": null,
   "id": "5b7a8176",
   "metadata": {},
   "outputs": [],
   "source": [
    "import pandas as pd\n",
    "from owid import grapher, site"
   ]
  },
  {
   "cell_type": "code",
   "execution_count": null,
   "id": "f1ed116f",
   "metadata": {},
   "outputs": [],
   "source": [
    "data = site.get_chart_data(slug=\"trade-openness-in-europe\")\n",
    "data.head()"
   ]
  },
  {
   "cell_type": "code",
   "execution_count": null,
   "id": "1399c5a7",
   "metadata": {},
   "outputs": [],
   "source": [
    "grapher.Chart(\n",
    "    data\n",
    ").encode(\n",
    "    x=\"year\",\n",
    "    y=\"value\",\n",
    "    c=\"entity\"\n",
    ").select([\n",
    "    \"France\",\n",
    "    \"Spain\",\n",
    "    \"Italy\",\n",
    "    \"Germany\",\n",
    "    \"United Kingdom\",\n",
    "    \"Sweden\"\n",
    "]).label(\n",
    "    title=\"Trade openness in Europe\",\n",
    "    subtitle=\"Shown is the sum of exports and imports as a share of GDP\"\n",
    ").interact(\n",
    "    entity_control=True,\n",
    "    enable_map=True\n",
    ")"
   ]
  }
 ],
 "metadata": {
  "kernelspec": {
   "display_name": "Python 3 (ipykernel)",
   "language": "python",
   "name": "python3"
  }
 },
 "nbformat": 4,
 "nbformat_minor": 5
}
