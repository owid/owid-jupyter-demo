{
 "cells": [
  {
   "cell_type": "markdown",
   "id": "f7e02ac1",
   "metadata": {},
   "source": [
    "# The decline of transport and communication costs relative to 1930"
   ]
  },
  {
   "cell_type": "code",
   "execution_count": null,
   "id": "f17c366a",
   "metadata": {},
   "outputs": [],
   "source": [
    "import pandas as pd\n",
    "from owid import grapher, site"
   ]
  },
  {
   "cell_type": "code",
   "execution_count": null,
   "id": "3348af8d",
   "metadata": {},
   "outputs": [],
   "source": [
    "data = site.get_chart_data(slug=\"real-transport-and-communication-costs\")\n",
    "data.head()"
   ]
  },
  {
   "cell_type": "code",
   "execution_count": null,
   "id": "f941b908",
   "metadata": {},
   "outputs": [],
   "source": [
    "grapher.Chart(\n",
    "    data[data.entity == \"World\"]\n",
    ").encode(\n",
    "    x=\"year\",\n",
    "    y=\"value\",\n",
    "    c=\"variable\"\n",
    ").label(\n",
    "    title=\"The decline of transport and communication costs relative to 1930\",\n",
    "    subtitle=\"Sea freight corresponds to average international freight charges per tonne. Passenger air transport corresponds to average airline revenue per passenger mile until 2000 spliced to US import air passenger fares afterwards. International calls correspond to cost of a three-minute call from New York to London.\"\n",
    ").interact(\n",
    "    entity_control=True\n",
    ")"
   ]
  }
 ],
 "metadata": {
  "kernelspec": {
   "display_name": "Python 3 (ipykernel)",
   "language": "python",
   "name": "python3"
  }
 },
 "nbformat": 4,
 "nbformat_minor": 5
}
