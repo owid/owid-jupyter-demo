{
 "cells": [
  {
   "cell_type": "markdown",
   "id": "7a6dbb9f",
   "metadata": {},
   "source": [
    "# Wages in the Manufacturing Sector vs. Several Food Prices USA"
   ]
  },
  {
   "cell_type": "code",
   "execution_count": null,
   "id": "83900678",
   "metadata": {},
   "outputs": [],
   "source": [
    "import pandas as pd\n",
    "from owid import grapher, site"
   ]
  },
  {
   "cell_type": "code",
   "execution_count": null,
   "id": "cfe08c76",
   "metadata": {},
   "outputs": [],
   "source": [
    "data = site.get_chart_data(slug=\"wages-in-the-manufacturing-sector-vs-several-food-prices-usa\")\n",
    "data.head()"
   ]
  },
  {
   "cell_type": "code",
   "execution_count": null,
   "id": "aaed4f6e",
   "metadata": {},
   "outputs": [],
   "source": [
    "grapher.Chart(\n",
    "    data\n",
    ").encode(\n",
    "    x=\"year\",\n",
    "    y=\"value\",\n",
    "    c=\"entity\"\n",
    ").label(\n",
    "    title=\"Wages in the Manufacturing Sector vs. Several Food Prices USA\"\n",
    ").interact(\n",
    "    entity_control=True\n",
    ")"
   ]
  }
 ],
 "metadata": {
  "kernelspec": {
   "display_name": "Python 3 (ipykernel)",
   "language": "python",
   "name": "python3"
  }
 },
 "nbformat": 4,
 "nbformat_minor": 5
}
