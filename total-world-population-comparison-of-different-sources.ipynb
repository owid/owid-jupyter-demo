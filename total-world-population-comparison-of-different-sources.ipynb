{
 "cells": [
  {
   "cell_type": "markdown",
   "id": "9ee2cab1",
   "metadata": {},
   "source": [
    "# Total World Population – Comparison of different sources"
   ]
  },
  {
   "cell_type": "code",
   "execution_count": null,
   "id": "89a5c024",
   "metadata": {},
   "outputs": [],
   "source": [
    "import pandas as pd\n",
    "from owid import grapher, site"
   ]
  },
  {
   "cell_type": "code",
   "execution_count": null,
   "id": "55cc2a6c",
   "metadata": {},
   "outputs": [],
   "source": [
    "data = site.get_chart_data(slug=\"total-world-population-comparison-of-different-sources\")\n",
    "data.head()"
   ]
  },
  {
   "cell_type": "code",
   "execution_count": null,
   "id": "78245038",
   "metadata": {},
   "outputs": [],
   "source": [
    "grapher.Chart(\n",
    "    data\n",
    ").encode(\n",
    "    x=\"year\",\n",
    "    y=\"value\",\n",
    "    c=\"entity\"\n",
    ").select([\n",
    "    \"Tuve (1976)\",\n",
    "    \"Durand (1974), upper\",\n",
    "    \"Thomlinson (1975), upper\",\n",
    "    \"Durand (1974), lower\",\n",
    "    \"McEvedy and Jones (1978)\"\n",
    "]).label(\n",
    "    title=\"Total World Population – Comparison of different sources\",\n",
    "    subtitle=\"This chart compares estimates of the world population published by different sources.\"\n",
    ").interact(\n",
    "    entity_control=True\n",
    ")"
   ]
  }
 ],
 "metadata": {
  "kernelspec": {
   "display_name": "Python 3 (ipykernel)",
   "language": "python",
   "name": "python3"
  }
 },
 "nbformat": 4,
 "nbformat_minor": 5
}
