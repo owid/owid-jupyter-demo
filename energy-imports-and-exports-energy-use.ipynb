{
 "cells": [
  {
   "cell_type": "markdown",
   "id": "a5a69916",
   "metadata": {},
   "source": [
    "# Energy imports and exports"
   ]
  },
  {
   "cell_type": "code",
   "execution_count": null,
   "id": "c5979379",
   "metadata": {},
   "outputs": [],
   "source": [
    "import pandas as pd\n",
    "from owid import grapher, site"
   ]
  },
  {
   "cell_type": "code",
   "execution_count": null,
   "id": "f70d75aa",
   "metadata": {},
   "outputs": [],
   "source": [
    "data = site.get_chart_data(slug=\"energy-imports-and-exports-energy-use\")\n",
    "data.head()"
   ]
  },
  {
   "cell_type": "code",
   "execution_count": null,
   "id": "a7bfed35",
   "metadata": {},
   "outputs": [],
   "source": [
    "grapher.Chart(\n",
    "    data\n",
    ").encode(\n",
    "    x=\"year\",\n",
    "    y=\"value\",\n",
    "    c=\"entity\"\n",
    ").select(\n",
    "    entities=[\"Upper middle income\",\n",
    "        \"High income\",\n",
    "        \"Lower middle income\",\n",
    "        \"Middle income\",\n",
    "        \"Low income\"],\n",
    "    timespan=(2014, None)\n",
    ").label(\n",
    "    title=\"Energy imports and exports\",\n",
    "    subtitle=\"Energy trade, measured as the percentage of energy use. Positive values indicate a country or region is a net importer of energy. Negative numbers indicate a country or region is a net exporter\",\n",
    "    source_desc=\"International Energy Agency (IEA) via The World Bank\"\n",
    ").interact(\n",
    "    entity_control=True\n",
    ")"
   ]
  }
 ],
 "metadata": {
  "kernelspec": {
   "display_name": "Python 3 (ipykernel)",
   "language": "python",
   "name": "python3"
  }
 },
 "nbformat": 4,
 "nbformat_minor": 5
}
