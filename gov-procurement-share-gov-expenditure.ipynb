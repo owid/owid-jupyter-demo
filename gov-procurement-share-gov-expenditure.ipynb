{
 "cells": [
  {
   "cell_type": "markdown",
   "id": "cacd5b4e",
   "metadata": {},
   "source": [
    "# Government procurement as share of government expenditure, OECD"
   ]
  },
  {
   "cell_type": "code",
   "execution_count": null,
   "id": "a2e3f146",
   "metadata": {},
   "outputs": [],
   "source": [
    "import pandas as pd\n",
    "from owid import grapher, site"
   ]
  },
  {
   "cell_type": "code",
   "execution_count": null,
   "id": "f02d10ea",
   "metadata": {},
   "outputs": [],
   "source": [
    "data = site.get_chart_data(slug=\"gov-procurement-share-gov-expenditure\")\n",
    "data.head()"
   ]
  },
  {
   "cell_type": "code",
   "execution_count": null,
   "id": "c43abc4c",
   "metadata": {},
   "outputs": [],
   "source": [
    "grapher.Chart(\n",
    "    data\n",
    ").encode(\n",
    "    x=\"year\",\n",
    "    y=\"value\",\n",
    "    c=\"entity\"\n",
    ").select([\n",
    "    \"South Korea\",\n",
    "    \"Netherlands\",\n",
    "    \"United Kingdom\",\n",
    "    \"United States\",\n",
    "    \"Greece\"\n",
    "]).label(\n",
    "    title=\"Government procurement as share of government expenditure, OECD\",\n",
    "    subtitle=\"General government procurement is defined as the sum of intermediate consumption (e.g. accounting services), gross fixed capital formation (e.g. new roads) and social transfers in kind via market producers (purchases by general government of goods/services produced by markets and supplied to households). Figures include expenditures for central, state and local governments.\"\n",
    ").interact(\n",
    "    entity_control=True\n",
    ")"
   ]
  }
 ],
 "metadata": {
  "kernelspec": {
   "display_name": "Python 3 (ipykernel)",
   "language": "python",
   "name": "python3"
  }
 },
 "nbformat": 4,
 "nbformat_minor": 5
}
