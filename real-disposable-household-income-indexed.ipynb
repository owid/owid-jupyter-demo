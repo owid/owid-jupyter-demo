{
 "cells": [
  {
   "cell_type": "markdown",
   "id": "52515764",
   "metadata": {},
   "source": [
    "# Growth of Real Disposable Household Income by Decile"
   ]
  },
  {
   "cell_type": "code",
   "execution_count": null,
   "id": "d0227895",
   "metadata": {},
   "outputs": [],
   "source": [
    "import pandas as pd\n",
    "from owid import grapher, site"
   ]
  },
  {
   "cell_type": "code",
   "execution_count": null,
   "id": "fc3c99aa",
   "metadata": {},
   "outputs": [],
   "source": [
    "data = site.get_chart_data(slug=\"real-disposable-household-income-indexed\")\n",
    "data.head()"
   ]
  },
  {
   "cell_type": "code",
   "execution_count": null,
   "id": "e445a3ab",
   "metadata": {},
   "outputs": [],
   "source": [
    "grapher.Chart(\n",
    "    data[data.entity == \"United Kingdom\"]\n",
    ").encode(\n",
    "    x=\"year\",\n",
    "    y=\"value\",\n",
    "    c=\"variable\"\n",
    ").label(\n",
    "    title=\"Growth of Real Disposable Household Income by Decile\",\n",
    "    subtitle=\"Disposable household income is the sum of a household’s employment and self-employment income, capital income, social security and private transfers minus income taxes and social security contributions.\",\n",
    "    note=\"Adjusted for household size, inflation and price differences between countries and expressed in 2011 international dollars. 1st decile is the cutoff income that separate the poorest 10% from the richest 90% etc. The 5th decile is the median.\"\n",
    ").interact(\n",
    "    entity_control=True\n",
    ")"
   ]
  }
 ],
 "metadata": {
  "kernelspec": {
   "display_name": "Python 3 (ipykernel)",
   "language": "python",
   "name": "python3"
  }
 },
 "nbformat": 4,
 "nbformat_minor": 5
}
