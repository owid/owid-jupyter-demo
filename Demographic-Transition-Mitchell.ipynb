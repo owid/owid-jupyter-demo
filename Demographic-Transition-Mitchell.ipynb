{
 "cells": [
  {
   "cell_type": "markdown",
   "id": "d3e1dfa9",
   "metadata": {},
   "source": [
    "# The Demographic Transition: Decline of the death rate followed by a decline of the birth rate"
   ]
  },
  {
   "cell_type": "code",
   "execution_count": null,
   "id": "33a497fa",
   "metadata": {},
   "outputs": [],
   "source": [
    "import pandas as pd\n",
    "from owid import grapher, site"
   ]
  },
  {
   "cell_type": "code",
   "execution_count": null,
   "id": "772d5b12",
   "metadata": {},
   "outputs": [],
   "source": [
    "data = site.get_chart_data(slug=\"Demographic-Transition-Mitchell\")\n",
    "data.head()"
   ]
  },
  {
   "cell_type": "code",
   "execution_count": null,
   "id": "a1679f7e",
   "metadata": {},
   "outputs": [],
   "source": [
    "grapher.Chart(\n",
    "    data[data.entity == \"Sweden\"]\n",
    ").encode(\n",
    "    x=\"year\",\n",
    "    y=\"value\",\n",
    "    c=\"variable\"\n",
    ").label(\n",
    "    title=\"The Demographic Transition: Decline of the death rate followed by a decline of the birth rate\",\n",
    "    subtitle=\"Both the birth and death rate are expressed per 1,000 of the population\",\n",
    "    source_desc=\"Brian Mitchell - International Historical Statistics\"\n",
    ").interact(\n",
    "    entity_control=True\n",
    ")"
   ]
  }
 ],
 "metadata": {
  "kernelspec": {
   "display_name": "Python 3 (ipykernel)",
   "language": "python",
   "name": "python3"
  }
 },
 "nbformat": 4,
 "nbformat_minor": 5
}
