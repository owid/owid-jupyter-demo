{
 "cells": [
  {
   "cell_type": "markdown",
   "id": "d7fbb2fd",
   "metadata": {},
   "source": [
    "# Various measures of child labor incidence"
   ]
  },
  {
   "cell_type": "code",
   "execution_count": null,
   "id": "994addb0",
   "metadata": {},
   "outputs": [],
   "source": [
    "import pandas as pd\n",
    "from owid import grapher, site"
   ]
  },
  {
   "cell_type": "code",
   "execution_count": null,
   "id": "5fc34b62",
   "metadata": {},
   "outputs": [],
   "source": [
    "data = site.get_chart_data(slug=\"various-measures-of-child-labour-incidence\")\n",
    "data.head()"
   ]
  },
  {
   "cell_type": "code",
   "execution_count": null,
   "id": "421078d5",
   "metadata": {},
   "outputs": [],
   "source": [
    "grapher.Chart(\n",
    "    data\n",
    ").encode(\n",
    "    x=\"year\",\n",
    "    y=\"value\",\n",
    "    c=\"entity\"\n",
    ").label(\n",
    "    title=\"Various measures of child labor incidence\",\n",
    "    subtitle=\"The series World ILO-EPEAP, as well as the series for England and Italy, cover working children aged 10-14. The series for the US covers working children aged 10-13. The series World ILO-IPEC covers children aged 5-17.\",\n",
    "    source_desc=\"England: Cunningham, H. and Viazzo, P.P. (1996); Italy: Tonioli and Vecchi (2007); US: Long (1958); World (1950-1995): International Labor Organisation Programme on Estimates and Projections on the Elimination of of Child Labor (ILO-EPEAP). Basu, 1999; World (2000-2012): International Labor Organisation Programme on the Elimination of Child Labor (ILO-IPEC). ILO, 2013.\"\n",
    ").interact(\n",
    "    entity_control=True\n",
    ")"
   ]
  }
 ],
 "metadata": {
  "kernelspec": {
   "display_name": "Python 3 (ipykernel)",
   "language": "python",
   "name": "python3"
  }
 },
 "nbformat": 4,
 "nbformat_minor": 5
}
