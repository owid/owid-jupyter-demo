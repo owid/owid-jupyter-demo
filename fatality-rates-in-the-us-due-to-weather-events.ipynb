{
 "cells": [
  {
   "cell_type": "markdown",
   "id": "d806ba3c",
   "metadata": {},
   "source": [
    "# Fatality rates in the US due to weather events"
   ]
  },
  {
   "cell_type": "code",
   "execution_count": null,
   "id": "d9ae933d",
   "metadata": {},
   "outputs": [],
   "source": [
    "import pandas as pd\n",
    "from owid import grapher, site"
   ]
  },
  {
   "cell_type": "code",
   "execution_count": null,
   "id": "0c7a00f6",
   "metadata": {},
   "outputs": [],
   "source": [
    "data = site.get_chart_data(slug=\"fatality-rates-in-the-us-due-to-weather-events\")\n",
    "data.head()"
   ]
  },
  {
   "cell_type": "code",
   "execution_count": null,
   "id": "375a756c",
   "metadata": {},
   "outputs": [],
   "source": [
    "grapher.Chart(\n",
    "    data[data.entity == \"United States\"]\n",
    ").encode(\n",
    "    x=\"year\",\n",
    "    y=\"value\",\n",
    "    c=\"variable\"\n",
    ").label(\n",
    "    title=\"Fatality rates in the US due to weather events\",\n",
    "    subtitle=\"Annual death rate from weather events, measured per million individuals.\"\n",
    ").interact(\n",
    "    entity_control=True\n",
    ")"
   ]
  }
 ],
 "metadata": {
  "kernelspec": {
   "display_name": "Python 3 (ipykernel)",
   "language": "python",
   "name": "python3"
  }
 },
 "nbformat": 4,
 "nbformat_minor": 5
}
