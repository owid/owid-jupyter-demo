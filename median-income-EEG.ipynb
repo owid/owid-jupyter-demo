{
 "cells": [
  {
   "cell_type": "markdown",
   "id": "7be39517",
   "metadata": {},
   "source": [
    "# Median household disposable income"
   ]
  },
  {
   "cell_type": "code",
   "execution_count": null,
   "id": "13f00f54",
   "metadata": {},
   "outputs": [],
   "source": [
    "import pandas as pd\n",
    "from owid import grapher, site"
   ]
  },
  {
   "cell_type": "code",
   "execution_count": null,
   "id": "3d0666f7",
   "metadata": {},
   "outputs": [],
   "source": [
    "data = site.get_chart_data(slug=\"median-income-EEG\")\n",
    "data.head()"
   ]
  },
  {
   "cell_type": "code",
   "execution_count": null,
   "id": "8fc160ed",
   "metadata": {},
   "outputs": [],
   "source": [
    "grapher.Chart(\n",
    "    data\n",
    ").encode(\n",
    "    x=\"year\",\n",
    "    y=\"value\",\n",
    "    c=\"entity\"\n",
    ").select([\n",
    "    \"United Kingdom\",\n",
    "    \"Spain\",\n",
    "    \"Slovakia\"\n",
    "]).label(\n",
    "    title=\"Median household disposable income\"\n",
    ").interact(\n",
    "    entity_control=True,\n",
    "    enable_map=True\n",
    ")"
   ]
  }
 ],
 "metadata": {
  "kernelspec": {
   "display_name": "Python 3 (ipykernel)",
   "language": "python",
   "name": "python3"
  }
 },
 "nbformat": 4,
 "nbformat_minor": 5
}
