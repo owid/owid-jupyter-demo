{
 "cells": [
  {
   "cell_type": "markdown",
   "id": "8080156b",
   "metadata": {},
   "source": [
    "# Share of the population with no formal education, projections by IIASA"
   ]
  },
  {
   "cell_type": "code",
   "execution_count": null,
   "id": "19ad3409",
   "metadata": {},
   "outputs": [],
   "source": [
    "import pandas as pd\n",
    "from owid import grapher, site"
   ]
  },
  {
   "cell_type": "code",
   "execution_count": null,
   "id": "49696445",
   "metadata": {},
   "outputs": [],
   "source": [
    "data = site.get_chart_data(slug=\"projections-of-the-rate-of-no-education-based-on-current-global-education-trends-1970-2050\")\n",
    "data.head()"
   ]
  },
  {
   "cell_type": "code",
   "execution_count": null,
   "id": "73942ec6",
   "metadata": {},
   "outputs": [],
   "source": [
    "grapher.Chart(\n",
    "    data\n",
    ").encode(\n",
    "    x=\"year\",\n",
    "    y=\"value\",\n",
    "    c=\"entity\"\n",
    ").select([\n",
    "    \"Chad\",\n",
    "    \"Nepal\",\n",
    "    \"Brazil\",\n",
    "    \"Germany\",\n",
    "    \"Vietnam\",\n",
    "    \"United Kingdom\",\n",
    "    \"South Africa\",\n",
    "    \"United States\",\n",
    "    \"Nigeria\",\n",
    "    \"China\",\n",
    "    \"Laos\",\n",
    "    \"India\",\n",
    "    \"Egypt\",\n",
    "    \"Argentina\"\n",
    "]).label(\n",
    "    title=\"Share of the population with no formal education, projections by IIASA\",\n",
    "    note=\"The data on past and projected rates of educational attainment comes from the International Institute for Applied Systems Analysis (IIASA). These projections are constructed using current Global Economic Trends (GET). There are other scenarios available, including a best and worst case.\"\n",
    ").interact(\n",
    "    entity_control=True,\n",
    "    enable_map=True\n",
    ")"
   ]
  }
 ],
 "metadata": {
  "kernelspec": {
   "display_name": "Python 3 (ipykernel)",
   "language": "python",
   "name": "python3"
  }
 },
 "nbformat": 4,
 "nbformat_minor": 5
}
