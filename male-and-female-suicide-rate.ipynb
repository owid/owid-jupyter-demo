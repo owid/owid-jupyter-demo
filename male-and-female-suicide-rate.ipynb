{
 "cells": [
  {
   "cell_type": "markdown",
   "id": "6e79f525",
   "metadata": {},
   "source": [
    "# Male and female suicide rate"
   ]
  },
  {
   "cell_type": "code",
   "execution_count": null,
   "id": "30a6a055",
   "metadata": {},
   "outputs": [],
   "source": [
    "import pandas as pd\n",
    "from owid import grapher, site"
   ]
  },
  {
   "cell_type": "code",
   "execution_count": null,
   "id": "9eac2bcc",
   "metadata": {},
   "outputs": [],
   "source": [
    "data = site.get_chart_data(slug=\"male-and-female-suicide-rate\")\n",
    "data.head()"
   ]
  },
  {
   "cell_type": "code",
   "execution_count": null,
   "id": "dc57eed1",
   "metadata": {},
   "outputs": [],
   "source": [
    "grapher.Chart(\n",
    "    data.query('entity in [\"Japan\", \"United Kingdom\"]')\n",
    ").encode(\n",
    "    x=\"year\",\n",
    "    y=\"value\",\n",
    "    c=\"variable\"\n",
    ").label(\n",
    "    title=\"Male and female suicide rate\",\n",
    "    subtitle=\"The suicide rates are adjusted for change in the age composition in the countries.\"\n",
    ").interact(\n",
    "    entity_control=True\n",
    ")"
   ]
  }
 ],
 "metadata": {
  "kernelspec": {
   "display_name": "Python 3 (ipykernel)",
   "language": "python",
   "name": "python3"
  }
 },
 "nbformat": 4,
 "nbformat_minor": 5
}
