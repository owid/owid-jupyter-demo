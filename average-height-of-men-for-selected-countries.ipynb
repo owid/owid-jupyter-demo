{
 "cells": [
  {
   "cell_type": "markdown",
   "id": "c5968de7",
   "metadata": {},
   "source": [
    "# Average height of men by year of birth"
   ]
  },
  {
   "cell_type": "code",
   "execution_count": null,
   "id": "14352efa",
   "metadata": {},
   "outputs": [],
   "source": [
    "import pandas as pd\n",
    "from owid import grapher, site"
   ]
  },
  {
   "cell_type": "code",
   "execution_count": null,
   "id": "8cf0d576",
   "metadata": {},
   "outputs": [],
   "source": [
    "data = site.get_chart_data(slug=\"average-height-of-men-for-selected-countries\")\n",
    "data.head()"
   ]
  },
  {
   "cell_type": "code",
   "execution_count": null,
   "id": "2867f135",
   "metadata": {},
   "outputs": [],
   "source": [
    "grapher.Chart(\n",
    "    data\n",
    ").encode(\n",
    "    x=\"year\",\n",
    "    y=\"value\",\n",
    "    c=\"entity\"\n",
    ").select([\n",
    "    \"France\",\n",
    "    \"Germany\",\n",
    "    \"Netherlands\"\n",
    "]).label(\n",
    "    title=\"Average height of men by year of birth\"\n",
    ").interact(\n",
    "    entity_control=True,\n",
    "    enable_map=True\n",
    ")"
   ]
  }
 ],
 "metadata": {
  "kernelspec": {
   "display_name": "Python 3 (ipykernel)",
   "language": "python",
   "name": "python3"
  }
 },
 "nbformat": 4,
 "nbformat_minor": 5
}
