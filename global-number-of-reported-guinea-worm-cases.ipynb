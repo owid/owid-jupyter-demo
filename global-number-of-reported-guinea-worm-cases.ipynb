{
 "cells": [
  {
   "cell_type": "markdown",
   "id": "918f3ff7",
   "metadata": {},
   "source": [
    "# Global number of reported Guinea worm cases"
   ]
  },
  {
   "cell_type": "code",
   "execution_count": null,
   "id": "6b325370",
   "metadata": {},
   "outputs": [],
   "source": [
    "import pandas as pd\n",
    "from owid import grapher, site"
   ]
  },
  {
   "cell_type": "code",
   "execution_count": null,
   "id": "b0cf2412",
   "metadata": {},
   "outputs": [],
   "source": [
    "data = site.get_chart_data(slug=\"global-number-of-reported-guinea-worm-cases\")\n",
    "data.head()"
   ]
  },
  {
   "cell_type": "code",
   "execution_count": null,
   "id": "91570b8f",
   "metadata": {},
   "outputs": [],
   "source": [
    "grapher.Chart(\n",
    "    data[data.entity == \"World\"]\n",
    ").encode(\n",
    "    x=\"year\",\n",
    "    y=\"value\",\n",
    "    c=\"variable\"\n",
    ").label(\n",
    "    title=\"Global number of reported Guinea worm cases\",\n",
    "    source_desc=\"The Carter Center (2016), World Health Organisation (2018)\",\n",
    "    note=\"For the early period especially the number of reported cases is much lower than the true number of cases. Greenaway (2004) reports an estimate of 3.5 million cases for the year 1986.\"\n",
    ").interact(\n",
    "    entity_control=True,\n",
    "    scale_control=True\n",
    ")"
   ]
  }
 ],
 "metadata": {
  "kernelspec": {
   "display_name": "Python 3 (ipykernel)",
   "language": "python",
   "name": "python3"
  }
 },
 "nbformat": 4,
 "nbformat_minor": 5
}
