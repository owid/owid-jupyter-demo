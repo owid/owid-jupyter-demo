{
 "cells": [
  {
   "cell_type": "markdown",
   "id": "42e90803",
   "metadata": {},
   "source": [
    "# Prevalence of undernourishment (%) in developing countries since 1970"
   ]
  },
  {
   "cell_type": "code",
   "execution_count": null,
   "id": "e15a416b",
   "metadata": {},
   "outputs": [],
   "source": [
    "import pandas as pd\n",
    "from owid import grapher, site"
   ]
  },
  {
   "cell_type": "code",
   "execution_count": null,
   "id": "cd4e9486",
   "metadata": {},
   "outputs": [],
   "source": [
    "data = site.get_chart_data(slug=\"prevalence-of-undernourishment-in-developing-countries-since-1970\")\n",
    "data.head()"
   ]
  },
  {
   "cell_type": "code",
   "execution_count": null,
   "id": "96b8e3bb",
   "metadata": {},
   "outputs": [],
   "source": [
    "grapher.Chart(\n",
    "    data\n",
    ").encode(\n",
    "    x=\"year\",\n",
    "    y=\"value\"\n",
    ").label(\n",
    "    title=\"Prevalence of undernourishment (%) in developing countries since 1970\",\n",
    "    subtitle=\"This is the main FAO hunger indicator. It measures the share of the population that consumes an amount of calories that is insufficient to cover the energy requirement for an active and healthy life (as defined by the minimum dietary energy requirement). Data from 1990 onwards is well-established within FAO estimates. Earlier estimates extending the period 1970-1989 are significantly more uncertain.\",\n",
    "    source_desc=\"FAO and ESS Indicators\"\n",
    ").interact(\n",
    "    entity_control=True\n",
    ")"
   ]
  }
 ],
 "metadata": {
  "kernelspec": {
   "display_name": "Python 3 (ipykernel)",
   "language": "python",
   "name": "python3"
  }
 },
 "nbformat": 4,
 "nbformat_minor": 5
}
