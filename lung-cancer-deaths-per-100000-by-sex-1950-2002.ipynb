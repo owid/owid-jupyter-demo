{
 "cells": [
  {
   "cell_type": "markdown",
   "id": "ece32d3d",
   "metadata": {},
   "source": [
    "# Lung cancer death rates"
   ]
  },
  {
   "cell_type": "code",
   "execution_count": null,
   "id": "1aa16d9c",
   "metadata": {},
   "outputs": [],
   "source": [
    "import pandas as pd\n",
    "from owid import grapher, site"
   ]
  },
  {
   "cell_type": "code",
   "execution_count": null,
   "id": "e718268d",
   "metadata": {},
   "outputs": [],
   "source": [
    "data = site.get_chart_data(slug=\"lung-cancer-deaths-per-100000-by-sex-1950-2002\")\n",
    "data.head()"
   ]
  },
  {
   "cell_type": "code",
   "execution_count": null,
   "id": "46d36ac0",
   "metadata": {},
   "outputs": [],
   "source": [
    "grapher.Chart(\n",
    "    data.query('entity in [\"Spain\", \"United States\"]')\n",
    ").encode(\n",
    "    x=\"year\",\n",
    "    y=\"value\",\n",
    "    c=\"variable\"\n",
    ").label(\n",
    "    title=\"Lung cancer death rates\",\n",
    "    subtitle=\"Number of lung cancer deaths per 100,000 people.\",\n",
    "    source_desc=\"WHO, International Agency for Research on Cancer (IARC)\"\n",
    ").interact(\n",
    "    entity_control=True\n",
    ")"
   ]
  }
 ],
 "metadata": {
  "kernelspec": {
   "display_name": "Python 3 (ipykernel)",
   "language": "python",
   "name": "python3"
  }
 },
 "nbformat": 4,
 "nbformat_minor": 5
}
