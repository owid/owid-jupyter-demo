{
 "cells": [
  {
   "cell_type": "markdown",
   "id": "abd64d8e",
   "metadata": {},
   "source": [
    "# Share of population living with less than 3.10 int.-$ per day"
   ]
  },
  {
   "cell_type": "code",
   "execution_count": null,
   "id": "a9692088",
   "metadata": {},
   "outputs": [],
   "source": [
    "import pandas as pd\n",
    "from owid import grapher, site"
   ]
  },
  {
   "cell_type": "code",
   "execution_count": null,
   "id": "c1854b70",
   "metadata": {},
   "outputs": [],
   "source": [
    "data = site.get_chart_data(slug=\"share-of-population-living-with-less-than-310-int--per-day\")\n",
    "data.head()"
   ]
  },
  {
   "cell_type": "code",
   "execution_count": null,
   "id": "e4e9dcd3",
   "metadata": {},
   "outputs": [],
   "source": [
    "grapher.Chart(\n",
    "    data\n",
    ").encode(\n",
    "    x=\"year\",\n",
    "    y=\"value\",\n",
    "    c=\"entity\"\n",
    ").select([\n",
    "    \"Iran\",\n",
    "    \"Rwanda\",\n",
    "    \"Ethiopia\",\n",
    "    \"El Salvador\",\n",
    "    \"India\"\n",
    "]).label(\n",
    "    title=\"Share of population living with less than 3.10 int.-$ per day\",\n",
    "    subtitle=\"Share of population living with per capita household consumption below 3.10 international dollars per day (in 2011 PPP prices). International dollars are adjusted for inflation and for price differences across countries.\",\n",
    "    note=\"Consumption per capita is the preferred welfare indicator for the World Bank’s analysis of global poverty. However, for about 25% of the countries, estimates correspond to income, rather than consumption.\"\n",
    ").interact(\n",
    "    entity_control=True,\n",
    "    enable_map=True\n",
    ")"
   ]
  }
 ],
 "metadata": {
  "kernelspec": {
   "display_name": "Python 3 (ipykernel)",
   "language": "python",
   "name": "python3"
  }
 },
 "nbformat": 4,
 "nbformat_minor": 5
}
