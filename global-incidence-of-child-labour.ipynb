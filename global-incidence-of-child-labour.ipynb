{
 "cells": [
  {
   "cell_type": "markdown",
   "id": "41ab4471",
   "metadata": {},
   "source": [
    "# Global labor force participation rates for children "
   ]
  },
  {
   "cell_type": "code",
   "execution_count": null,
   "id": "1342967a",
   "metadata": {},
   "outputs": [],
   "source": [
    "import pandas as pd\n",
    "from owid import grapher, site"
   ]
  },
  {
   "cell_type": "code",
   "execution_count": null,
   "id": "87b6bbe5",
   "metadata": {},
   "outputs": [],
   "source": [
    "data = site.get_chart_data(slug=\"global-incidence-of-child-labour\")\n",
    "data.head()"
   ]
  },
  {
   "cell_type": "code",
   "execution_count": null,
   "id": "82472e1f",
   "metadata": {},
   "outputs": [],
   "source": [
    "grapher.Chart(\n",
    "    data\n",
    ").encode(\n",
    "    x=\"year\",\n",
    "    y=\"value\"\n",
    ").label(\n",
    "    title=\"Global labor force participation rates for children\",\n",
    "    subtitle=\"Labor force participation of children, ages 10–14 (% of age group)\"\n",
    ").interact(\n",
    "    entity_control=True\n",
    ")"
   ]
  }
 ],
 "metadata": {
  "kernelspec": {
   "display_name": "Python 3 (ipykernel)",
   "language": "python",
   "name": "python3"
  }
 },
 "nbformat": 4,
 "nbformat_minor": 5
}
