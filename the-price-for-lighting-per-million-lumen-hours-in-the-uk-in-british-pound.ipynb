{
 "cells": [
  {
   "cell_type": "markdown",
   "id": "5db63f1e",
   "metadata": {},
   "source": [
    "# The price for lighting in the UK"
   ]
  },
  {
   "cell_type": "code",
   "execution_count": null,
   "id": "82b2323e",
   "metadata": {},
   "outputs": [],
   "source": [
    "import pandas as pd\n",
    "from owid import grapher, site"
   ]
  },
  {
   "cell_type": "code",
   "execution_count": null,
   "id": "9028a5a9",
   "metadata": {},
   "outputs": [],
   "source": [
    "data = site.get_chart_data(slug=\"the-price-for-lighting-per-million-lumen-hours-in-the-uk-in-british-pound\")\n",
    "data.head()"
   ]
  },
  {
   "cell_type": "code",
   "execution_count": null,
   "id": "c632af2a",
   "metadata": {},
   "outputs": [],
   "source": [
    "grapher.Chart(\n",
    "    data\n",
    ").encode(\n",
    "    x=\"year\",\n",
    "    y=\"value\"\n",
    ").label(\n",
    "    title=\"The price for lighting in the UK\",\n",
    "    subtitle=\"The price per million lumen-hours in British Pound. 1 lumen hour is equal to the luminous energy emitted in 1 hour by a light source emitting a luminous flux of 1 lumen. For comparison: a standard 100W incandescent light bulb emits ±1700 lumen.\",\n",
    "    note=\"The price is adjusted for inflation and expressed in prices for the year 2000. Shown is a 5-year moving average.\"\n",
    ").interact(\n",
    "    entity_control=True,\n",
    "    scale_control=True\n",
    ")"
   ]
  }
 ],
 "metadata": {
  "kernelspec": {
   "display_name": "Python 3 (ipykernel)",
   "language": "python",
   "name": "python3"
  }
 },
 "nbformat": 4,
 "nbformat_minor": 5
}
