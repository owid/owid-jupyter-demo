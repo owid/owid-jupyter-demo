{
 "cells": [
  {
   "cell_type": "markdown",
   "id": "50a1f6cd",
   "metadata": {},
   "source": [
    "# Share of the population living in extreme poverty, by world region"
   ]
  },
  {
   "cell_type": "code",
   "execution_count": null,
   "id": "761b8dc1",
   "metadata": {},
   "outputs": [],
   "source": [
    "import pandas as pd\n",
    "from owid import grapher, site"
   ]
  },
  {
   "cell_type": "code",
   "execution_count": null,
   "id": "62b9237c",
   "metadata": {},
   "outputs": [],
   "source": [
    "data = site.get_chart_data(slug=\"share-in-extreme-poverty-by-world-region\")\n",
    "data.head()"
   ]
  },
  {
   "cell_type": "code",
   "execution_count": null,
   "id": "1858a0f2",
   "metadata": {},
   "outputs": [],
   "source": [
    "grapher.Chart(\n",
    "    data\n",
    ").encode(\n",
    "    x=\"year\",\n",
    "    y=\"value\",\n",
    "    c=\"entity\"\n",
    ").label(\n",
    "    title=\"Share of the population living in extreme poverty, by world region\",\n",
    "    subtitle=\"Extreme poverty is defined as living with per capita household consumption below 1.90 international dollars per day (in 2011 PPP prices). International dollars are adjusted for inflation and for price differences across countries.\",\n",
    "    note=\"Consumption per capita is the preferred welfare indicator for the World Bank’s analysis of global poverty. However, for about 25% of the countries, estimates correspond to income, rather than consumption.\"\n",
    ").interact(\n",
    "    entity_control=True\n",
    ")"
   ]
  }
 ],
 "metadata": {
  "kernelspec": {
   "display_name": "Python 3 (ipykernel)",
   "language": "python",
   "name": "python3"
  }
 },
 "nbformat": 4,
 "nbformat_minor": 5
}
