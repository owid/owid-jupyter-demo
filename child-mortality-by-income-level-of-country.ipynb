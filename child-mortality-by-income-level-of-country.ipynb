{
 "cells": [
  {
   "cell_type": "markdown",
   "id": "edee9a44",
   "metadata": {},
   "source": [
    "# Child mortality by income level of country"
   ]
  },
  {
   "cell_type": "code",
   "execution_count": null,
   "id": "c6930c54",
   "metadata": {},
   "outputs": [],
   "source": [
    "import pandas as pd\n",
    "from owid import grapher, site"
   ]
  },
  {
   "cell_type": "code",
   "execution_count": null,
   "id": "06d07341",
   "metadata": {},
   "outputs": [],
   "source": [
    "data = site.get_chart_data(slug=\"child-mortality-by-income-level-of-country\")\n",
    "data.head()"
   ]
  },
  {
   "cell_type": "code",
   "execution_count": null,
   "id": "674f10a9",
   "metadata": {},
   "outputs": [],
   "source": [
    "grapher.Chart(\n",
    "    data\n",
    ").encode(\n",
    "    x=\"year\",\n",
    "    y=\"value\",\n",
    "    c=\"entity\"\n",
    ").select([\n",
    "    \"Upper middle income\",\n",
    "    \"World\",\n",
    "    \"High income\",\n",
    "    \"Lower middle income\",\n",
    "    \"Low income\"\n",
    "]).label(\n",
    "    title=\"Child mortality by income level of country\",\n",
    "    subtitle=\"The child mortality rate measures the share of children that die before reaching the age of 5.\"\n",
    ").interact(\n",
    "    entity_control=True\n",
    ")"
   ]
  }
 ],
 "metadata": {
  "kernelspec": {
   "display_name": "Python 3 (ipykernel)",
   "language": "python",
   "name": "python3"
  }
 },
 "nbformat": 4,
 "nbformat_minor": 5
}
