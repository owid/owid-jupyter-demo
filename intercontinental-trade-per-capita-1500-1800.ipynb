{
 "cells": [
  {
   "cell_type": "markdown",
   "id": "7d371985",
   "metadata": {},
   "source": [
    "# Intercontinental trade per capita, selected countries"
   ]
  },
  {
   "cell_type": "code",
   "execution_count": null,
   "id": "2324b0f8",
   "metadata": {},
   "outputs": [],
   "source": [
    "import pandas as pd\n",
    "from owid import grapher, site"
   ]
  },
  {
   "cell_type": "code",
   "execution_count": null,
   "id": "e8bea7c5",
   "metadata": {},
   "outputs": [],
   "source": [
    "data = site.get_chart_data(slug=\"intercontinental-trade-per-capita-1500-1800\")\n",
    "data.head()"
   ]
  },
  {
   "cell_type": "code",
   "execution_count": null,
   "id": "810de07e",
   "metadata": {},
   "outputs": [],
   "source": [
    "grapher.Chart(\n",
    "    data\n",
    ").encode(\n",
    "    x=\"year\",\n",
    "    y=\"value\",\n",
    "    c=\"entity\"\n",
    ").label(\n",
    "    title=\"Intercontinental trade per capita, selected countries\",\n",
    "    subtitle=\"Intercontinental trade, in £ per capita in constant prices of 1700\"\n",
    ").interact(\n",
    "    entity_control=True\n",
    ")"
   ]
  }
 ],
 "metadata": {
  "kernelspec": {
   "display_name": "Python 3 (ipykernel)",
   "language": "python",
   "name": "python3"
  }
 },
 "nbformat": 4,
 "nbformat_minor": 5
}
