{
 "cells": [
  {
   "cell_type": "markdown",
   "id": "ac1002c4",
   "metadata": {},
   "source": [
    "# Public education expenditure as share of GDP"
   ]
  },
  {
   "cell_type": "code",
   "execution_count": null,
   "id": "a46bccfb",
   "metadata": {},
   "outputs": [],
   "source": [
    "import pandas as pd\n",
    "from owid import grapher, site"
   ]
  },
  {
   "cell_type": "code",
   "execution_count": null,
   "id": "8574ad0e",
   "metadata": {},
   "outputs": [],
   "source": [
    "data = site.get_chart_data(slug=\"public-education-expenditure-as-share-of-gdp\")\n",
    "data.head()"
   ]
  },
  {
   "cell_type": "code",
   "execution_count": null,
   "id": "60715948",
   "metadata": {},
   "outputs": [],
   "source": [
    "grapher.Chart(\n",
    "    data\n",
    ").encode(\n",
    "    x=\"year\",\n",
    "    y=\"value\",\n",
    "    c=\"entity\"\n",
    ").select([\n",
    "    \"France\",\n",
    "    \"Spain\",\n",
    "    \"Germany\",\n",
    "    \"United Kingdom\",\n",
    "    \"Norway\"\n",
    "]).label(\n",
    "    title=\"Public education expenditure as share of GDP\",\n",
    "    subtitle=\"Public expenditure on education (all levels) as a share of GDP for selected OECD countries\"\n",
    ").interact(\n",
    "    entity_control=True,\n",
    "    enable_map=True\n",
    ")"
   ]
  }
 ],
 "metadata": {
  "kernelspec": {
   "display_name": "Python 3 (ipykernel)",
   "language": "python",
   "name": "python3"
  }
 },
 "nbformat": 4,
 "nbformat_minor": 5
}
