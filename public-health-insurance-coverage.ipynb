{
 "cells": [
  {
   "cell_type": "markdown",
   "id": "8b7f0c96",
   "metadata": {},
   "source": [
    "# Public health insurance coverage in Western Europe"
   ]
  },
  {
   "cell_type": "code",
   "execution_count": null,
   "id": "8eb59a3f",
   "metadata": {},
   "outputs": [],
   "source": [
    "import pandas as pd\n",
    "from owid import grapher, site"
   ]
  },
  {
   "cell_type": "code",
   "execution_count": null,
   "id": "3cc8a555",
   "metadata": {},
   "outputs": [],
   "source": [
    "data = site.get_chart_data(slug=\"public-health-insurance-coverage\")\n",
    "data.head()"
   ]
  },
  {
   "cell_type": "code",
   "execution_count": null,
   "id": "20f7bd91",
   "metadata": {},
   "outputs": [],
   "source": [
    "grapher.Chart(\n",
    "    data\n",
    ").encode(\n",
    "    x=\"year\",\n",
    "    y=\"value\",\n",
    "    c=\"entity\"\n",
    ").select([\n",
    "    \"United Kingdom\",\n",
    "    \"Italy\",\n",
    "    \"Germany\",\n",
    "    \"Sweden\"\n",
    "]).label(\n",
    "    title=\"Public health insurance coverage in Western Europe\",\n",
    "    subtitle=\"Share of the labour force covered by public health insurance in Western Europe.\"\n",
    ").interact(\n",
    "    entity_control=True,\n",
    "    enable_map=True\n",
    ")"
   ]
  }
 ],
 "metadata": {
  "kernelspec": {
   "display_name": "Python 3 (ipykernel)",
   "language": "python",
   "name": "python3"
  }
 },
 "nbformat": 4,
 "nbformat_minor": 5
}
