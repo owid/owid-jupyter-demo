{
 "cells": [
  {
   "cell_type": "markdown",
   "id": "d8a9840e",
   "metadata": {},
   "source": [
    "# Primary school enrollment"
   ]
  },
  {
   "cell_type": "code",
   "execution_count": null,
   "id": "3dec4266",
   "metadata": {},
   "outputs": [],
   "source": [
    "import pandas as pd\n",
    "from owid import grapher, site"
   ]
  },
  {
   "cell_type": "code",
   "execution_count": null,
   "id": "bf028a55",
   "metadata": {},
   "outputs": [],
   "source": [
    "data = site.get_chart_data(slug=\"primary-enrollment-selected-countries\")\n",
    "data.head()"
   ]
  },
  {
   "cell_type": "code",
   "execution_count": null,
   "id": "cd60711c",
   "metadata": {},
   "outputs": [],
   "source": [
    "grapher.Chart(\n",
    "    data\n",
    ").encode(\n",
    "    x=\"year\",\n",
    "    y=\"value\",\n",
    "    c=\"entity\"\n",
    ").select([\n",
    "    \"Niger\",\n",
    "    \"Japan\",\n",
    "    \"Hungary\",\n",
    "    \"United Kingdom\",\n",
    "    \"China\",\n",
    "    \"India\",\n",
    "    \"Argentina\"\n",
    "]).label(\n",
    "    title=\"Primary school enrollment\",\n",
    "    subtitle=\"Estimated enrollment ratios for total population aged 15-64, primary education level. Estimates adjusted with repetition ratios.\"\n",
    ").interact(\n",
    "    entity_control=True,\n",
    "    enable_map=True\n",
    ")"
   ]
  }
 ],
 "metadata": {
  "kernelspec": {
   "display_name": "Python 3 (ipykernel)",
   "language": "python",
   "name": "python3"
  }
 },
 "nbformat": 4,
 "nbformat_minor": 5
}
