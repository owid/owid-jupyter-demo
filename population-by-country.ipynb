{
 "cells": [
  {
   "cell_type": "markdown",
   "id": "54b6b9ae",
   "metadata": {},
   "source": [
    "# Population by country"
   ]
  },
  {
   "cell_type": "code",
   "execution_count": null,
   "id": "e014e9dd",
   "metadata": {},
   "outputs": [],
   "source": [
    "import pandas as pd\n",
    "from owid import grapher, site"
   ]
  },
  {
   "cell_type": "code",
   "execution_count": null,
   "id": "499e6b53",
   "metadata": {},
   "outputs": [],
   "source": [
    "data = site.get_chart_data(slug=\"population-by-country\")\n",
    "data.head()"
   ]
  },
  {
   "cell_type": "code",
   "execution_count": null,
   "id": "74409a9a",
   "metadata": {},
   "outputs": [],
   "source": [
    "grapher.Chart(\n",
    "    data\n",
    ").encode(\n",
    "    x=\"year\",\n",
    "    y=\"value\",\n",
    "    c=\"entity\"\n",
    ").select([\n",
    "    \"France\",\n",
    "    \"Germany\",\n",
    "    \"Netherlands\",\n",
    "    \"United Kingdom\",\n",
    "    \"Belgium\",\n",
    "    \"Sweden\"\n",
    "]).label(\n",
    "    title=\"Population by country\",\n",
    "    subtitle=\"Total Population in the last five centuries (Clio-Infra Data)\",\n",
    "    source_desc=\"Clio Infra (2016)\"\n",
    ").interact(\n",
    "    entity_control=True\n",
    ")"
   ]
  }
 ],
 "metadata": {
  "kernelspec": {
   "display_name": "Python 3 (ipykernel)",
   "language": "python",
   "name": "python3"
  }
 },
 "nbformat": 4,
 "nbformat_minor": 5
}
