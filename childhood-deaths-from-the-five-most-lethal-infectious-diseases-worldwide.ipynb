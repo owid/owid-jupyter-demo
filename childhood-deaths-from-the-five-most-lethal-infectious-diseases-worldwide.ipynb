{
 "cells": [
  {
   "cell_type": "markdown",
   "id": "5edcf144",
   "metadata": {},
   "source": [
    "# Childhood deaths from the five most lethal infectious diseases worldwide"
   ]
  },
  {
   "cell_type": "code",
   "execution_count": null,
   "id": "02d23fc8",
   "metadata": {},
   "outputs": [],
   "source": [
    "import pandas as pd\n",
    "from owid import grapher, site"
   ]
  },
  {
   "cell_type": "code",
   "execution_count": null,
   "id": "da68aa05",
   "metadata": {},
   "outputs": [],
   "source": [
    "data = site.get_chart_data(slug=\"childhood-deaths-from-the-five-most-lethal-infectious-diseases-worldwide\")\n",
    "data.head()"
   ]
  },
  {
   "cell_type": "code",
   "execution_count": null,
   "id": "6ea6ea07",
   "metadata": {},
   "outputs": [],
   "source": [
    "grapher.Chart(\n",
    "    data[data.entity == \"World\"]\n",
    ").encode(\n",
    "    x=\"year\",\n",
    "    y=\"value\",\n",
    "    c=\"variable\"\n",
    ").label(\n",
    "    title=\"Childhood deaths from the five most lethal infectious diseases worldwide\",\n",
    "    source_desc=\"IHME, Global Burden of Disease\"\n",
    ").interact(\n",
    "    entity_control=True\n",
    ")"
   ]
  }
 ],
 "metadata": {
  "kernelspec": {
   "display_name": "Python 3 (ipykernel)",
   "language": "python",
   "name": "python3"
  }
 },
 "nbformat": 4,
 "nbformat_minor": 5
}
