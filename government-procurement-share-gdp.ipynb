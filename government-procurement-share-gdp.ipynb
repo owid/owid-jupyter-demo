{
 "cells": [
  {
   "cell_type": "markdown",
   "id": "18ebd4d6",
   "metadata": {},
   "source": [
    "# General government procurement as a percentage of GDP, OECD"
   ]
  },
  {
   "cell_type": "code",
   "execution_count": null,
   "id": "f3edddfd",
   "metadata": {},
   "outputs": [],
   "source": [
    "import pandas as pd\n",
    "from owid import grapher, site"
   ]
  },
  {
   "cell_type": "code",
   "execution_count": null,
   "id": "24ec9e26",
   "metadata": {},
   "outputs": [],
   "source": [
    "data = site.get_chart_data(slug=\"government-procurement-share-gdp\")\n",
    "data.head()"
   ]
  },
  {
   "cell_type": "code",
   "execution_count": null,
   "id": "921543e4",
   "metadata": {},
   "outputs": [],
   "source": [
    "grapher.Chart(\n",
    "    data\n",
    ").encode(\n",
    "    x=\"year\",\n",
    "    y=\"value\",\n",
    "    c=\"entity\"\n",
    ").select([\n",
    "    \"Canada\",\n",
    "    \"Netherlands\",\n",
    "    \"Greece\",\n",
    "    \"Colombia\",\n",
    "    \"Mexico\"\n",
    "]).label(\n",
    "    title=\"General government procurement as a percentage of GDP, OECD\",\n",
    "    subtitle=\"General government procurement is defined as the sum of intermediate consumption (e.g. accounting services), gross fixed capital formation (e.g. new roads) and social transfers in kind via market producers (purchases by general government of goods/services produced by markets and supplied to households). Figures include procurement for central, state and local governments.\"\n",
    ").interact(\n",
    "    entity_control=True\n",
    ")"
   ]
  }
 ],
 "metadata": {
  "kernelspec": {
   "display_name": "Python 3 (ipykernel)",
   "language": "python",
   "name": "python3"
  }
 },
 "nbformat": 4,
 "nbformat_minor": 5
}
