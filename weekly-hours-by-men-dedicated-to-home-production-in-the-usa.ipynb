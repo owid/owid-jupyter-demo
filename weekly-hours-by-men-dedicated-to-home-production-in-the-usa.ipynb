{
 "cells": [
  {
   "cell_type": "markdown",
   "id": "3032436e",
   "metadata": {},
   "source": [
    "# Men in the USA: Weekly hours dedicated to home production, by age group"
   ]
  },
  {
   "cell_type": "code",
   "execution_count": null,
   "id": "93dc4500",
   "metadata": {},
   "outputs": [],
   "source": [
    "import pandas as pd\n",
    "from owid import grapher, site"
   ]
  },
  {
   "cell_type": "code",
   "execution_count": null,
   "id": "9c98778e",
   "metadata": {},
   "outputs": [],
   "source": [
    "data = site.get_chart_data(slug=\"weekly-hours-by-men-dedicated-to-home-production-in-the-usa\")\n",
    "data.head()"
   ]
  },
  {
   "cell_type": "code",
   "execution_count": null,
   "id": "b0188b94",
   "metadata": {},
   "outputs": [],
   "source": [
    "grapher.Chart(\n",
    "    data\n",
    ").encode(\n",
    "    x=\"year\",\n",
    "    y=\"value\",\n",
    "    c=\"entity\"\n",
    ").select([\n",
    "    \"Men 18-24\",\n",
    "    \"Men 14+\",\n",
    "    \"Men 55-64\",\n",
    "    \"Men 65+\",\n",
    "    \"Men 14-17\",\n",
    "    \"Men 25-54\"\n",
    "]).label(\n",
    "    title=\"Men in the USA: Weekly hours dedicated to home production, by age group\"\n",
    ").interact(\n",
    "    entity_control=True\n",
    ")"
   ]
  }
 ],
 "metadata": {
  "kernelspec": {
   "display_name": "Python 3 (ipykernel)",
   "language": "python",
   "name": "python3"
  }
 },
 "nbformat": 4,
 "nbformat_minor": 5
}
