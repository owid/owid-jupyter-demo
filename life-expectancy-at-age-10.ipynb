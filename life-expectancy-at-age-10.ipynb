{
 "cells": [
  {
   "cell_type": "markdown",
   "id": "05191eb1",
   "metadata": {},
   "source": [
    "# Life expectancy at age 10"
   ]
  },
  {
   "cell_type": "code",
   "execution_count": null,
   "id": "3c7fe409",
   "metadata": {},
   "outputs": [],
   "source": [
    "import pandas as pd\n",
    "from owid import grapher, site"
   ]
  },
  {
   "cell_type": "code",
   "execution_count": null,
   "id": "c67452d9",
   "metadata": {},
   "outputs": [],
   "source": [
    "data = site.get_chart_data(slug=\"life-expectancy-at-age-10\")\n",
    "data.head()"
   ]
  },
  {
   "cell_type": "code",
   "execution_count": null,
   "id": "9d5bcf2c",
   "metadata": {},
   "outputs": [],
   "source": [
    "grapher.Chart(\n",
    "    data\n",
    ").encode(\n",
    "    x=\"year\",\n",
    "    y=\"value\",\n",
    "    c=\"entity\"\n",
    ").select([\n",
    "    \"Italy\",\n",
    "    \"Brazil\",\n",
    "    \"United Kingdom\",\n",
    "    \"China\",\n",
    "    \"Sweden\"\n",
    "]).label(\n",
    "    title=\"Life expectancy at age 10\",\n",
    "    subtitle=\"Shown is the number of remaining years a 10 year old is expected to live. From 2015 onwards the UN mid-variant projections are shown.\"\n",
    ").interact(\n",
    "    entity_control=True,\n",
    "    enable_map=True\n",
    ")"
   ]
  }
 ],
 "metadata": {
  "kernelspec": {
   "display_name": "Python 3 (ipykernel)",
   "language": "python",
   "name": "python3"
  }
 },
 "nbformat": 4,
 "nbformat_minor": 5
}
