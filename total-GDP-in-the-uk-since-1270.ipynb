{
 "cells": [
  {
   "cell_type": "markdown",
   "id": "6c8328fa",
   "metadata": {},
   "source": [
    "# Total economic output in England since 1270"
   ]
  },
  {
   "cell_type": "code",
   "execution_count": null,
   "id": "30e945f9",
   "metadata": {},
   "outputs": [],
   "source": [
    "import pandas as pd\n",
    "from owid import grapher, site"
   ]
  },
  {
   "cell_type": "code",
   "execution_count": null,
   "id": "b81f2b33",
   "metadata": {},
   "outputs": [],
   "source": [
    "data = site.get_chart_data(slug=\"total-GDP-in-the-uk-since-1270\")\n",
    "data.head()"
   ]
  },
  {
   "cell_type": "code",
   "execution_count": null,
   "id": "9bcd6b49",
   "metadata": {},
   "outputs": [],
   "source": [
    "grapher.Chart(\n",
    "    data\n",
    ").encode(\n",
    "    x=\"year\",\n",
    "    y=\"value\"\n",
    ").label(\n",
    "    title=\"Total economic output in England since 1270\",\n",
    "    subtitle=\"Output is adjusted for inflation and measured in British Pounds in 2013 prices\",\n",
    "    note=\"Data refers to England until 1700 and the UK from then onwards.\"\n",
    ").interact(\n",
    "    entity_control=True,\n",
    "    scale_control=True\n",
    ")"
   ]
  }
 ],
 "metadata": {
  "kernelspec": {
   "display_name": "Python 3 (ipykernel)",
   "language": "python",
   "name": "python3"
  }
 },
 "nbformat": 4,
 "nbformat_minor": 5
}
