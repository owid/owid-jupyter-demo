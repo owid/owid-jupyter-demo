{
 "cells": [
  {
   "cell_type": "markdown",
   "id": "815c5c13",
   "metadata": {},
   "source": [
    "# Health Insurance Coverage in the U.S."
   ]
  },
  {
   "cell_type": "code",
   "execution_count": null,
   "id": "bfe7ee70",
   "metadata": {},
   "outputs": [],
   "source": [
    "import pandas as pd\n",
    "from owid import grapher, site"
   ]
  },
  {
   "cell_type": "code",
   "execution_count": null,
   "id": "fdf12d5a",
   "metadata": {},
   "outputs": [],
   "source": [
    "data = site.get_chart_data(slug=\"health-insurance-coverage-in-the-us\")\n",
    "data.head()"
   ]
  },
  {
   "cell_type": "code",
   "execution_count": null,
   "id": "85fa5412",
   "metadata": {},
   "outputs": [],
   "source": [
    "grapher.Chart(\n",
    "    data[data.entity == \"United States\"]\n",
    ").encode(\n",
    "    x=\"year\",\n",
    "    y=\"value\",\n",
    "    c=\"variable\"\n",
    ").label(\n",
    "    title=\"Health Insurance Coverage in the U.S.\",\n",
    "    subtitle=\"Health insurance coverage in the U.S. by type of plan (NB. Insurance plans are not mutually exclusive)\"\n",
    ").interact(\n",
    "    entity_control=True\n",
    ")"
   ]
  }
 ],
 "metadata": {
  "kernelspec": {
   "display_name": "Python 3 (ipykernel)",
   "language": "python",
   "name": "python3"
  }
 },
 "nbformat": 4,
 "nbformat_minor": 5
}
