{
 "cells": [
  {
   "cell_type": "markdown",
   "id": "93b915e3",
   "metadata": {},
   "source": [
    "# Percentage of persons without health insurance in the US"
   ]
  },
  {
   "cell_type": "code",
   "execution_count": null,
   "id": "7c28de2f",
   "metadata": {},
   "outputs": [],
   "source": [
    "import pandas as pd\n",
    "from owid import grapher, site"
   ]
  },
  {
   "cell_type": "code",
   "execution_count": null,
   "id": "d075dfbe",
   "metadata": {},
   "outputs": [],
   "source": [
    "data = site.get_chart_data(slug=\"percentage-of-persons-without-health-insurance-coverage-us\")\n",
    "data.head()"
   ]
  },
  {
   "cell_type": "code",
   "execution_count": null,
   "id": "8405afc0",
   "metadata": {},
   "outputs": [],
   "source": [
    "grapher.Chart(\n",
    "    data\n",
    ").encode(\n",
    "    x=\"year\",\n",
    "    y=\"value\"\n",
    ").label(\n",
    "    title=\"Percentage of persons without health insurance in the US\",\n",
    "    subtitle=\"Full population uninsured rate estimates\"\n",
    ").interact(\n",
    "    entity_control=True\n",
    ")"
   ]
  }
 ],
 "metadata": {
  "kernelspec": {
   "display_name": "Python 3 (ipykernel)",
   "language": "python",
   "name": "python3"
  }
 },
 "nbformat": 4,
 "nbformat_minor": 5
}
