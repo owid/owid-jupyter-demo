{
 "cells": [
  {
   "cell_type": "markdown",
   "id": "073f3da7",
   "metadata": {},
   "source": [
    "# Women in the USA: Weekly hours dedicated to home production, by age group"
   ]
  },
  {
   "cell_type": "code",
   "execution_count": null,
   "id": "679a68b3",
   "metadata": {},
   "outputs": [],
   "source": [
    "import pandas as pd\n",
    "from owid import grapher, site"
   ]
  },
  {
   "cell_type": "code",
   "execution_count": null,
   "id": "3b478772",
   "metadata": {},
   "outputs": [],
   "source": [
    "data = site.get_chart_data(slug=\"weekly-hours-dedicated-to-home-production-in-the-usa-by-women\")\n",
    "data.head()"
   ]
  },
  {
   "cell_type": "code",
   "execution_count": null,
   "id": "0969d4e1",
   "metadata": {},
   "outputs": [],
   "source": [
    "grapher.Chart(\n",
    "    data\n",
    ").encode(\n",
    "    x=\"year\",\n",
    "    y=\"value\",\n",
    "    c=\"entity\"\n",
    ").select([\n",
    "    \"Women 25-54\",\n",
    "    \"Women 18-24\",\n",
    "    \"Women 14-17\",\n",
    "    \"Women 14+\",\n",
    "    \"Women 65+\",\n",
    "    \"Women 55-64\"\n",
    "]).label(\n",
    "    title=\"Women in the USA: Weekly hours dedicated to home production, by age group\"\n",
    ").interact(\n",
    "    entity_control=True\n",
    ")"
   ]
  }
 ],
 "metadata": {
  "kernelspec": {
   "display_name": "Python 3 (ipykernel)",
   "language": "python",
   "name": "python3"
  }
 },
 "nbformat": 4,
 "nbformat_minor": 5
}
