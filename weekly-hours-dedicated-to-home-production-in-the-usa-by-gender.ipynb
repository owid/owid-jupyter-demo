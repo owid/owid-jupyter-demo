{
 "cells": [
  {
   "cell_type": "markdown",
   "id": "dc23413c",
   "metadata": {},
   "source": [
    "# Weekly hours dedicated to home production in US, by gender"
   ]
  },
  {
   "cell_type": "code",
   "execution_count": null,
   "id": "47322888",
   "metadata": {},
   "outputs": [],
   "source": [
    "import pandas as pd\n",
    "from owid import grapher, site"
   ]
  },
  {
   "cell_type": "code",
   "execution_count": null,
   "id": "95f96352",
   "metadata": {},
   "outputs": [],
   "source": [
    "data = site.get_chart_data(slug=\"weekly-hours-dedicated-to-home-production-in-the-usa-by-gender\")\n",
    "data.head()"
   ]
  },
  {
   "cell_type": "code",
   "execution_count": null,
   "id": "e65247dd",
   "metadata": {},
   "outputs": [],
   "source": [
    "grapher.Chart(\n",
    "    data\n",
    ").encode(\n",
    "    x=\"year\",\n",
    "    y=\"value\",\n",
    "    c=\"entity\"\n",
    ").select([\n",
    "    \"Women 14+\",\n",
    "    \"Men 14+\",\n",
    "    \"Total 14+\"\n",
    "]).label(\n",
    "    title=\"Weekly hours dedicated to home production in US, by gender\",\n",
    "    subtitle=\"Weekly hours worked for the population older than 14 years. Home production includes: planning, purchasing goods and services, care of children and adults (in and outside the household), general cleaning, care and repair of the house and grounds (including yard work, but excluding gardening), preparing and clearing food, making, mending, and laundering of clothing and other household textiles.\"\n",
    ").interact(\n",
    "    entity_control=True\n",
    ")"
   ]
  }
 ],
 "metadata": {
  "kernelspec": {
   "display_name": "Python 3 (ipykernel)",
   "language": "python",
   "name": "python3"
  }
 },
 "nbformat": 4,
 "nbformat_minor": 5
}
