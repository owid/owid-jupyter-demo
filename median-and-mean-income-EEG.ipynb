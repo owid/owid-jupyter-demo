{
 "cells": [
  {
   "cell_type": "markdown",
   "id": "bee04bb4",
   "metadata": {},
   "source": [
    "# Median and mean household disposable income"
   ]
  },
  {
   "cell_type": "code",
   "execution_count": null,
   "id": "9a3fc283",
   "metadata": {},
   "outputs": [],
   "source": [
    "import pandas as pd\n",
    "from owid import grapher, site"
   ]
  },
  {
   "cell_type": "code",
   "execution_count": null,
   "id": "b87ac4ab",
   "metadata": {},
   "outputs": [],
   "source": [
    "data = site.get_chart_data(slug=\"median-and-mean-income-EEG\")\n",
    "data.head()"
   ]
  },
  {
   "cell_type": "code",
   "execution_count": null,
   "id": "eeda5f7c",
   "metadata": {},
   "outputs": [],
   "source": [
    "grapher.Chart(\n",
    "    data[data.entity == \"United States\"]\n",
    ").encode(\n",
    "    x=\"year\",\n",
    "    y=\"value\",\n",
    "    c=\"variable\"\n",
    ").label(\n",
    "    title=\"Median and mean household disposable income\",\n",
    "    subtitle=\"Disposable household income is the sum a household’s employment and self-employment income, capital income, social security and private transfers minus income taxes and social security contributions. It is adjusted for the household size (square root of the household size). It is adjusted for inflation and for price differences between countries and expressed in 2011 international dollars.\"\n",
    ").interact(\n",
    "    entity_control=True\n",
    ")"
   ]
  }
 ],
 "metadata": {
  "kernelspec": {
   "display_name": "Python 3 (ipykernel)",
   "language": "python",
   "name": "python3"
  }
 },
 "nbformat": 4,
 "nbformat_minor": 5
}
