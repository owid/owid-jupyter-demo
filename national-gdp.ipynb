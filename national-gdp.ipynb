{
 "cells": [
  {
   "cell_type": "markdown",
   "id": "2a385fd1",
   "metadata": {},
   "source": [
    "# National GDP"
   ]
  },
  {
   "cell_type": "code",
   "execution_count": null,
   "id": "1ae62aa2",
   "metadata": {},
   "outputs": [],
   "source": [
    "import pandas as pd\n",
    "from owid import grapher, site"
   ]
  },
  {
   "cell_type": "code",
   "execution_count": null,
   "id": "f2eeffc4",
   "metadata": {},
   "outputs": [],
   "source": [
    "data = site.get_chart_data(slug=\"national-gdp\")\n",
    "data.head()"
   ]
  },
  {
   "cell_type": "code",
   "execution_count": null,
   "id": "1905d690",
   "metadata": {},
   "outputs": [],
   "source": [
    "grapher.Chart(\n",
    "    data\n",
    ").encode(\n",
    "    x=\"year\",\n",
    "    y=\"value\"\n",
    ").select(\n",
    "    entities=[\"China\"],\n",
    "    timespan=(1952, None)\n",
    ").label(\n",
    "    title=\"National GDP\",\n",
    "    subtitle=\"Adjusted for inflation and price differences between countries (measured in 2011 international-$).\",\n",
    "    source_desc=\"Feenstra et al. (2019) Penn World Table 9.1\"\n",
    ").interact(\n",
    "    entity_control=True,\n",
    "    scale_control=True\n",
    ")"
   ]
  }
 ],
 "metadata": {
  "kernelspec": {
   "display_name": "Python 3 (ipykernel)",
   "language": "python",
   "name": "python3"
  }
 },
 "nbformat": 4,
 "nbformat_minor": 5
}
