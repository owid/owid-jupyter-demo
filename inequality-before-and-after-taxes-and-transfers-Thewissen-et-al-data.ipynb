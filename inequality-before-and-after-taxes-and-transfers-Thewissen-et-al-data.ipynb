{
 "cells": [
  {
   "cell_type": "markdown",
   "id": "6bbb2ac6",
   "metadata": {},
   "source": [
    "# Income inequality"
   ]
  },
  {
   "cell_type": "code",
   "execution_count": null,
   "id": "bf1e8e82",
   "metadata": {},
   "outputs": [],
   "source": [
    "import pandas as pd\n",
    "from owid import grapher, site"
   ]
  },
  {
   "cell_type": "code",
   "execution_count": null,
   "id": "4b3d6cb9",
   "metadata": {},
   "outputs": [],
   "source": [
    "data = site.get_chart_data(slug=\"inequality-before-and-after-taxes-and-transfers-Thewissen-et-al-data\")\n",
    "data.head()"
   ]
  },
  {
   "cell_type": "code",
   "execution_count": null,
   "id": "9b8bfe71",
   "metadata": {},
   "outputs": [],
   "source": [
    "grapher.Chart(\n",
    "    data[data.entity == \"United States\"]\n",
    ").encode(\n",
    "    x=\"year\",\n",
    "    y=\"value\",\n",
    "    c=\"variable\"\n",
    ").select(\n",
    "    timespan=(1979, None)\n",
    ").label(\n",
    "    title=\"Income inequality\",\n",
    "    subtitle=\"Shown is the Gini – higher values indicate higher level of inequality – for equivalised household income.\"\n",
    ").interact(\n",
    "    entity_control=True,\n",
    "    enable_map=True\n",
    ")"
   ]
  }
 ],
 "metadata": {
  "kernelspec": {
   "display_name": "Python 3 (ipykernel)",
   "language": "python",
   "name": "python3"
  }
 },
 "nbformat": 4,
 "nbformat_minor": 5
}
