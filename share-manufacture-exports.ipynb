{
 "cells": [
  {
   "cell_type": "markdown",
   "id": "cbb9e907",
   "metadata": {},
   "source": [
    "# Share of manufactures in total merchandise exports"
   ]
  },
  {
   "cell_type": "code",
   "execution_count": null,
   "id": "68b08fcb",
   "metadata": {},
   "outputs": [],
   "source": [
    "import pandas as pd\n",
    "from owid import grapher, site"
   ]
  },
  {
   "cell_type": "code",
   "execution_count": null,
   "id": "75f1db06",
   "metadata": {},
   "outputs": [],
   "source": [
    "data = site.get_chart_data(slug=\"share-manufacture-exports\")\n",
    "data.head()"
   ]
  },
  {
   "cell_type": "code",
   "execution_count": null,
   "id": "180e400a",
   "metadata": {},
   "outputs": [],
   "source": [
    "grapher.Chart(\n",
    "    data\n",
    ").encode(\n",
    "    x=\"year\",\n",
    "    y=\"value\",\n",
    "    c=\"entity\"\n",
    ").select([\n",
    "    \"Germany\",\n",
    "    \"Brazil\",\n",
    "    \"United Kingdom\",\n",
    "    \"Colombia\",\n",
    "    \"India\"\n",
    "]).label(\n",
    "    title=\"Share of manufactures in total merchandise exports\",\n",
    "    subtitle=\"Manufacture exports (% of merchandise exports), as per Standard International Trade Classification of products.\"\n",
    ").interact(\n",
    "    entity_control=True,\n",
    "    enable_map=True\n",
    ")"
   ]
  }
 ],
 "metadata": {
  "kernelspec": {
   "display_name": "Python 3 (ipykernel)",
   "language": "python",
   "name": "python3"
  }
 },
 "nbformat": 4,
 "nbformat_minor": 5
}
