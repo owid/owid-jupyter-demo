{
 "cells": [
  {
   "cell_type": "markdown",
   "id": "0374e667",
   "metadata": {},
   "source": [
    "# Disposable household income  of the lowest decile in the income distribution"
   ]
  },
  {
   "cell_type": "code",
   "execution_count": null,
   "id": "e970c8c2",
   "metadata": {},
   "outputs": [],
   "source": [
    "import pandas as pd\n",
    "from owid import grapher, site"
   ]
  },
  {
   "cell_type": "code",
   "execution_count": null,
   "id": "1df04758",
   "metadata": {},
   "outputs": [],
   "source": [
    "data = site.get_chart_data(slug=\"1st-d\")\n",
    "data.head()"
   ]
  },
  {
   "cell_type": "code",
   "execution_count": null,
   "id": "cb237248",
   "metadata": {},
   "outputs": [],
   "source": [
    "grapher.Chart(\n",
    "    data\n",
    ").encode(\n",
    "    x=\"year\",\n",
    "    y=\"value\",\n",
    "    c=\"entity\"\n",
    ").select([\n",
    "    \"Hungary\",\n",
    "    \"Germany\",\n",
    "    \"Belgium\",\n",
    "    \"Iceland\",\n",
    "    \"Poland\"\n",
    "]).label(\n",
    "    title=\"Disposable household income of the lowest decile in the income distribution\",\n",
    "    note=\"Disposable household income is the sum of a household’s employment and self-employment income, capital income, social security and private transfers minus income taxes and social security contributions. It is adjusted for the household size (square root of the household size). It is adjusted for inflation and for price differences between countries and expressed in 2011 international dollars.\"\n",
    ").interact(\n",
    "    entity_control=True,\n",
    "    enable_map=True\n",
    ")"
   ]
  }
 ],
 "metadata": {
  "kernelspec": {
   "display_name": "Python 3 (ipykernel)",
   "language": "python",
   "name": "python3"
  }
 },
 "nbformat": 4,
 "nbformat_minor": 5
}
