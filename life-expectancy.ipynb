{
 "cells": [
  {
   "cell_type": "markdown",
   "id": "d1ca5136",
   "metadata": {},
   "source": [
    "# Life expectancy"
   ]
  },
  {
   "cell_type": "code",
   "execution_count": null,
   "id": "07d8c3a3",
   "metadata": {},
   "outputs": [],
   "source": [
    "import pandas as pd\n",
    "from owid import grapher, site"
   ]
  },
  {
   "cell_type": "code",
   "execution_count": null,
   "id": "bc6d3bc3",
   "metadata": {},
   "outputs": [],
   "source": [
    "data = site.get_chart_data(slug=\"life-expectancy\")\n",
    "data.head()"
   ]
  },
  {
   "cell_type": "code",
   "execution_count": null,
   "id": "6c189e08",
   "metadata": {},
   "outputs": [],
   "source": [
    "grapher.Chart(\n",
    "    data\n",
    ").encode(\n",
    "    x=\"year\",\n",
    "    y=\"value\",\n",
    "    c=\"entity\"\n",
    ").select([\n",
    "    \"Japan\",\n",
    "    \"United Kingdom\",\n",
    "    \"India\",\n",
    "    \"Ethiopia\",\n",
    "    \"World\",\n",
    "    \"South Korea\",\n",
    "    \"South Africa\"\n",
    "]).label(\n",
    "    title=\"Life expectancy\",\n",
    "    source_desc=\"Riley (2005), Clio Infra (2015), and UN Population Division (2019)\",\n",
    "    note=\"Shown is period life expectancy at birth, the average number of years a newborn would live if the pattern of mortality in the given year were to stay the same throughout its life.\"\n",
    ").interact(\n",
    "    entity_control=True,\n",
    "    scale_control=True,\n",
    "    enable_map=True\n",
    ")"
   ]
  }
 ],
 "metadata": {
  "kernelspec": {
   "display_name": "Python 3 (ipykernel)",
   "language": "python",
   "name": "python3"
  }
 },
 "nbformat": 4,
 "nbformat_minor": 5
}
