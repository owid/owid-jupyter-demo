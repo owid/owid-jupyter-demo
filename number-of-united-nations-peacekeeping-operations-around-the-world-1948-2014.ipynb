{
 "cells": [
  {
   "cell_type": "markdown",
   "id": "dca938e6",
   "metadata": {},
   "source": [
    "# Number of United Nations peacekeeping operations around the world, 1948-2014"
   ]
  },
  {
   "cell_type": "code",
   "execution_count": null,
   "id": "81803f5f",
   "metadata": {},
   "outputs": [],
   "source": [
    "import pandas as pd\n",
    "from owid import grapher, site"
   ]
  },
  {
   "cell_type": "code",
   "execution_count": null,
   "id": "c83593fc",
   "metadata": {},
   "outputs": [],
   "source": [
    "data = site.get_chart_data(slug=\"number-of-united-nations-peacekeeping-operations-around-the-world-1948-2014\")\n",
    "data.head()"
   ]
  },
  {
   "cell_type": "code",
   "execution_count": null,
   "id": "dab06fc7",
   "metadata": {},
   "outputs": [],
   "source": [
    "grapher.Chart(\n",
    "    data\n",
    ").encode(\n",
    "    x=\"year\",\n",
    "    y=\"value\"\n",
    ").label(\n",
    "    title=\"Number of United Nations peacekeeping operations around the world, 1948-2014\"\n",
    ").interact(\n",
    "    entity_control=True\n",
    ")"
   ]
  }
 ],
 "metadata": {
  "kernelspec": {
   "display_name": "Python 3 (ipykernel)",
   "language": "python",
   "name": "python3"
  }
 },
 "nbformat": 4,
 "nbformat_minor": 5
}
