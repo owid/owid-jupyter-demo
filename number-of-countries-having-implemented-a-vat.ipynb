{
 "cells": [
  {
   "cell_type": "markdown",
   "id": "32e2d17c",
   "metadata": {},
   "source": [
    "# Number of countries having implemented Value Added Taxes"
   ]
  },
  {
   "cell_type": "code",
   "execution_count": null,
   "id": "f7d4c65c",
   "metadata": {},
   "outputs": [],
   "source": [
    "import pandas as pd\n",
    "from owid import grapher, site"
   ]
  },
  {
   "cell_type": "code",
   "execution_count": null,
   "id": "8e811ae5",
   "metadata": {},
   "outputs": [],
   "source": [
    "data = site.get_chart_data(slug=\"number-of-countries-having-implemented-a-vat\")\n",
    "data.head()"
   ]
  },
  {
   "cell_type": "code",
   "execution_count": null,
   "id": "94ba105f",
   "metadata": {},
   "outputs": [],
   "source": [
    "grapher.Chart(\n",
    "    data\n",
    ").encode(\n",
    "    x=\"year\",\n",
    "    y=\"value\"\n",
    ").label(\n",
    "    title=\"Number of countries having implemented Value Added Taxes\"\n",
    ").interact(\n",
    "    entity_control=True\n",
    ")"
   ]
  }
 ],
 "metadata": {
  "kernelspec": {
   "display_name": "Python 3 (ipykernel)",
   "language": "python",
   "name": "python3"
  }
 },
 "nbformat": 4,
 "nbformat_minor": 5
}
