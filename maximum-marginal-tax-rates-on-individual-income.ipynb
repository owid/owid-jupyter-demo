{
 "cells": [
  {
   "cell_type": "markdown",
   "id": "02a656d2",
   "metadata": {},
   "source": [
    "# Top marginal income tax rates"
   ]
  },
  {
   "cell_type": "code",
   "execution_count": null,
   "id": "93be7a65",
   "metadata": {},
   "outputs": [],
   "source": [
    "import pandas as pd\n",
    "from owid import grapher, site"
   ]
  },
  {
   "cell_type": "code",
   "execution_count": null,
   "id": "ee66a0e9",
   "metadata": {},
   "outputs": [],
   "source": [
    "data = site.get_chart_data(slug=\"maximum-marginal-tax-rates-on-individual-income\")\n",
    "data.head()"
   ]
  },
  {
   "cell_type": "code",
   "execution_count": null,
   "id": "26c1d613",
   "metadata": {},
   "outputs": [],
   "source": [
    "grapher.Chart(\n",
    "    data\n",
    ").encode(\n",
    "    x=\"year\",\n",
    "    y=\"value\",\n",
    "    c=\"entity\"\n",
    ").select([\n",
    "    \"France\",\n",
    "    \"Ireland\",\n",
    "    \"Iran\",\n",
    "    \"Jamaica\",\n",
    "    \"Pakistan\",\n",
    "    \"Japan\",\n",
    "    \"Germany\",\n",
    "    \"Netherlands\",\n",
    "    \"United Kingdom\",\n",
    "    \"Guatemala\",\n",
    "    \"Trinidad and Tobago\",\n",
    "    \"Botswana\",\n",
    "    \"Bolivia\",\n",
    "    \"United States\",\n",
    "    \"Belgium\",\n",
    "    \"Indonesia\",\n",
    "    \"Colombia\",\n",
    "    \"Sweden\"\n",
    "]).label(\n",
    "    title=\"Top marginal income tax rates\",\n",
    "    subtitle=\"Top marginal tax rate of the income tax (i.e. the maximum rate of taxation applied to the highest part of income)\"\n",
    ").interact(\n",
    "    entity_control=True\n",
    ")"
   ]
  }
 ],
 "metadata": {
  "kernelspec": {
   "display_name": "Python 3 (ipykernel)",
   "language": "python",
   "name": "python3"
  }
 },
 "nbformat": 4,
 "nbformat_minor": 5
}
