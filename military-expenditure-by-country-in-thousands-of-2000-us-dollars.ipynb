{
 "cells": [
  {
   "cell_type": "markdown",
   "id": "c406219c",
   "metadata": {},
   "source": [
    "# Military expenditure by country"
   ]
  },
  {
   "cell_type": "code",
   "execution_count": null,
   "id": "cf571ef3",
   "metadata": {},
   "outputs": [],
   "source": [
    "import pandas as pd\n",
    "from owid import grapher, site"
   ]
  },
  {
   "cell_type": "code",
   "execution_count": null,
   "id": "0849c4af",
   "metadata": {},
   "outputs": [],
   "source": [
    "data = site.get_chart_data(slug=\"military-expenditure-by-country-in-thousands-of-2000-us-dollars\")\n",
    "data.head()"
   ]
  },
  {
   "cell_type": "code",
   "execution_count": null,
   "id": "c82f410e",
   "metadata": {},
   "outputs": [],
   "source": [
    "grapher.Chart(\n",
    "    data\n",
    ").encode(\n",
    "    x=\"year\",\n",
    "    y=\"value\",\n",
    "    c=\"entity\"\n",
    ").select(\n",
    "    entities=[\"France\",\n",
    "        \"Russia\",\n",
    "        \"Japan\",\n",
    "        \"Italy\",\n",
    "        \"Germany\",\n",
    "        \"United Kingdom\",\n",
    "        \"United States\",\n",
    "        \"China\"],\n",
    "    timespan=(1912, None)\n",
    ").label(\n",
    "    title=\"Military expenditure by country\",\n",
    "    subtitle=\"Adjusted for inflation and expressed in US dollars in prices of 2000.\"\n",
    ").interact(\n",
    "    entity_control=True\n",
    ")"
   ]
  }
 ],
 "metadata": {
  "kernelspec": {
   "display_name": "Python 3 (ipykernel)",
   "language": "python",
   "name": "python3"
  }
 },
 "nbformat": 4,
 "nbformat_minor": 5
}
