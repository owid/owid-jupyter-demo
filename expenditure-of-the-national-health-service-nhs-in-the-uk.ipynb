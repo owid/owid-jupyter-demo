{
 "cells": [
  {
   "cell_type": "markdown",
   "id": "acb3af3e",
   "metadata": {},
   "source": [
    "# Expenditure of the National Health Service (NHS) in the UK"
   ]
  },
  {
   "cell_type": "code",
   "execution_count": null,
   "id": "cfa78df8",
   "metadata": {},
   "outputs": [],
   "source": [
    "import pandas as pd\n",
    "from owid import grapher, site"
   ]
  },
  {
   "cell_type": "code",
   "execution_count": null,
   "id": "170ea54b",
   "metadata": {},
   "outputs": [],
   "source": [
    "data = site.get_chart_data(slug=\"expenditure-of-the-national-health-service-nhs-in-the-uk\")\n",
    "data.head()"
   ]
  },
  {
   "cell_type": "code",
   "execution_count": null,
   "id": "6e4dffb9",
   "metadata": {},
   "outputs": [],
   "source": [
    "grapher.Chart(\n",
    "    data\n",
    ").encode(\n",
    "    x=\"year\",\n",
    "    y=\"value\"\n",
    ").label(\n",
    "    title=\"Expenditure of the National Health Service (NHS) in the UK\",\n",
    "    subtitle=\"Public expenditure of the British publicly funded health care system as a share of GDP\"\n",
    ").interact(\n",
    "    entity_control=True\n",
    ")"
   ]
  }
 ],
 "metadata": {
  "kernelspec": {
   "display_name": "Python 3 (ipykernel)",
   "language": "python",
   "name": "python3"
  }
 },
 "nbformat": 4,
 "nbformat_minor": 5
}
