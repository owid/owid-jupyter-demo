{
 "cells": [
  {
   "cell_type": "markdown",
   "id": "7752cf0b",
   "metadata": {},
   "source": [
    "# Revenue from income taxes in Europe"
   ]
  },
  {
   "cell_type": "code",
   "execution_count": null,
   "id": "2766fb66",
   "metadata": {},
   "outputs": [],
   "source": [
    "import pandas as pd\n",
    "from owid import grapher, site"
   ]
  },
  {
   "cell_type": "code",
   "execution_count": null,
   "id": "2413d5d0",
   "metadata": {},
   "outputs": [],
   "source": [
    "data = site.get_chart_data(slug=\"income-taxes-share-of-revenue-europe\")\n",
    "data.head()"
   ]
  },
  {
   "cell_type": "code",
   "execution_count": null,
   "id": "bd96551f",
   "metadata": {},
   "outputs": [],
   "source": [
    "grapher.Chart(\n",
    "    data\n",
    ").encode(\n",
    "    x=\"year\",\n",
    "    y=\"value\",\n",
    "    c=\"entity\"\n",
    ").select(\n",
    "    entities=[\"France\",\n",
    "        \"Denmark\",\n",
    "        \"Germany\",\n",
    "        \"Italy\"],\n",
    "    timespan=(1871, None)\n",
    ").label(\n",
    "    title=\"Revenue from income taxes in Europe\",\n",
    "    subtitle=\"Income taxes, given as share of total government revenue.\"\n",
    ").interact(\n",
    "    entity_control=True\n",
    ")"
   ]
  }
 ],
 "metadata": {
  "kernelspec": {
   "display_name": "Python 3 (ipykernel)",
   "language": "python",
   "name": "python3"
  }
 },
 "nbformat": 4,
 "nbformat_minor": 5
}
