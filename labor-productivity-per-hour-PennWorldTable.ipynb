{
 "cells": [
  {
   "cell_type": "markdown",
   "id": "e3a292dc",
   "metadata": {},
   "source": [
    "# Productivity per hour worked"
   ]
  },
  {
   "cell_type": "code",
   "execution_count": null,
   "id": "5dda466a",
   "metadata": {},
   "outputs": [],
   "source": [
    "import pandas as pd\n",
    "from owid import grapher, site"
   ]
  },
  {
   "cell_type": "code",
   "execution_count": null,
   "id": "e460deb6",
   "metadata": {},
   "outputs": [],
   "source": [
    "data = site.get_chart_data(slug=\"labor-productivity-per-hour-PennWorldTable\")\n",
    "data.head()"
   ]
  },
  {
   "cell_type": "code",
   "execution_count": null,
   "id": "c050a267",
   "metadata": {},
   "outputs": [],
   "source": [
    "grapher.Chart(\n",
    "    data\n",
    ").encode(\n",
    "    x=\"year\",\n",
    "    y=\"value\",\n",
    "    c=\"entity\"\n",
    ").select(\n",
    "    entities=[\"France\",\n",
    "        \"Spain\",\n",
    "        \"Japan\",\n",
    "        \"Germany\",\n",
    "        \"Portugal\",\n",
    "        \"Malaysia\",\n",
    "        \"United Kingdom\",\n",
    "        \"United States\",\n",
    "        \"India\"],\n",
    "    timespan=(1970, None)\n",
    ").label(\n",
    "    title=\"Productivity per hour worked\",\n",
    "    subtitle=\"Labor productivity per hour is measured as gross domestic product (GDP) per hour of work. GDP is measured in constant 2011 international-$, which means it is adjusted for price differences between countries (PPP adjustment) and for inflation to allow comparisons between countries and over time.\",\n",
    "    source_desc=\"based on Feenstra et al. (2015) Penn World Tables 9.1\"\n",
    ").interact(\n",
    "    entity_control=True,\n",
    "    enable_map=True\n",
    ")"
   ]
  }
 ],
 "metadata": {
  "kernelspec": {
   "display_name": "Python 3 (ipykernel)",
   "language": "python",
   "name": "python3"
  }
 },
 "nbformat": 4,
 "nbformat_minor": 5
}
