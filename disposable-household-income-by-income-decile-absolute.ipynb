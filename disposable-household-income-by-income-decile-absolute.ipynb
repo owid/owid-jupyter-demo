{
 "cells": [
  {
   "cell_type": "markdown",
   "id": "d7cfe6e5",
   "metadata": {},
   "source": [
    "# Real Disposable Household  Income by Income Decile"
   ]
  },
  {
   "cell_type": "code",
   "execution_count": null,
   "id": "1700ab21",
   "metadata": {},
   "outputs": [],
   "source": [
    "import pandas as pd\n",
    "from owid import grapher, site"
   ]
  },
  {
   "cell_type": "code",
   "execution_count": null,
   "id": "916fcbd5",
   "metadata": {},
   "outputs": [],
   "source": [
    "data = site.get_chart_data(slug=\"disposable-household-income-by-income-decile-absolute\")\n",
    "data.head()"
   ]
  },
  {
   "cell_type": "code",
   "execution_count": null,
   "id": "fb01bd60",
   "metadata": {},
   "outputs": [],
   "source": [
    "grapher.Chart(\n",
    "    data[data.entity == \"United Kingdom\"]\n",
    ").encode(\n",
    "    x=\"year\",\n",
    "    y=\"value\",\n",
    "    c=\"variable\"\n",
    ").select(\n",
    "    timespan=(1979, 2010)\n",
    ").label(\n",
    "    title=\"Real Disposable Household Income by Income Decile\",\n",
    "    note=\"Adjusted for household size, inflation and price differences between countries and expressed in 2011 international dollars. 1st decile is the cutoff income that separate the poorest 10% from the richest 90% etc. The 5th decile is the median.\"\n",
    ").interact(\n",
    "    entity_control=True\n",
    ")"
   ]
  }
 ],
 "metadata": {
  "kernelspec": {
   "display_name": "Python 3 (ipykernel)",
   "language": "python",
   "name": "python3"
  }
 },
 "nbformat": 4,
 "nbformat_minor": 5
}
