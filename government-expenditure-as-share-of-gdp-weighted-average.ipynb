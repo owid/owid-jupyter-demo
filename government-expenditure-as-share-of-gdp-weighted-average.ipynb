{
 "cells": [
  {
   "cell_type": "markdown",
   "id": "e51aef07",
   "metadata": {},
   "source": [
    "# Government expenditure as share of GDP, weighted average"
   ]
  },
  {
   "cell_type": "code",
   "execution_count": null,
   "id": "b5c8026e",
   "metadata": {},
   "outputs": [],
   "source": [
    "import pandas as pd\n",
    "from owid import grapher, site"
   ]
  },
  {
   "cell_type": "code",
   "execution_count": null,
   "id": "1c819912",
   "metadata": {},
   "outputs": [],
   "source": [
    "data = site.get_chart_data(slug=\"government-expenditure-as-share-of-gdp-weighted-average\")\n",
    "data.head()"
   ]
  },
  {
   "cell_type": "code",
   "execution_count": null,
   "id": "b317fbe4",
   "metadata": {},
   "outputs": [],
   "source": [
    "grapher.Chart(\n",
    "    data\n",
    ").encode(\n",
    "    x=\"year\",\n",
    "    y=\"value\",\n",
    "    c=\"entity\"\n",
    ").select([\n",
    "    \"World\",\n",
    "    \"High income\"\n",
    "]).label(\n",
    "    title=\"Government expenditure as share of GDP, weighted average\",\n",
    "    subtitle=\"Aggregated government expenditures (payments for operating activities of the government in providing goods and services), as share of aggregated GDP.\"\n",
    ").interact(\n",
    "    entity_control=True\n",
    ")"
   ]
  }
 ],
 "metadata": {
  "kernelspec": {
   "display_name": "Python 3 (ipykernel)",
   "language": "python",
   "name": "python3"
  }
 },
 "nbformat": 4,
 "nbformat_minor": 5
}
