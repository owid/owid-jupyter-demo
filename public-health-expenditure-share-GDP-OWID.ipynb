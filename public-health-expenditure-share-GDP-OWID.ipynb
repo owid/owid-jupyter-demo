{
 "cells": [
  {
   "cell_type": "markdown",
   "id": "c5b2035a",
   "metadata": {},
   "source": [
    "# Public health expenditure (% GDP)"
   ]
  },
  {
   "cell_type": "code",
   "execution_count": null,
   "id": "2692848d",
   "metadata": {},
   "outputs": [],
   "source": [
    "import pandas as pd\n",
    "from owid import grapher, site"
   ]
  },
  {
   "cell_type": "code",
   "execution_count": null,
   "id": "038059fd",
   "metadata": {},
   "outputs": [],
   "source": [
    "data = site.get_chart_data(slug=\"public-health-expenditure-share-GDP-OWID\")\n",
    "data.head()"
   ]
  },
  {
   "cell_type": "code",
   "execution_count": null,
   "id": "7bfb9e21",
   "metadata": {},
   "outputs": [],
   "source": [
    "grapher.Chart(\n",
    "    data\n",
    ").encode(\n",
    "    x=\"year\",\n",
    "    y=\"value\",\n",
    "    c=\"entity\"\n",
    ").select([\n",
    "    \"France\",\n",
    "    \"Spain\",\n",
    "    \"Australia\",\n",
    "    \"Japan\",\n",
    "    \"Germany\",\n",
    "    \"United Kingdom\",\n",
    "    \"United States\",\n",
    "    \"Belgium\",\n",
    "    \"Sweden\"\n",
    "]).label(\n",
    "    title=\"Public health expenditure (% GDP)\",\n",
    "    subtitle=\"Public health expenditure includes: recurrent and capital spending (central and local levels), external borrowing and grants (including donations from international agencies and NGOs), and social or compulsory insurance funds.\"\n",
    ").interact(\n",
    "    entity_control=True,\n",
    "    enable_map=True\n",
    ")"
   ]
  }
 ],
 "metadata": {
  "kernelspec": {
   "display_name": "Python 3 (ipykernel)",
   "language": "python",
   "name": "python3"
  }
 },
 "nbformat": 4,
 "nbformat_minor": 5
}
