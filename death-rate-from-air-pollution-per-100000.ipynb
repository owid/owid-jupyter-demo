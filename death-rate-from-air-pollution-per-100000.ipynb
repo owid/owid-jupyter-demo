{
 "cells": [
  {
   "cell_type": "markdown",
   "id": "0c75da7e",
   "metadata": {},
   "source": [
    "# Death rate from air pollution (per 100,000)"
   ]
  },
  {
   "cell_type": "code",
   "execution_count": null,
   "id": "32fb3547",
   "metadata": {},
   "outputs": [],
   "source": [
    "import pandas as pd\n",
    "from owid import grapher, site"
   ]
  },
  {
   "cell_type": "code",
   "execution_count": null,
   "id": "1f5bba1d",
   "metadata": {},
   "outputs": [],
   "source": [
    "data = site.get_chart_data(slug=\"death-rate-from-air-pollution-per-100000\")\n",
    "data.head()"
   ]
  },
  {
   "cell_type": "code",
   "execution_count": null,
   "id": "9b216b5e",
   "metadata": {},
   "outputs": [],
   "source": [
    "grapher.Chart(\n",
    "    data\n",
    ").encode(\n",
    "    x=\"year\",\n",
    "    y=\"value\",\n",
    "    c=\"entity\"\n",
    ").select([\n",
    "    \"Russia\",\n",
    "    \"Brazil\",\n",
    "    \"United Kingdom\",\n",
    "    \"Singapore\",\n",
    "    \"China\",\n",
    "    \"India\"\n",
    "]).label(\n",
    "    title=\"Death rate from air pollution (per 100,000)\",\n",
    "    subtitle=\"Age-standardised death rate from exposure to air pollution (indoor and ambient outdoor) per 100,000 individuals.\"\n",
    ").interact(\n",
    "    entity_control=True,\n",
    "    enable_map=True\n",
    ")"
   ]
  }
 ],
 "metadata": {
  "kernelspec": {
   "display_name": "Python 3 (ipykernel)",
   "language": "python",
   "name": "python3"
  }
 },
 "nbformat": 4,
 "nbformat_minor": 5
}
