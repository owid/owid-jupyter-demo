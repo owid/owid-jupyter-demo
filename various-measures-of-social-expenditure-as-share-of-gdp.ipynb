{
 "cells": [
  {
   "cell_type": "markdown",
   "id": "0f304d1b",
   "metadata": {},
   "source": [
    "# Various measures of social expenditure as share of GDP"
   ]
  },
  {
   "cell_type": "code",
   "execution_count": null,
   "id": "ca83d035",
   "metadata": {},
   "outputs": [],
   "source": [
    "import pandas as pd\n",
    "from owid import grapher, site"
   ]
  },
  {
   "cell_type": "code",
   "execution_count": null,
   "id": "fbc9d8f9",
   "metadata": {},
   "outputs": [],
   "source": [
    "data = site.get_chart_data(slug=\"various-measures-of-social-expenditure-as-share-of-gdp\")\n",
    "data.head()"
   ]
  },
  {
   "cell_type": "code",
   "execution_count": null,
   "id": "9034af62",
   "metadata": {},
   "outputs": [],
   "source": [
    "grapher.Chart(\n",
    "    data[data.entity == \"Japan\"]\n",
    ").encode(\n",
    "    x=\"year\",\n",
    "    y=\"value\",\n",
    "    c=\"variable\"\n",
    ").label(\n",
    "    title=\"Various measures of social expenditure as share of GDP\",\n",
    "    subtitle=\"Figures correspond to various sources of information regarding public social expenditure as share of GDP. The series 'OWID extrapolated' was constructed using the other series (see Source tab for details).\"\n",
    ").interact(\n",
    "    entity_control=True\n",
    ")"
   ]
  }
 ],
 "metadata": {
  "kernelspec": {
   "display_name": "Python 3 (ipykernel)",
   "language": "python",
   "name": "python3"
  }
 },
 "nbformat": 4,
 "nbformat_minor": 5
}
