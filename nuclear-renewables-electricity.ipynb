{
 "cells": [
  {
   "cell_type": "markdown",
   "id": "cb31b210",
   "metadata": {},
   "source": [
    "# The share of nuclear and renewables in total electricity production"
   ]
  },
  {
   "cell_type": "code",
   "execution_count": null,
   "id": "19ac9564",
   "metadata": {},
   "outputs": [],
   "source": [
    "import pandas as pd\n",
    "from owid import grapher, site"
   ]
  },
  {
   "cell_type": "code",
   "execution_count": null,
   "id": "83cf7580",
   "metadata": {},
   "outputs": [],
   "source": [
    "data = site.get_chart_data(slug=\"nuclear-renewables-electricity\")\n",
    "data.head()"
   ]
  },
  {
   "cell_type": "code",
   "execution_count": null,
   "id": "5241e14a",
   "metadata": {},
   "outputs": [],
   "source": [
    "grapher.Chart(\n",
    "    data[data.entity == \"World\"]\n",
    ").encode(\n",
    "    x=\"year\",\n",
    "    y=\"value\",\n",
    "    c=\"variable\"\n",
    ").label(\n",
    "    title=\"The share of nuclear and renewables in total electricity production\",\n",
    "    subtitle=\"'Renewables' includes hydropower, biomass, wind, solar, geothermal and marine production; it does not include nuclear or traditional biomass.\",\n",
    "    source_desc=\"BP Statistical Review of World Energy & Ember\"\n",
    ").interact(\n",
    "    entity_control=True\n",
    ")"
   ]
  }
 ],
 "metadata": {
  "kernelspec": {
   "display_name": "Python 3 (ipykernel)",
   "language": "python",
   "name": "python3"
  }
 },
 "nbformat": 4,
 "nbformat_minor": 5
}
