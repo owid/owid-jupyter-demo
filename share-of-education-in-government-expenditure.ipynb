{
 "cells": [
  {
   "cell_type": "markdown",
   "id": "be6029d0",
   "metadata": {},
   "source": [
    "# Share of education in government expenditure"
   ]
  },
  {
   "cell_type": "code",
   "execution_count": null,
   "id": "66ac2c34",
   "metadata": {},
   "outputs": [],
   "source": [
    "import pandas as pd\n",
    "from owid import grapher, site"
   ]
  },
  {
   "cell_type": "code",
   "execution_count": null,
   "id": "bb755e84",
   "metadata": {},
   "outputs": [],
   "source": [
    "data = site.get_chart_data(slug=\"share-of-education-in-government-expenditure\")\n",
    "data.head()"
   ]
  },
  {
   "cell_type": "code",
   "execution_count": null,
   "id": "f846705d",
   "metadata": {},
   "outputs": [],
   "source": [
    "grapher.Chart(\n",
    "    data\n",
    ").encode(\n",
    "    x=\"year\",\n",
    "    y=\"value\",\n",
    "    c=\"entity\"\n",
    ").select(\n",
    "    entities=[\"Nepal\",\n",
    "        \"Peru\",\n",
    "        \"Italy\",\n",
    "        \"Central African Republic\",\n",
    "        \"South Africa\",\n",
    "        \"United States\"],\n",
    "    timespan=(1998, 2017)\n",
    ").label(\n",
    "    title=\"Share of education in government expenditure\",\n",
    "    subtitle=\"Total general government expenditure on education (all levels of government and all levels of education), expressed as a percentage of total general government expenditure on all sectors (including health, education, social services, etc.).\"\n",
    ").interact(\n",
    "    entity_control=True,\n",
    "    enable_map=True\n",
    ")"
   ]
  }
 ],
 "metadata": {
  "kernelspec": {
   "display_name": "Python 3 (ipykernel)",
   "language": "python",
   "name": "python3"
  }
 },
 "nbformat": 4,
 "nbformat_minor": 5
}
