{
 "cells": [
  {
   "cell_type": "markdown",
   "id": "d0f7f6ed",
   "metadata": {},
   "source": [
    "# Total size of United Nations peacekeeping forces"
   ]
  },
  {
   "cell_type": "code",
   "execution_count": null,
   "id": "9b369d22",
   "metadata": {},
   "outputs": [],
   "source": [
    "import pandas as pd\n",
    "from owid import grapher, site"
   ]
  },
  {
   "cell_type": "code",
   "execution_count": null,
   "id": "83154c17",
   "metadata": {},
   "outputs": [],
   "source": [
    "data = site.get_chart_data(slug=\"total-size-of-united-nations-peacekeeping-forces-around-the-world-1947-2014\")\n",
    "data.head()"
   ]
  },
  {
   "cell_type": "code",
   "execution_count": null,
   "id": "3c40387c",
   "metadata": {},
   "outputs": [],
   "source": [
    "grapher.Chart(\n",
    "    data\n",
    ").encode(\n",
    "    x=\"year\",\n",
    "    y=\"value\"\n",
    ").label(\n",
    "    title=\"Total size of United Nations peacekeeping forces\"\n",
    ").interact(\n",
    "    entity_control=True\n",
    ")"
   ]
  }
 ],
 "metadata": {
  "kernelspec": {
   "display_name": "Python 3 (ipykernel)",
   "language": "python",
   "name": "python3"
  }
 },
 "nbformat": 4,
 "nbformat_minor": 5
}
