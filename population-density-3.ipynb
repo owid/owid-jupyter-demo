{
 "cells": [
  {
   "cell_type": "markdown",
   "id": "78473941",
   "metadata": {},
   "source": [
    "# Population density"
   ]
  },
  {
   "cell_type": "code",
   "execution_count": null,
   "id": "a4b736d7",
   "metadata": {},
   "outputs": [],
   "source": [
    "import pandas as pd\n",
    "from owid import grapher, site"
   ]
  },
  {
   "cell_type": "code",
   "execution_count": null,
   "id": "ef25c905",
   "metadata": {},
   "outputs": [],
   "source": [
    "data = site.get_chart_data(slug=\"population-density-3\")\n",
    "data.head()"
   ]
  },
  {
   "cell_type": "code",
   "execution_count": null,
   "id": "5732d2ad",
   "metadata": {},
   "outputs": [],
   "source": [
    "grapher.Chart(\n",
    "    data\n",
    ").encode(\n",
    "    x=\"year\",\n",
    "    y=\"value\",\n",
    "    c=\"entity\"\n",
    ").select(\n",
    "    entities=[\"Italy\",\n",
    "        \"United States\",\n",
    "        \"Egypt\",\n",
    "        \"Argentina\",\n",
    "        \"Mexico\"],\n",
    "    timespan=(-5000, None)\n",
    ").label(\n",
    "    title=\"Population density\",\n",
    "    subtitle=\"Number of inhabitants per square kilometer.\",\n",
    "    note=\"Uses population estimates from HYDE (10,000 BCE - 2,000 CE) and UN projections thereafter (2008 revision)\"\n",
    ").interact(\n",
    "    entity_control=True,\n",
    "    scale_control=True,\n",
    "    enable_map=True\n",
    ")"
   ]
  }
 ],
 "metadata": {
  "kernelspec": {
   "display_name": "Python 3 (ipykernel)",
   "language": "python",
   "name": "python3"
  }
 },
 "nbformat": 4,
 "nbformat_minor": 5
}
