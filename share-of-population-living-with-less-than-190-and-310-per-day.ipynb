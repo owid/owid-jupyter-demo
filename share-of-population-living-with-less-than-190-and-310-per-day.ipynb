{
 "cells": [
  {
   "cell_type": "markdown",
   "id": "054204eb",
   "metadata": {},
   "source": [
    "# Share of population living with less than 1.90$ and 3.10$ per day"
   ]
  },
  {
   "cell_type": "code",
   "execution_count": null,
   "id": "3856cd39",
   "metadata": {},
   "outputs": [],
   "source": [
    "import pandas as pd\n",
    "from owid import grapher, site"
   ]
  },
  {
   "cell_type": "code",
   "execution_count": null,
   "id": "45efe136",
   "metadata": {},
   "outputs": [],
   "source": [
    "data = site.get_chart_data(slug=\"share-of-population-living-with-less-than-190-and-310-per-day\")\n",
    "data.head()"
   ]
  },
  {
   "cell_type": "code",
   "execution_count": null,
   "id": "6940a723",
   "metadata": {},
   "outputs": [],
   "source": [
    "grapher.Chart(\n",
    "    data[data.entity == \"China\"]\n",
    ").encode(\n",
    "    x=\"year\",\n",
    "    y=\"value\",\n",
    "    c=\"variable\"\n",
    ").label(\n",
    "    title=\"Share of population living with less than 1.90$ and 3.10$ per day\",\n",
    "    subtitle=\"International-$ are adjusted for price differences between countries and for price changes over time (inflation).\",\n",
    "    note=\"Incomes per day are adjusted for inflation over time and for price differences between countries and expressed in 2011 PPP international dollars.\"\n",
    ").interact(\n",
    "    entity_control=True\n",
    ")"
   ]
  }
 ],
 "metadata": {
  "kernelspec": {
   "display_name": "Python 3 (ipykernel)",
   "language": "python",
   "name": "python3"
  }
 },
 "nbformat": 4,
 "nbformat_minor": 5
}
