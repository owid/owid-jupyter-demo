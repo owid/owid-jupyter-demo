{
 "cells": [
  {
   "cell_type": "markdown",
   "id": "75d9a74b",
   "metadata": {},
   "source": [
    "# UK defence spending as a percentage of GDP, 1692-2014"
   ]
  },
  {
   "cell_type": "code",
   "execution_count": null,
   "id": "8b316694",
   "metadata": {},
   "outputs": [],
   "source": [
    "import pandas as pd\n",
    "from owid import grapher, site"
   ]
  },
  {
   "cell_type": "code",
   "execution_count": null,
   "id": "1dfa843b",
   "metadata": {},
   "outputs": [],
   "source": [
    "data = site.get_chart_data(slug=\"uk-defence-spending-as-a-percentage-of-gdp-1692-2014\")\n",
    "data.head()"
   ]
  },
  {
   "cell_type": "code",
   "execution_count": null,
   "id": "bb0e0d06",
   "metadata": {},
   "outputs": [],
   "source": [
    "grapher.Chart(\n",
    "    data\n",
    ").encode(\n",
    "    x=\"year\",\n",
    "    y=\"value\"\n",
    ").label(\n",
    "    title=\"UK defence spending as a percentage of GDP, 1692-2014\"\n",
    ").interact(\n",
    "    entity_control=True\n",
    ")"
   ]
  }
 ],
 "metadata": {
  "kernelspec": {
   "display_name": "Python 3 (ipykernel)",
   "language": "python",
   "name": "python3"
  }
 },
 "nbformat": 4,
 "nbformat_minor": 5
}
