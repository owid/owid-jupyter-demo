{
 "cells": [
  {
   "cell_type": "markdown",
   "id": "204e7818",
   "metadata": {},
   "source": [
    "# Fatalities and injuries due to terrorism"
   ]
  },
  {
   "cell_type": "code",
   "execution_count": null,
   "id": "b130583f",
   "metadata": {},
   "outputs": [],
   "source": [
    "import pandas as pd\n",
    "from owid import grapher, site"
   ]
  },
  {
   "cell_type": "code",
   "execution_count": null,
   "id": "14f4712a",
   "metadata": {},
   "outputs": [],
   "source": [
    "data = site.get_chart_data(slug=\"fatalities-and-injuries-due-to-terrorism\")\n",
    "data.head()"
   ]
  },
  {
   "cell_type": "code",
   "execution_count": null,
   "id": "66e840a3",
   "metadata": {},
   "outputs": [],
   "source": [
    "grapher.Chart(\n",
    "    data[data.entity == \"Azerbaijan\"]\n",
    ").encode(\n",
    "    x=\"year\",\n",
    "    y=\"value\",\n",
    "    c=\"variable\"\n",
    ").label(\n",
    "    title=\"Fatalities and injuries due to terrorism\"\n",
    ").interact(\n",
    "    entity_control=True\n",
    ")"
   ]
  }
 ],
 "metadata": {
  "kernelspec": {
   "display_name": "Python 3 (ipykernel)",
   "language": "python",
   "name": "python3"
  }
 },
 "nbformat": 4,
 "nbformat_minor": 5
}
