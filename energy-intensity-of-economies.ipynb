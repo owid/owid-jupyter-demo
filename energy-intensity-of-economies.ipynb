{
 "cells": [
  {
   "cell_type": "markdown",
   "id": "15205621",
   "metadata": {},
   "source": [
    "# Energy intensity of economies"
   ]
  },
  {
   "cell_type": "code",
   "execution_count": null,
   "id": "7cffd2e0",
   "metadata": {},
   "outputs": [],
   "source": [
    "import pandas as pd\n",
    "from owid import grapher, site"
   ]
  },
  {
   "cell_type": "code",
   "execution_count": null,
   "id": "6d3c6ca8",
   "metadata": {},
   "outputs": [],
   "source": [
    "data = site.get_chart_data(slug=\"energy-intensity-of-economies\")\n",
    "data.head()"
   ]
  },
  {
   "cell_type": "code",
   "execution_count": null,
   "id": "7bc6aafd",
   "metadata": {},
   "outputs": [],
   "source": [
    "grapher.Chart(\n",
    "    data\n",
    ").encode(\n",
    "    x=\"year\",\n",
    "    y=\"value\",\n",
    "    c=\"entity\"\n",
    ").select([\n",
    "    \"Upper middle income\",\n",
    "    \"World\",\n",
    "    \"High income\",\n",
    "    \"Lower middle income\",\n",
    "    \"Middle income\",\n",
    "    \"Low income\"\n",
    "]).label(\n",
    "    title=\"Energy intensity of economies\",\n",
    "    subtitle=\"Energy intensity level of primary energy is the ratio between energy supply and gross domestic product measured at purchasing power parity. Energy intensity is an indication of how much energy is used to produce one unit of economic output. Lower ratio indicates that less energy is used to produce one unit of output.\",\n",
    "    source_desc=\"World Bank, Sustainable Energy for All (SE4ALL)\"\n",
    ").interact(\n",
    "    entity_control=True,\n",
    "    enable_map=True\n",
    ")"
   ]
  }
 ],
 "metadata": {
  "kernelspec": {
   "display_name": "Python 3 (ipykernel)",
   "language": "python",
   "name": "python3"
  }
 },
 "nbformat": 4,
 "nbformat_minor": 5
}
