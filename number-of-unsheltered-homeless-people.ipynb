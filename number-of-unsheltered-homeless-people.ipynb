{
 "cells": [
  {
   "cell_type": "markdown",
   "id": "493616b4",
   "metadata": {},
   "source": [
    "# Number of unsheltered homeless people in England"
   ]
  },
  {
   "cell_type": "code",
   "execution_count": null,
   "id": "d9739470",
   "metadata": {},
   "outputs": [],
   "source": [
    "import pandas as pd\n",
    "from owid import grapher, site"
   ]
  },
  {
   "cell_type": "code",
   "execution_count": null,
   "id": "9c952fc4",
   "metadata": {},
   "outputs": [],
   "source": [
    "data = site.get_chart_data(slug=\"number-of-unsheltered-homeless-people\")\n",
    "data.head()"
   ]
  },
  {
   "cell_type": "code",
   "execution_count": null,
   "id": "6f61b7a3",
   "metadata": {},
   "outputs": [],
   "source": [
    "grapher.Chart(\n",
    "    data\n",
    ").encode(\n",
    "    x=\"year\",\n",
    "    y=\"value\"\n",
    ").label(\n",
    "    title=\"Number of unsheltered homeless people in England\",\n",
    "    subtitle=\"Estimated number of unsheltered homeless people in England. Figures correspond to 'point-in-time' estimates obtained by counting 'rough sleepers' in autumn.\"\n",
    ").interact(\n",
    "    entity_control=True\n",
    ")"
   ]
  }
 ],
 "metadata": {
  "kernelspec": {
   "display_name": "Python 3 (ipykernel)",
   "language": "python",
   "name": "python3"
  }
 },
 "nbformat": 4,
 "nbformat_minor": 5
}
