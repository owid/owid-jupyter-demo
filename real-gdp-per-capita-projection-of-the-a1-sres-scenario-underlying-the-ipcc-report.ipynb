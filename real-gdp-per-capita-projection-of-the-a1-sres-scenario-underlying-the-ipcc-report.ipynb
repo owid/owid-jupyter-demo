{
 "cells": [
  {
   "cell_type": "markdown",
   "id": "ec9de16c",
   "metadata": {},
   "source": [
    "# Real GDP per capita projection of the A1 (SRES) scenario underlying the IPCC report "
   ]
  },
  {
   "cell_type": "code",
   "execution_count": null,
   "id": "df300ae1",
   "metadata": {},
   "outputs": [],
   "source": [
    "import pandas as pd\n",
    "from owid import grapher, site"
   ]
  },
  {
   "cell_type": "code",
   "execution_count": null,
   "id": "260f6880",
   "metadata": {},
   "outputs": [],
   "source": [
    "data = site.get_chart_data(slug=\"real-gdp-per-capita-projection-of-the-a1-sres-scenario-underlying-the-ipcc-report\")\n",
    "data.head()"
   ]
  },
  {
   "cell_type": "code",
   "execution_count": null,
   "id": "d54809b8",
   "metadata": {},
   "outputs": [],
   "source": [
    "grapher.Chart(\n",
    "    data\n",
    ").encode(\n",
    "    x=\"year\",\n",
    "    y=\"value\",\n",
    "    c=\"entity\"\n",
    ").select([\n",
    "    \"North Korea\",\n",
    "    \"Somalia\",\n",
    "    \"Austria\",\n",
    "    \"Libya\"\n",
    "]).label(\n",
    "    title=\"Real GDP per capita projection of the A1 (SRES) scenario underlying the IPCC report\",\n",
    "    subtitle=\"Growth rates are projected for world regions and these data are linearly downscaled to countries within each region.\"\n",
    ").interact(\n",
    "    entity_control=True,\n",
    "    enable_map=True\n",
    ")"
   ]
  }
 ],
 "metadata": {
  "kernelspec": {
   "display_name": "Python 3 (ipykernel)",
   "language": "python",
   "name": "python3"
  }
 },
 "nbformat": 4,
 "nbformat_minor": 5
}
