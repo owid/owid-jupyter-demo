{
 "cells": [
  {
   "cell_type": "markdown",
   "id": "4391995f",
   "metadata": {},
   "source": [
    "# GDP per capita in international and market dollars"
   ]
  },
  {
   "cell_type": "code",
   "execution_count": null,
   "id": "f0e5ed0e",
   "metadata": {},
   "outputs": [],
   "source": [
    "import pandas as pd\n",
    "from owid import grapher, site"
   ]
  },
  {
   "cell_type": "code",
   "execution_count": null,
   "id": "b8d20a6c",
   "metadata": {},
   "outputs": [],
   "source": [
    "data = site.get_chart_data(slug=\"gdp-per-capita-in-international-and-market-dollars\")\n",
    "data.head()"
   ]
  },
  {
   "cell_type": "code",
   "execution_count": null,
   "id": "57265b0a",
   "metadata": {},
   "outputs": [],
   "source": [
    "grapher.Chart(\n",
    "    data[data.entity == \"India\"]\n",
    ").encode(\n",
    "    x=\"year\",\n",
    "    y=\"value\",\n",
    "    c=\"variable\"\n",
    ").select(\n",
    "    timespan=(1990, None)\n",
    ").label(\n",
    "    title=\"GDP per capita in international and market dollars\",\n",
    "    subtitle=\"International dollars use purchase power parity conversion rates from 2011, in order to account for differences in prices levels. Market dollars use currency market exchange rates.\"\n",
    ").interact(\n",
    "    entity_control=True\n",
    ")"
   ]
  }
 ],
 "metadata": {
  "kernelspec": {
   "display_name": "Python 3 (ipykernel)",
   "language": "python",
   "name": "python3"
  }
 },
 "nbformat": 4,
 "nbformat_minor": 5
}
