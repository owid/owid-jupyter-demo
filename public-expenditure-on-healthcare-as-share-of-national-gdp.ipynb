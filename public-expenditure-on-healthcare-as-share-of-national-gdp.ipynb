{
 "cells": [
  {
   "cell_type": "markdown",
   "id": "754908ab",
   "metadata": {},
   "source": [
    "# Public healthcare expenditure as share of GDP"
   ]
  },
  {
   "cell_type": "code",
   "execution_count": null,
   "id": "d592b840",
   "metadata": {},
   "outputs": [],
   "source": [
    "import pandas as pd\n",
    "from owid import grapher, site"
   ]
  },
  {
   "cell_type": "code",
   "execution_count": null,
   "id": "7f639d31",
   "metadata": {},
   "outputs": [],
   "source": [
    "data = site.get_chart_data(slug=\"public-expenditure-on-healthcare-as-share-of-national-gdp\")\n",
    "data.head()"
   ]
  },
  {
   "cell_type": "code",
   "execution_count": null,
   "id": "387db9d6",
   "metadata": {},
   "outputs": [],
   "source": [
    "grapher.Chart(\n",
    "    data\n",
    ").encode(\n",
    "    x=\"year\",\n",
    "    y=\"value\",\n",
    "    c=\"entity\"\n",
    ").select([\n",
    "    \"France\",\n",
    "    \"Norway\",\n",
    "    \"Australia\",\n",
    "    \"Japan\",\n",
    "    \"Italy\",\n",
    "    \"United Kingdom\",\n",
    "    \"United States\",\n",
    "    \"Austria\"\n",
    "]).label(\n",
    "    title=\"Public healthcare expenditure as share of GDP\",\n",
    "    subtitle=\"Public expenditure on healthcare as share of GDP for selected OECD countries\"\n",
    ").interact(\n",
    "    entity_control=True\n",
    ")"
   ]
  }
 ],
 "metadata": {
  "kernelspec": {
   "display_name": "Python 3 (ipykernel)",
   "language": "python",
   "name": "python3"
  }
 },
 "nbformat": 4,
 "nbformat_minor": 5
}
