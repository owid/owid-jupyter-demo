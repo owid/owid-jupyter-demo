{
 "cells": [
  {
   "cell_type": "markdown",
   "id": "9b47fa08",
   "metadata": {},
   "source": [
    "# OECD average trust in governments"
   ]
  },
  {
   "cell_type": "code",
   "execution_count": null,
   "id": "f44ee2dc",
   "metadata": {},
   "outputs": [],
   "source": [
    "import pandas as pd\n",
    "from owid import grapher, site"
   ]
  },
  {
   "cell_type": "code",
   "execution_count": null,
   "id": "7fbc0d41",
   "metadata": {},
   "outputs": [],
   "source": [
    "data = site.get_chart_data(slug=\"oecd-average-trust-in-governments\")\n",
    "data.head()"
   ]
  },
  {
   "cell_type": "code",
   "execution_count": null,
   "id": "5148c380",
   "metadata": {},
   "outputs": [],
   "source": [
    "grapher.Chart(\n",
    "    data\n",
    ").encode(\n",
    "    x=\"year\",\n",
    "    y=\"value\"\n",
    ").label(\n",
    "    title=\"OECD average trust in governments\",\n",
    "    subtitle=\"Percentage of the population reporting confidence in the national government\"\n",
    ").interact(\n",
    "    entity_control=True\n",
    ")"
   ]
  }
 ],
 "metadata": {
  "kernelspec": {
   "display_name": "Python 3 (ipykernel)",
   "language": "python",
   "name": "python3"
  }
 },
 "nbformat": 4,
 "nbformat_minor": 5
}
