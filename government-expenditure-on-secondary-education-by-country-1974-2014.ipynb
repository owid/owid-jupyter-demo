{
 "cells": [
  {
   "cell_type": "markdown",
   "id": "8d39e5e6",
   "metadata": {},
   "source": [
    "# Government expenditure on secondary education by country, 1974-2014"
   ]
  },
  {
   "cell_type": "code",
   "execution_count": null,
   "id": "140c980b",
   "metadata": {},
   "outputs": [],
   "source": [
    "import pandas as pd\n",
    "from owid import grapher, site"
   ]
  },
  {
   "cell_type": "code",
   "execution_count": null,
   "id": "dbea8cd2",
   "metadata": {},
   "outputs": [],
   "source": [
    "data = site.get_chart_data(slug=\"government-expenditure-on-secondary-education-by-country-1974-2014\")\n",
    "data.head()"
   ]
  },
  {
   "cell_type": "code",
   "execution_count": null,
   "id": "3e64bbd0",
   "metadata": {},
   "outputs": [],
   "source": [
    "grapher.Chart(\n",
    "    data\n",
    ").encode(\n",
    "    x=\"year\",\n",
    "    y=\"value\",\n",
    "    c=\"entity\"\n",
    ").select([\n",
    "    \"Japan\",\n",
    "    \"India\",\n",
    "    \"United States\",\n",
    "    \"United Kingdom\"\n",
    "]).label(\n",
    "    title=\"Government expenditure on secondary education by country, 1974-2014\",\n",
    "    subtitle=\"Government expenditure per student as a percentage of GDP per capita.\"\n",
    ").interact(\n",
    "    entity_control=True\n",
    ")"
   ]
  }
 ],
 "metadata": {
  "kernelspec": {
   "display_name": "Python 3 (ipykernel)",
   "language": "python",
   "name": "python3"
  }
 },
 "nbformat": 4,
 "nbformat_minor": 5
}
