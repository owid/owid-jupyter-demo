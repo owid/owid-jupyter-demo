{
 "cells": [
  {
   "cell_type": "markdown",
   "id": "6e17d968",
   "metadata": {},
   "source": [
    "# Total government expenditure on education"
   ]
  },
  {
   "cell_type": "code",
   "execution_count": null,
   "id": "128a47bf",
   "metadata": {},
   "outputs": [],
   "source": [
    "import pandas as pd\n",
    "from owid import grapher, site"
   ]
  },
  {
   "cell_type": "code",
   "execution_count": null,
   "id": "4ffbedff",
   "metadata": {},
   "outputs": [],
   "source": [
    "data = site.get_chart_data(slug=\"total-government-expenditure-on-education-gdp\")\n",
    "data.head()"
   ]
  },
  {
   "cell_type": "code",
   "execution_count": null,
   "id": "1f7fb4be",
   "metadata": {},
   "outputs": [],
   "source": [
    "grapher.Chart(\n",
    "    data\n",
    ").encode(\n",
    "    x=\"year\",\n",
    "    y=\"value\",\n",
    "    c=\"entity\"\n",
    ").select([\n",
    "    \"South Korea\",\n",
    "    \"Bangladesh\",\n",
    "    \"United Kingdom\",\n",
    "    \"Bolivia\",\n",
    "    \"United States\",\n",
    "    \"Cameroon\"\n",
    "]).label(\n",
    "    title=\"Total government expenditure on education\",\n",
    "    subtitle=\"Total general government expenditure on education (all levels of government and all levels of education), given as a share of GDP.\"\n",
    ").interact(\n",
    "    entity_control=True,\n",
    "    enable_map=True\n",
    ")"
   ]
  }
 ],
 "metadata": {
  "kernelspec": {
   "display_name": "Python 3 (ipykernel)",
   "language": "python",
   "name": "python3"
  }
 },
 "nbformat": 4,
 "nbformat_minor": 5
}
