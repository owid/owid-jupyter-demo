{
 "cells": [
  {
   "cell_type": "markdown",
   "id": "e412b9f1",
   "metadata": {},
   "source": [
    "# Public trust in government"
   ]
  },
  {
   "cell_type": "code",
   "execution_count": null,
   "id": "489b9f42",
   "metadata": {},
   "outputs": [],
   "source": [
    "import pandas as pd\n",
    "from owid import grapher, site"
   ]
  },
  {
   "cell_type": "code",
   "execution_count": null,
   "id": "eb215d64",
   "metadata": {},
   "outputs": [],
   "source": [
    "data = site.get_chart_data(slug=\"public-trust-in-government\")\n",
    "data.head()"
   ]
  },
  {
   "cell_type": "code",
   "execution_count": null,
   "id": "1b3d7a26",
   "metadata": {},
   "outputs": [],
   "source": [
    "grapher.Chart(\n",
    "    data\n",
    ").encode(\n",
    "    x=\"year\",\n",
    "    y=\"value\"\n",
    ").label(\n",
    "    title=\"Public trust in government\",\n",
    "    subtitle=\"Public trust in government (% who trust government in Washington always or most of the time)\"\n",
    ").interact(\n",
    "    entity_control=True\n",
    ")"
   ]
  }
 ],
 "metadata": {
  "kernelspec": {
   "display_name": "Python 3 (ipykernel)",
   "language": "python",
   "name": "python3"
  }
 },
 "nbformat": 4,
 "nbformat_minor": 5
}
