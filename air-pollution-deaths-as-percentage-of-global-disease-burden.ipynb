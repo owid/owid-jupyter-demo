{
 "cells": [
  {
   "cell_type": "markdown",
   "id": "7f887140",
   "metadata": {},
   "source": [
    "# Air pollution deaths as percentage of global disease burden"
   ]
  },
  {
   "cell_type": "code",
   "execution_count": null,
   "id": "250209d5",
   "metadata": {},
   "outputs": [],
   "source": [
    "import pandas as pd\n",
    "from owid import grapher, site"
   ]
  },
  {
   "cell_type": "code",
   "execution_count": null,
   "id": "5ce9676c",
   "metadata": {},
   "outputs": [],
   "source": [
    "data = site.get_chart_data(slug=\"air-pollution-deaths-as-percentage-of-global-disease-burden\")\n",
    "data.head()"
   ]
  },
  {
   "cell_type": "code",
   "execution_count": null,
   "id": "6f7ccd71",
   "metadata": {},
   "outputs": [],
   "source": [
    "grapher.Chart(\n",
    "    data\n",
    ").encode(\n",
    "    x=\"year\",\n",
    "    y=\"value\"\n",
    ").label(\n",
    "    title=\"Air pollution deaths as percentage of global disease burden\",\n",
    "    subtitle=\"Air pollution related deaths (from both indoor and outdoor ambient pollution) as a percentage of the total global deaths related to disease.\",\n",
    "    source_desc=\"IHME, GBD 2016\"\n",
    ").interact(\n",
    "    entity_control=True\n",
    ")"
   ]
  }
 ],
 "metadata": {
  "kernelspec": {
   "display_name": "Python 3 (ipykernel)",
   "language": "python",
   "name": "python3"
  }
 },
 "nbformat": 4,
 "nbformat_minor": 5
}
