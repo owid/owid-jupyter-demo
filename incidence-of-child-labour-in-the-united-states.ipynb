{
 "cells": [
  {
   "cell_type": "markdown",
   "id": "00dcf0a9",
   "metadata": {},
   "source": [
    "# Incidence of child labor in the United States"
   ]
  },
  {
   "cell_type": "code",
   "execution_count": null,
   "id": "2f856416",
   "metadata": {},
   "outputs": [],
   "source": [
    "import pandas as pd\n",
    "from owid import grapher, site"
   ]
  },
  {
   "cell_type": "code",
   "execution_count": null,
   "id": "cdd25475",
   "metadata": {},
   "outputs": [],
   "source": [
    "data = site.get_chart_data(slug=\"incidence-of-child-labour-in-the-united-states\")\n",
    "data.head()"
   ]
  },
  {
   "cell_type": "code",
   "execution_count": null,
   "id": "bfcc00cb",
   "metadata": {},
   "outputs": [],
   "source": [
    "grapher.Chart(\n",
    "    data[data.entity == \"United States\"]\n",
    ").encode(\n",
    "    x=\"year\",\n",
    "    y=\"value\",\n",
    "    c=\"variable\"\n",
    ").label(\n",
    "    title=\"Incidence of child labor in the United States\",\n",
    "    subtitle=\"Incidence of children in the labour force in the United States (aged 10-15 years), given as the percentage of children in work (%)\",\n",
    "    source_desc=\"Robert Whaples- Economic History Associationn\"\n",
    ").interact(\n",
    "    entity_control=True\n",
    ")"
   ]
  }
 ],
 "metadata": {
  "kernelspec": {
   "display_name": "Python 3 (ipykernel)",
   "language": "python",
   "name": "python3"
  }
 },
 "nbformat": 4,
 "nbformat_minor": 5
}
