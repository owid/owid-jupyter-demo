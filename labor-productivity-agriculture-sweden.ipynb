{
 "cells": [
  {
   "cell_type": "markdown",
   "id": "ba804b4c",
   "metadata": {},
   "source": [
    "# Labor productivity in agriculture (GDP/worker)"
   ]
  },
  {
   "cell_type": "code",
   "execution_count": null,
   "id": "c841e200",
   "metadata": {},
   "outputs": [],
   "source": [
    "import pandas as pd\n",
    "from owid import grapher, site"
   ]
  },
  {
   "cell_type": "code",
   "execution_count": null,
   "id": "722d9ff7",
   "metadata": {},
   "outputs": [],
   "source": [
    "data = site.get_chart_data(slug=\"labor-productivity-agriculture-sweden\")\n",
    "data.head()"
   ]
  },
  {
   "cell_type": "code",
   "execution_count": null,
   "id": "247b79ca",
   "metadata": {},
   "outputs": [],
   "source": [
    "grapher.Chart(\n",
    "    data\n",
    ").encode(\n",
    "    x=\"year\",\n",
    "    y=\"value\"\n",
    ").label(\n",
    "    title=\"Labor productivity in agriculture (GDP/worker)\",\n",
    "    subtitle=\"Labor productivity corresponds to the ratio between value added in agriculture (SEK, constant prices, 1910/12 price level), and number of people employed in agriculture.\"\n",
    ").interact(\n",
    "    entity_control=True\n",
    ")"
   ]
  }
 ],
 "metadata": {
  "kernelspec": {
   "display_name": "Python 3 (ipykernel)",
   "language": "python",
   "name": "python3"
  }
 },
 "nbformat": 4,
 "nbformat_minor": 5
}
