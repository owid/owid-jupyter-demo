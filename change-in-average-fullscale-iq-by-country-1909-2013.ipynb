{
 "cells": [
  {
   "cell_type": "markdown",
   "id": "97dac13c",
   "metadata": {},
   "source": [
    "# Change in average fullscale IQ by country"
   ]
  },
  {
   "cell_type": "code",
   "execution_count": null,
   "id": "28a2ad8f",
   "metadata": {},
   "outputs": [],
   "source": [
    "import pandas as pd\n",
    "from owid import grapher, site"
   ]
  },
  {
   "cell_type": "code",
   "execution_count": null,
   "id": "18f6fa32",
   "metadata": {},
   "outputs": [],
   "source": [
    "data = site.get_chart_data(slug=\"change-in-average-fullscale-iq-by-country-1909-2013\")\n",
    "data.head()"
   ]
  },
  {
   "cell_type": "code",
   "execution_count": null,
   "id": "bff8bfc4",
   "metadata": {},
   "outputs": [],
   "source": [
    "grapher.Chart(\n",
    "    data\n",
    ").encode(\n",
    "    x=\"year\",\n",
    "    y=\"value\",\n",
    "    c=\"entity\"\n",
    ").select(\n",
    "    entities=[\"United States\"],\n",
    "    timespan=(earliest, latest)\n",
    ").label(\n",
    "    title=\"Change in average fullscale IQ by country\",\n",
    "    note=\"The atypical pattern for Brazil may be related to the three relevant studies used, which have comparatively recent time points of second data collection. Some increases in between may thus have not been captured, with the recent decline in strength of gains potentially masking this pattern. For further detail, see 'sources' and Supplement 1 from Pietschnig and Voracek (2015).\"\n",
    ").interact(\n",
    "    entity_control=True\n",
    ")"
   ]
  }
 ],
 "metadata": {
  "kernelspec": {
   "display_name": "Python 3 (ipykernel)",
   "language": "python",
   "name": "python3"
  }
 },
 "nbformat": 4,
 "nbformat_minor": 5
}
