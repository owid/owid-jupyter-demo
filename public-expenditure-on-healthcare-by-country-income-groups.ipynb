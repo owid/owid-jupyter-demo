{
 "cells": [
  {
   "cell_type": "markdown",
   "id": "7046aa49",
   "metadata": {},
   "source": [
    "# Public expenditure on healthcare by country income groups"
   ]
  },
  {
   "cell_type": "code",
   "execution_count": null,
   "id": "8e94236a",
   "metadata": {},
   "outputs": [],
   "source": [
    "import pandas as pd\n",
    "from owid import grapher, site"
   ]
  },
  {
   "cell_type": "code",
   "execution_count": null,
   "id": "73cd223c",
   "metadata": {},
   "outputs": [],
   "source": [
    "data = site.get_chart_data(slug=\"public-expenditure-on-healthcare-by-country-income-groups\")\n",
    "data.head()"
   ]
  },
  {
   "cell_type": "code",
   "execution_count": null,
   "id": "52c590d8",
   "metadata": {},
   "outputs": [],
   "source": [
    "grapher.Chart(\n",
    "    data\n",
    ").encode(\n",
    "    x=\"year\",\n",
    "    y=\"value\",\n",
    "    c=\"entity\"\n",
    ").select([\n",
    "    \"Upper middle income\",\n",
    "    \"High income\",\n",
    "    \"Low income\",\n",
    "    \"Lower middle income\"\n",
    "]).label(\n",
    "    title=\"Public expenditure on healthcare by country income groups\",\n",
    "    subtitle=\"Public expenditure on healthcare as percent of total healthcare expenditure. Countries are grouped as per the World Bank's GDP per capita classification.\"\n",
    ").interact(\n",
    "    entity_control=True\n",
    ")"
   ]
  }
 ],
 "metadata": {
  "kernelspec": {
   "display_name": "Python 3 (ipykernel)",
   "language": "python",
   "name": "python3"
  }
 },
 "nbformat": 4,
 "nbformat_minor": 5
}
