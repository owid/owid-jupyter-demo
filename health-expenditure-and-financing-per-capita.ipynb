{
 "cells": [
  {
   "cell_type": "markdown",
   "id": "5c533b6d",
   "metadata": {},
   "source": [
    "# Health expenditure and financing, per capita"
   ]
  },
  {
   "cell_type": "code",
   "execution_count": null,
   "id": "19df9a0a",
   "metadata": {},
   "outputs": [],
   "source": [
    "import pandas as pd\n",
    "from owid import grapher, site"
   ]
  },
  {
   "cell_type": "code",
   "execution_count": null,
   "id": "ec93ca26",
   "metadata": {},
   "outputs": [],
   "source": [
    "data = site.get_chart_data(slug=\"health-expenditure-and-financing-per-capita\")\n",
    "data.head()"
   ]
  },
  {
   "cell_type": "code",
   "execution_count": null,
   "id": "08d31941",
   "metadata": {},
   "outputs": [],
   "source": [
    "grapher.Chart(\n",
    "    data\n",
    ").encode(\n",
    "    x=\"year\",\n",
    "    y=\"value\",\n",
    "    c=\"entity\"\n",
    ").select([\n",
    "    \"Japan\",\n",
    "    \"Italy\",\n",
    "    \"Germany\",\n",
    "    \"United Kingdom\",\n",
    "    \"United States\",\n",
    "    \"Belgium\"\n",
    "]).label(\n",
    "    title=\"Health expenditure and financing, per capita\",\n",
    "    subtitle=\"Per capita health expenditure and financing measured in 2010 international-$ for OECD countries. Health expenditure is inclusive of all financing schemes, and covers all aspects of healthcare.\",\n",
    "    source_desc=\"OECDstat\"\n",
    ").interact(\n",
    "    entity_control=True\n",
    ")"
   ]
  }
 ],
 "metadata": {
  "kernelspec": {
   "display_name": "Python 3 (ipykernel)",
   "language": "python",
   "name": "python3"
  }
 },
 "nbformat": 4,
 "nbformat_minor": 5
}
