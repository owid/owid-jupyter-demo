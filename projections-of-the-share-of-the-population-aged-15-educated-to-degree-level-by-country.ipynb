{
 "cells": [
  {
   "cell_type": "markdown",
   "id": "c43f338c",
   "metadata": {},
   "source": [
    "# Projections of the share of the population aged 15+ educated to degree level by country"
   ]
  },
  {
   "cell_type": "code",
   "execution_count": null,
   "id": "aefcf9de",
   "metadata": {},
   "outputs": [],
   "source": [
    "import pandas as pd\n",
    "from owid import grapher, site"
   ]
  },
  {
   "cell_type": "code",
   "execution_count": null,
   "id": "9f6af8f9",
   "metadata": {},
   "outputs": [],
   "source": [
    "data = site.get_chart_data(slug=\"projections-of-the-share-of-the-population-aged-15-educated-to-degree-level-by-country\")\n",
    "data.head()"
   ]
  },
  {
   "cell_type": "code",
   "execution_count": null,
   "id": "e86fb33d",
   "metadata": {},
   "outputs": [],
   "source": [
    "grapher.Chart(\n",
    "    data\n",
    ").encode(\n",
    "    x=\"year\",\n",
    "    y=\"value\",\n",
    "    c=\"entity\"\n",
    ").select([\n",
    "    \"South Korea\",\n",
    "    \"Australia\",\n",
    "    \"Brazil\",\n",
    "    \"Netherlands\",\n",
    "    \"Singapore\",\n",
    "    \"India\",\n",
    "    \"Egypt\",\n",
    "    \"Argentina\"\n",
    "]).label(\n",
    "    title=\"Projections of the share of the population aged 15+ educated to degree level by country\",\n",
    "    subtitle=\"Projections are IIASA Global Education Trends (GET) estimates based on the continuation of current trends.\"\n",
    ").interact(\n",
    "    entity_control=True\n",
    ")"
   ]
  }
 ],
 "metadata": {
  "kernelspec": {
   "display_name": "Python 3 (ipykernel)",
   "language": "python",
   "name": "python3"
  }
 },
 "nbformat": 4,
 "nbformat_minor": 5
}
