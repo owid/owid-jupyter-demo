{
 "cells": [
  {
   "cell_type": "markdown",
   "id": "ca94f237",
   "metadata": {},
   "source": [
    "# Yearly cost of closing the global poverty gap (million int-$)"
   ]
  },
  {
   "cell_type": "code",
   "execution_count": null,
   "id": "15511126",
   "metadata": {},
   "outputs": [],
   "source": [
    "import pandas as pd\n",
    "from owid import grapher, site"
   ]
  },
  {
   "cell_type": "code",
   "execution_count": null,
   "id": "d851afa1",
   "metadata": {},
   "outputs": [],
   "source": [
    "data = site.get_chart_data(slug=\"the-poverty-gap-in-int--2011-ppp\")\n",
    "data.head()"
   ]
  },
  {
   "cell_type": "code",
   "execution_count": null,
   "id": "b73f0f95",
   "metadata": {},
   "outputs": [],
   "source": [
    "grapher.Chart(\n",
    "    data\n",
    ").encode(\n",
    "    x=\"year\",\n",
    "    y=\"value\"\n",
    ").select([\n",
    "    \"World\"\n",
    "]).label(\n",
    "    title=\"Yearly cost of closing the global poverty gap (million int-$)\",\n",
    "    subtitle=\"Th cost of closing the poverty gap is the amount of money that would be theoretically needed to lift the incomes of all poor people up to the global poverty line of $1.90 a day. Estimates are expressed in international dollars (int.-$) using 2011 PPP conversion rates. This means that figures account for differences in prices levels, as well as for inflation.\",\n",
    "    note=\"The cost of closing the poverty gap does not take into account costs and inefficiencies from making the necessary transfers.\"\n",
    ").interact(\n",
    "    entity_control=True,\n",
    "    enable_map=True\n",
    ")"
   ]
  }
 ],
 "metadata": {
  "kernelspec": {
   "display_name": "Python 3 (ipykernel)",
   "language": "python",
   "name": "python3"
  }
 },
 "nbformat": 4,
 "nbformat_minor": 5
}
