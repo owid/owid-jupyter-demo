{
 "cells": [
  {
   "cell_type": "markdown",
   "id": "49aa1276",
   "metadata": {},
   "source": [
    "# Healthcare expenditure"
   ]
  },
  {
   "cell_type": "code",
   "execution_count": null,
   "id": "64ea0378",
   "metadata": {},
   "outputs": [],
   "source": [
    "import pandas as pd\n",
    "from owid import grapher, site"
   ]
  },
  {
   "cell_type": "code",
   "execution_count": null,
   "id": "d67f80c2",
   "metadata": {},
   "outputs": [],
   "source": [
    "data = site.get_chart_data(slug=\"total-healthcare-expenditure-as-share-of-national-gdp-by-country\")\n",
    "data.head()"
   ]
  },
  {
   "cell_type": "code",
   "execution_count": null,
   "id": "fc6f0460",
   "metadata": {},
   "outputs": [],
   "source": [
    "grapher.Chart(\n",
    "    data\n",
    ").encode(\n",
    "    x=\"year\",\n",
    "    y=\"value\",\n",
    "    c=\"entity\"\n",
    ").select([\n",
    "    \"Chile\",\n",
    "    \"Germany\",\n",
    "    \"Ghana\",\n",
    "    \"China\",\n",
    "    \"India\"\n",
    "]).label(\n",
    "    title=\"Healthcare expenditure\",\n",
    "    subtitle=\"Total healthcare expenditure as the share of national GDP.\"\n",
    ").interact(\n",
    "    entity_control=True,\n",
    "    enable_map=True\n",
    ")"
   ]
  }
 ],
 "metadata": {
  "kernelspec": {
   "display_name": "Python 3 (ipykernel)",
   "language": "python",
   "name": "python3"
  }
 },
 "nbformat": 4,
 "nbformat_minor": 5
}
