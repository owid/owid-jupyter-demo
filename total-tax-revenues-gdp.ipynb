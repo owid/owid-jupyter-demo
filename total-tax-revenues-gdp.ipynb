{
 "cells": [
  {
   "cell_type": "markdown",
   "id": "598b1fc1",
   "metadata": {},
   "source": [
    "# Total tax revenues"
   ]
  },
  {
   "cell_type": "code",
   "execution_count": null,
   "id": "3965ab2a",
   "metadata": {},
   "outputs": [],
   "source": [
    "import pandas as pd\n",
    "from owid import grapher, site"
   ]
  },
  {
   "cell_type": "code",
   "execution_count": null,
   "id": "3c7a6030",
   "metadata": {},
   "outputs": [],
   "source": [
    "data = site.get_chart_data(slug=\"total-tax-revenues-gdp\")\n",
    "data.head()"
   ]
  },
  {
   "cell_type": "code",
   "execution_count": null,
   "id": "6d5f4f2d",
   "metadata": {},
   "outputs": [],
   "source": [
    "grapher.Chart(\n",
    "    data\n",
    ").encode(\n",
    "    x=\"year\",\n",
    "    y=\"value\",\n",
    "    c=\"entity\"\n",
    ").select([\n",
    "    \"France\",\n",
    "    \"Turkey\",\n",
    "    \"United Kingdom\",\n",
    "    \"Ghana\",\n",
    "    \"United States\",\n",
    "    \"Colombia\"\n",
    "]).label(\n",
    "    title=\"Total tax revenues\",\n",
    "    subtitle=\"Total revenue from social contributions, direct and indirect taxes given as share of GDP.\"\n",
    ").interact(\n",
    "    entity_control=True,\n",
    "    enable_map=True\n",
    ")"
   ]
  }
 ],
 "metadata": {
  "kernelspec": {
   "display_name": "Python 3 (ipykernel)",
   "language": "python",
   "name": "python3"
  }
 },
 "nbformat": 4,
 "nbformat_minor": 5
}
