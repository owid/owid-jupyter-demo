{
 "cells": [
  {
   "cell_type": "markdown",
   "id": "d7da8140",
   "metadata": {},
   "source": [
    "# Future population projections by country"
   ]
  },
  {
   "cell_type": "code",
   "execution_count": null,
   "id": "dc04bc92",
   "metadata": {},
   "outputs": [],
   "source": [
    "import pandas as pd\n",
    "from owid import grapher, site"
   ]
  },
  {
   "cell_type": "code",
   "execution_count": null,
   "id": "cf879501",
   "metadata": {},
   "outputs": [],
   "source": [
    "data = site.get_chart_data(slug=\"future-population-projections-by-country\")\n",
    "data.head()"
   ]
  },
  {
   "cell_type": "code",
   "execution_count": null,
   "id": "dcf7fbae",
   "metadata": {},
   "outputs": [],
   "source": [
    "grapher.Chart(\n",
    "    data\n",
    ").encode(\n",
    "    x=\"year\",\n",
    "    y=\"value\",\n",
    "    c=\"entity\"\n",
    ").select([\n",
    "    \"Brazil\",\n",
    "    \"United States\",\n",
    "    \"Nigeria\",\n",
    "    \"China\",\n",
    "    \"Indonesia\",\n",
    "    \"India\"\n",
    "]).label(\n",
    "    title=\"Future population projections by country\",\n",
    "    subtitle=\"Projections are based on the SSP2 (medium) scenario\"\n",
    ").interact(\n",
    "    entity_control=True\n",
    ")"
   ]
  }
 ],
 "metadata": {
  "kernelspec": {
   "display_name": "Python 3 (ipykernel)",
   "language": "python",
   "name": "python3"
  }
 },
 "nbformat": 4,
 "nbformat_minor": 5
}
