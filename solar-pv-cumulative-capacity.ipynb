{
 "cells": [
  {
   "cell_type": "markdown",
   "id": "4ab4ad5f",
   "metadata": {},
   "source": [
    "# Solar PV Cumulative Capacity"
   ]
  },
  {
   "cell_type": "code",
   "execution_count": null,
   "id": "56407617",
   "metadata": {},
   "outputs": [],
   "source": [
    "import pandas as pd\n",
    "from owid import grapher, site"
   ]
  },
  {
   "cell_type": "code",
   "execution_count": null,
   "id": "65ecfdb3",
   "metadata": {},
   "outputs": [],
   "source": [
    "data = site.get_chart_data(slug=\"solar-pv-cumulative-capacity\")\n",
    "data.head()"
   ]
  },
  {
   "cell_type": "code",
   "execution_count": null,
   "id": "d23dec0a",
   "metadata": {},
   "outputs": [],
   "source": [
    "grapher.Chart(\n",
    "    data\n",
    ").encode(\n",
    "    x=\"year\",\n",
    "    y=\"value\"\n",
    ").select([\n",
    "    \"World\"\n",
    "]).label(\n",
    "    title=\"Solar PV Cumulative Capacity\",\n",
    "    subtitle=\"Cumulative capacity of solar photovoltaics is given in megawatts (MW).\",\n",
    "    source_desc=\"BP Statistical Review of World Energy\"\n",
    ").interact(\n",
    "    entity_control=True,\n",
    "    scale_control=True,\n",
    "    enable_map=True\n",
    ")"
   ]
  }
 ],
 "metadata": {
  "kernelspec": {
   "display_name": "Python 3 (ipykernel)",
   "language": "python",
   "name": "python3"
  }
 },
 "nbformat": 4,
 "nbformat_minor": 5
}
