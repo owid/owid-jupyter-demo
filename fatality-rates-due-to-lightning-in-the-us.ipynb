{
 "cells": [
  {
   "cell_type": "markdown",
   "id": "1516a988",
   "metadata": {},
   "source": [
    "# Fatality rates due to lightning in the US"
   ]
  },
  {
   "cell_type": "code",
   "execution_count": null,
   "id": "6847a173",
   "metadata": {},
   "outputs": [],
   "source": [
    "import pandas as pd\n",
    "from owid import grapher, site"
   ]
  },
  {
   "cell_type": "code",
   "execution_count": null,
   "id": "774d8aec",
   "metadata": {},
   "outputs": [],
   "source": [
    "data = site.get_chart_data(slug=\"fatality-rates-due-to-lightning-in-the-us\")\n",
    "data.head()"
   ]
  },
  {
   "cell_type": "code",
   "execution_count": null,
   "id": "ac266b78",
   "metadata": {},
   "outputs": [],
   "source": [
    "grapher.Chart(\n",
    "    data\n",
    ").encode(\n",
    "    x=\"year\",\n",
    "    y=\"value\"\n",
    ").label(\n",
    "    title=\"Fatality rates due to lightning in the US\",\n",
    "    subtitle=\"Annual death rate per million.\"\n",
    ").interact(\n",
    "    entity_control=True,\n",
    "    scale_control=True\n",
    ")"
   ]
  }
 ],
 "metadata": {
  "kernelspec": {
   "display_name": "Python 3 (ipykernel)",
   "language": "python",
   "name": "python3"
  }
 },
 "nbformat": 4,
 "nbformat_minor": 5
}
