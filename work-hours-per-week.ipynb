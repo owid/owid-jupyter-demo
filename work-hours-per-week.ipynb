{
 "cells": [
  {
   "cell_type": "markdown",
   "id": "729f7c0a",
   "metadata": {},
   "source": [
    "# Weekly Work Hours"
   ]
  },
  {
   "cell_type": "code",
   "execution_count": null,
   "id": "2573b560",
   "metadata": {},
   "outputs": [],
   "source": [
    "import pandas as pd\n",
    "from owid import grapher, site"
   ]
  },
  {
   "cell_type": "code",
   "execution_count": null,
   "id": "83f34859",
   "metadata": {},
   "outputs": [],
   "source": [
    "data = site.get_chart_data(slug=\"work-hours-per-week\")\n",
    "data.head()"
   ]
  },
  {
   "cell_type": "code",
   "execution_count": null,
   "id": "71e8f90e",
   "metadata": {},
   "outputs": [],
   "source": [
    "grapher.Chart(\n",
    "    data\n",
    ").encode(\n",
    "    x=\"year\",\n",
    "    y=\"value\",\n",
    "    c=\"entity\"\n",
    ").select([\n",
    "    \"Belgium\",\n",
    "    \"Italy\",\n",
    "    \"Switzerland\",\n",
    "    \"France\"\n",
    "]).label(\n",
    "    title=\"Weekly Work Hours\",\n",
    "    subtitle=\"Work hours of full-time production workers (male and female) in non-agricultural activities.\"\n",
    ").interact(\n",
    "    entity_control=True,\n",
    "    enable_map=True\n",
    ")"
   ]
  }
 ],
 "metadata": {
  "kernelspec": {
   "display_name": "Python 3 (ipykernel)",
   "language": "python",
   "name": "python3"
  }
 },
 "nbformat": 4,
 "nbformat_minor": 5
}
