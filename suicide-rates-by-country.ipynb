{
 "cells": [
  {
   "cell_type": "markdown",
   "id": "bde91373",
   "metadata": {},
   "source": [
    "# Suicide rates by country"
   ]
  },
  {
   "cell_type": "code",
   "execution_count": null,
   "id": "84bb83f0",
   "metadata": {},
   "outputs": [],
   "source": [
    "import pandas as pd\n",
    "from owid import grapher, site"
   ]
  },
  {
   "cell_type": "code",
   "execution_count": null,
   "id": "0f6f1055",
   "metadata": {},
   "outputs": [],
   "source": [
    "data = site.get_chart_data(slug=\"suicide-rates-by-country\")\n",
    "data.head()"
   ]
  },
  {
   "cell_type": "code",
   "execution_count": null,
   "id": "715f2376",
   "metadata": {},
   "outputs": [],
   "source": [
    "grapher.Chart(\n",
    "    data\n",
    ").encode(\n",
    "    x=\"year\",\n",
    "    y=\"value\",\n",
    "    c=\"entity\"\n",
    ").select([\n",
    "    \"Russia\",\n",
    "    \"Japan\",\n",
    "    \"Brazil\",\n",
    "    \"United Kingdom\",\n",
    "    \"United States\",\n",
    "    \"Nigeria\",\n",
    "    \"Sweden\"\n",
    "]).label(\n",
    "    title=\"Suicide rates by country\",\n",
    "    subtitle=\"Suicides per 100,000 people per year. The rate is adjusted for the changing age structure of the population.\"\n",
    ").interact(\n",
    "    entity_control=True,\n",
    "    enable_map=True\n",
    ")"
   ]
  }
 ],
 "metadata": {
  "kernelspec": {
   "display_name": "Python 3 (ipykernel)",
   "language": "python",
   "name": "python3"
  }
 },
 "nbformat": 4,
 "nbformat_minor": 5
}
