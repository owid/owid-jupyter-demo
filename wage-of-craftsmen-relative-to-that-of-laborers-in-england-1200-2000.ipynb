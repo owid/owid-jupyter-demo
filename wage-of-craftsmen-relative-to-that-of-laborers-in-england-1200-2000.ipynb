{
 "cells": [
  {
   "cell_type": "markdown",
   "id": "f7e76702",
   "metadata": {},
   "source": [
    "# Wage of craftsmen relative to that of laborers in England, 1200-2000"
   ]
  },
  {
   "cell_type": "code",
   "execution_count": null,
   "id": "2f372f08",
   "metadata": {},
   "outputs": [],
   "source": [
    "import pandas as pd\n",
    "from owid import grapher, site"
   ]
  },
  {
   "cell_type": "code",
   "execution_count": null,
   "id": "d9423885",
   "metadata": {},
   "outputs": [],
   "source": [
    "data = site.get_chart_data(slug=\"wage-of-craftsmen-relative-to-that-of-laborers-in-england-1200-2000\")\n",
    "data.head()"
   ]
  },
  {
   "cell_type": "code",
   "execution_count": null,
   "id": "445474cf",
   "metadata": {},
   "outputs": [],
   "source": [
    "grapher.Chart(\n",
    "    data\n",
    ").encode(\n",
    "    x=\"year\",\n",
    "    y=\"value\"\n",
    ").label(\n",
    "    title=\"Wage of craftsmen relative to that of laborers in England, 1200-2000\"\n",
    ").interact(\n",
    "    entity_control=True\n",
    ")"
   ]
  }
 ],
 "metadata": {
  "kernelspec": {
   "display_name": "Python 3 (ipykernel)",
   "language": "python",
   "name": "python3"
  }
 },
 "nbformat": 4,
 "nbformat_minor": 5
}
