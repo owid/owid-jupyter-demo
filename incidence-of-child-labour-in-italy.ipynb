{
 "cells": [
  {
   "cell_type": "markdown",
   "id": "5340d33f",
   "metadata": {},
   "source": [
    "# Child labor in Italy"
   ]
  },
  {
   "cell_type": "code",
   "execution_count": null,
   "id": "b60c1fd6",
   "metadata": {},
   "outputs": [],
   "source": [
    "import pandas as pd\n",
    "from owid import grapher, site"
   ]
  },
  {
   "cell_type": "code",
   "execution_count": null,
   "id": "d9299a04",
   "metadata": {},
   "outputs": [],
   "source": [
    "data = site.get_chart_data(slug=\"incidence-of-child-labour-in-italy\")\n",
    "data.head()"
   ]
  },
  {
   "cell_type": "code",
   "execution_count": null,
   "id": "5a998f27",
   "metadata": {},
   "outputs": [],
   "source": [
    "grapher.Chart(\n",
    "    data[data.entity == \"Italy\"]\n",
    ").encode(\n",
    "    x=\"year\",\n",
    "    y=\"value\",\n",
    "    c=\"variable\"\n",
    ").label(\n",
    "    title=\"Child labor in Italy\",\n",
    "    subtitle=\"Share of children ages 10-14 recorded as working\",\n",
    "    note=\"Toniolo, Gianni, and Giovanni Vecchi. \"Italian Children at Work, 1881—1961\". Giornale degli economisti e Annali di economia (2007): 401-427. Toniolo, G., & Vecchi, G. (2007). Based on estimates from population census data.\"\n",
    ").interact(\n",
    "    entity_control=True\n",
    ")"
   ]
  }
 ],
 "metadata": {
  "kernelspec": {
   "display_name": "Python 3 (ipykernel)",
   "language": "python",
   "name": "python3"
  }
 },
 "nbformat": 4,
 "nbformat_minor": 5
}
