{
 "cells": [
  {
   "cell_type": "markdown",
   "id": "4367adee",
   "metadata": {},
   "source": [
    "# Foreign direct investment, net inflows as share of GDP"
   ]
  },
  {
   "cell_type": "code",
   "execution_count": null,
   "id": "f61afcee",
   "metadata": {},
   "outputs": [],
   "source": [
    "import pandas as pd\n",
    "from owid import grapher, site"
   ]
  },
  {
   "cell_type": "code",
   "execution_count": null,
   "id": "8f799fad",
   "metadata": {},
   "outputs": [],
   "source": [
    "data = site.get_chart_data(slug=\"foreign-direct-investment-net-inflows-as-share-of-gdp\")\n",
    "data.head()"
   ]
  },
  {
   "cell_type": "code",
   "execution_count": null,
   "id": "9e8e10f7",
   "metadata": {},
   "outputs": [],
   "source": [
    "grapher.Chart(\n",
    "    data\n",
    ").encode(\n",
    "    x=\"year\",\n",
    "    y=\"value\",\n",
    "    c=\"entity\"\n",
    ").select([\n",
    "    \"World\",\n",
    "    \"Sub-Saharan Africa\",\n",
    "    \"South Asia\"\n",
    "]).label(\n",
    "    title=\"Foreign direct investment, net inflows as share of GDP\",\n",
    "    subtitle=\"Foreign direct investment (FDI) are the net inflows of investment to acquire a lasting management interest (10 percent or more of voting stock) in an enterprise operating in an economy other than that of the investor. It is the sum of equity capital, reinvestment of earnings, other long-term capital, and short-term capital as shown in the balance of payments.\"\n",
    ").interact(\n",
    "    entity_control=True,\n",
    "    enable_map=True\n",
    ")"
   ]
  }
 ],
 "metadata": {
  "kernelspec": {
   "display_name": "Python 3 (ipykernel)",
   "language": "python",
   "name": "python3"
  }
 },
 "nbformat": 4,
 "nbformat_minor": 5
}
