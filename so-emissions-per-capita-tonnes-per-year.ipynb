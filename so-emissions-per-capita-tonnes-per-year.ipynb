{
 "cells": [
  {
   "cell_type": "markdown",
   "id": "90ccf425",
   "metadata": {},
   "source": [
    "# Sulphur dioxide (SO₂) emissions per capita"
   ]
  },
  {
   "cell_type": "code",
   "execution_count": null,
   "id": "ddb59ccb",
   "metadata": {},
   "outputs": [],
   "source": [
    "import pandas as pd\n",
    "from owid import grapher, site"
   ]
  },
  {
   "cell_type": "code",
   "execution_count": null,
   "id": "1d40e196",
   "metadata": {},
   "outputs": [],
   "source": [
    "data = site.get_chart_data(slug=\"so-emissions-per-capita-tonnes-per-year\")\n",
    "data.head()"
   ]
  },
  {
   "cell_type": "code",
   "execution_count": null,
   "id": "463bfd5e",
   "metadata": {},
   "outputs": [],
   "source": [
    "grapher.Chart(\n",
    "    data\n",
    ").encode(\n",
    "    x=\"year\",\n",
    "    y=\"value\",\n",
    "    c=\"entity\"\n",
    ").select([\n",
    "    \"France\",\n",
    "    \"Canada\",\n",
    "    \"Germany\",\n",
    "    \"United Kingdom\",\n",
    "    \"United States\"\n",
    "]).label(\n",
    "    title=\"Sulphur dioxide (SO₂) emissions per capita\",\n",
    "    subtitle=\"In tonnes per capita per year.\",\n",
    "    source_desc=\"ClioInfra\"\n",
    ").interact(\n",
    "    entity_control=True,\n",
    "    enable_map=True\n",
    ")"
   ]
  }
 ],
 "metadata": {
  "kernelspec": {
   "display_name": "Python 3 (ipykernel)",
   "language": "python",
   "name": "python3"
  }
 },
 "nbformat": 4,
 "nbformat_minor": 5
}
