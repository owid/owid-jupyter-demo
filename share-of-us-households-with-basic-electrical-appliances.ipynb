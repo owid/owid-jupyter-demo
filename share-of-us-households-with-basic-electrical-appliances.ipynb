{
 "cells": [
  {
   "cell_type": "markdown",
   "id": "65393889",
   "metadata": {},
   "source": [
    "# Share of US households with basic electrical appliances"
   ]
  },
  {
   "cell_type": "code",
   "execution_count": null,
   "id": "7cb1be03",
   "metadata": {},
   "outputs": [],
   "source": [
    "import pandas as pd\n",
    "from owid import grapher, site"
   ]
  },
  {
   "cell_type": "code",
   "execution_count": null,
   "id": "32328935",
   "metadata": {},
   "outputs": [],
   "source": [
    "data = site.get_chart_data(slug=\"share-of-us-households-with-basic-electrical-appliances\")\n",
    "data.head()"
   ]
  },
  {
   "cell_type": "code",
   "execution_count": null,
   "id": "a2eb2d28",
   "metadata": {},
   "outputs": [],
   "source": [
    "grapher.Chart(\n",
    "    data\n",
    ").encode(\n",
    "    x=\"year\",\n",
    "    y=\"value\",\n",
    "    c=\"entity\"\n",
    ").select([\n",
    "    \"Washer\",\n",
    "    \"Freezer\",\n",
    "    \"Water Heater\",\n",
    "    \"Electric Range\",\n",
    "    \"Microwave\",\n",
    "    \"Vacuum\",\n",
    "    \"Refrigerator\",\n",
    "    \"Dishwasher\",\n",
    "    \"Dryer\"\n",
    "]).label(\n",
    "    title=\"Share of US households with basic electrical appliances\"\n",
    ").interact(\n",
    "    entity_control=True\n",
    ")"
   ]
  }
 ],
 "metadata": {
  "kernelspec": {
   "display_name": "Python 3 (ipykernel)",
   "language": "python",
   "name": "python3"
  }
 },
 "nbformat": 4,
 "nbformat_minor": 5
}
