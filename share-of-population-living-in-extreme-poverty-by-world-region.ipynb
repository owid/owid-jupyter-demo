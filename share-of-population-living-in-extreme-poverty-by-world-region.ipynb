{
 "cells": [
  {
   "cell_type": "markdown",
   "id": "ba409077",
   "metadata": {},
   "source": [
    "# Share of population living in extreme poverty by world region"
   ]
  },
  {
   "cell_type": "code",
   "execution_count": null,
   "id": "a5f9000f",
   "metadata": {},
   "outputs": [],
   "source": [
    "import pandas as pd\n",
    "from owid import grapher, site"
   ]
  },
  {
   "cell_type": "code",
   "execution_count": null,
   "id": "2ab092ec",
   "metadata": {},
   "outputs": [],
   "source": [
    "data = site.get_chart_data(slug=\"share-of-population-living-in-extreme-poverty-by-world-region\")\n",
    "data.head()"
   ]
  },
  {
   "cell_type": "code",
   "execution_count": null,
   "id": "79eef6d4",
   "metadata": {},
   "outputs": [],
   "source": [
    "grapher.Chart(\n",
    "    data\n",
    ").encode(\n",
    "    x=\"year\",\n",
    "    y=\"value\",\n",
    "    c=\"entity\"\n",
    ").select([\n",
    "    \"East Asia & Pacific\",\n",
    "    \"Middle East & North Africa\",\n",
    "    \"Sub-Saharan Africa\",\n",
    "    \"World\",\n",
    "    \"Latin America & Caribbean\",\n",
    "    \"South Asia\",\n",
    "    \"Europe & Central Asia\"\n",
    "]).label(\n",
    "    title=\"Share of population living in extreme poverty by world region\",\n",
    "    subtitle=\"Extreme poverty is defined as living with less than 1.90$ per day (in 2011 International Dollar). International dollars are adjusted for price differences across countries and across time.\"\n",
    ").interact(\n",
    "    entity_control=True\n",
    ")"
   ]
  }
 ],
 "metadata": {
  "kernelspec": {
   "display_name": "Python 3 (ipykernel)",
   "language": "python",
   "name": "python3"
  }
 },
 "nbformat": 4,
 "nbformat_minor": 5
}
