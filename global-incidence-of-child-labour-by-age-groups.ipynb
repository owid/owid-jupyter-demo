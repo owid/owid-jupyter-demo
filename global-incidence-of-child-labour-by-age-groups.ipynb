{
 "cells": [
  {
   "cell_type": "markdown",
   "id": "a29a5015",
   "metadata": {},
   "source": [
    "# Global incidence of child labor by age groups"
   ]
  },
  {
   "cell_type": "code",
   "execution_count": null,
   "id": "bdda757d",
   "metadata": {},
   "outputs": [],
   "source": [
    "import pandas as pd\n",
    "from owid import grapher, site"
   ]
  },
  {
   "cell_type": "code",
   "execution_count": null,
   "id": "ecdb05f1",
   "metadata": {},
   "outputs": [],
   "source": [
    "data = site.get_chart_data(slug=\"global-incidence-of-child-labour-by-age-groups\")\n",
    "data.head()"
   ]
  },
  {
   "cell_type": "code",
   "execution_count": null,
   "id": "224137ad",
   "metadata": {},
   "outputs": [],
   "source": [
    "grapher.Chart(\n",
    "    data\n",
    ").encode(\n",
    "    x=\"year\",\n",
    "    y=\"value\",\n",
    "    c=\"entity\"\n",
    ").label(\n",
    "    title=\"Global incidence of child labor by age groups\",\n",
    "    subtitle=\"Share of children, by age bracket, involved in economic activity for at least one hour in the reference week of the corresponding survey (irrespective of school attendance)\"\n",
    ").interact(\n",
    "    entity_control=True\n",
    ")"
   ]
  }
 ],
 "metadata": {
  "kernelspec": {
   "display_name": "Python 3 (ipykernel)",
   "language": "python",
   "name": "python3"
  }
 },
 "nbformat": 4,
 "nbformat_minor": 5
}
