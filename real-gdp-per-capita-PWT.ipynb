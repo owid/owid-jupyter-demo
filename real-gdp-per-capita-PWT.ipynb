{
 "cells": [
  {
   "cell_type": "markdown",
   "id": "13c86f49",
   "metadata": {},
   "source": [
    "# GDP per capita"
   ]
  },
  {
   "cell_type": "code",
   "execution_count": null,
   "id": "e05417fb",
   "metadata": {},
   "outputs": [],
   "source": [
    "import pandas as pd\n",
    "from owid import grapher, site"
   ]
  },
  {
   "cell_type": "code",
   "execution_count": null,
   "id": "76c73a1c",
   "metadata": {},
   "outputs": [],
   "source": [
    "data = site.get_chart_data(slug=\"real-gdp-per-capita-PWT\")\n",
    "data.head()"
   ]
  },
  {
   "cell_type": "code",
   "execution_count": null,
   "id": "18a7cc77",
   "metadata": {},
   "outputs": [],
   "source": [
    "grapher.Chart(\n",
    "    data\n",
    ").encode(\n",
    "    x=\"year\",\n",
    "    y=\"value\",\n",
    "    c=\"entity\"\n",
    ").select([\n",
    "    \"Guinea-Bissau\",\n",
    "    \"Bolivia\",\n",
    "    \"Costa Rica\"\n",
    "]).label(\n",
    "    title=\"GDP per capita\",\n",
    "    subtitle=\"Adjusted for price changes over time (inflation) and for price differences between countries to allow comparisons – it is measured in international-$ in 2011 prices.\",\n",
    "    source_desc=\"Feenstra et al. (2015) Penn World Tables 9.1\"\n",
    ").interact(\n",
    "    entity_control=True,\n",
    "    scale_control=True,\n",
    "    enable_map=True\n",
    ")"
   ]
  }
 ],
 "metadata": {
  "kernelspec": {
   "display_name": "Python 3 (ipykernel)",
   "language": "python",
   "name": "python3"
  }
 },
 "nbformat": 4,
 "nbformat_minor": 5
}
