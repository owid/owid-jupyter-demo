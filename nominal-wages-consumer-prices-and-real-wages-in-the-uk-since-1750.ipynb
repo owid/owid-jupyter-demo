{
 "cells": [
  {
   "cell_type": "markdown",
   "id": "d802b494",
   "metadata": {},
   "source": [
    "# Nominal wages, consumer prices, and real wages in the UK"
   ]
  },
  {
   "cell_type": "code",
   "execution_count": null,
   "id": "f06ad0f6",
   "metadata": {},
   "outputs": [],
   "source": [
    "import pandas as pd\n",
    "from owid import grapher, site"
   ]
  },
  {
   "cell_type": "code",
   "execution_count": null,
   "id": "369b2fd0",
   "metadata": {},
   "outputs": [],
   "source": [
    "data = site.get_chart_data(slug=\"nominal-wages-consumer-prices-and-real-wages-in-the-uk-since-1750\")\n",
    "data.head()"
   ]
  },
  {
   "cell_type": "code",
   "execution_count": null,
   "id": "1ef0c1ab",
   "metadata": {},
   "outputs": [],
   "source": [
    "grapher.Chart(\n",
    "    data[data.entity == \"United Kingdom\"]\n",
    ").encode(\n",
    "    x=\"year\",\n",
    "    y=\"value\",\n",
    "    c=\"variable\"\n",
    ").label(\n",
    "    title=\"Nominal wages, consumer prices, and real wages in the UK\"\n",
    ").interact(\n",
    "    entity_control=True,\n",
    "    scale_control=True\n",
    ")"
   ]
  }
 ],
 "metadata": {
  "kernelspec": {
   "display_name": "Python 3 (ipykernel)",
   "language": "python",
   "name": "python3"
  }
 },
 "nbformat": 4,
 "nbformat_minor": 5
}
