{
 "cells": [
  {
   "cell_type": "markdown",
   "id": "d7f2ebff",
   "metadata": {},
   "source": [
    "# World Population over the last 12,000 years and UN projection until 2100"
   ]
  },
  {
   "cell_type": "code",
   "execution_count": null,
   "id": "08cd3f7e",
   "metadata": {},
   "outputs": [],
   "source": [
    "import pandas as pd\n",
    "from owid import grapher, site"
   ]
  },
  {
   "cell_type": "code",
   "execution_count": null,
   "id": "ff717cb1",
   "metadata": {},
   "outputs": [],
   "source": [
    "data = site.get_chart_data(slug=\"world-population-1750-2015-and-un-projection-until-2100\")\n",
    "data.head()"
   ]
  },
  {
   "cell_type": "code",
   "execution_count": null,
   "id": "97edccea",
   "metadata": {},
   "outputs": [],
   "source": [
    "grapher.Chart(\n",
    "    data.query('entity in [\"World\", \"Our World In Data\"]')\n",
    ").encode(\n",
    "    x=\"year\",\n",
    "    y=\"value\",\n",
    "    c=\"variable\"\n",
    ").label(\n",
    "    title=\"World Population over the last 12,000 years and UN projection until 2100\"\n",
    ").interact(\n",
    "    entity_control=True,\n",
    "    scale_control=True\n",
    ")"
   ]
  }
 ],
 "metadata": {
  "kernelspec": {
   "display_name": "Python 3 (ipykernel)",
   "language": "python",
   "name": "python3"
  }
 },
 "nbformat": 4,
 "nbformat_minor": 5
}
