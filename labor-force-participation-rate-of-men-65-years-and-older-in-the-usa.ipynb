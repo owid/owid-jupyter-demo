{
 "cells": [
  {
   "cell_type": "markdown",
   "id": "d2b68862",
   "metadata": {},
   "source": [
    "# Labor force participation rate of men, 65 years and older in the USA"
   ]
  },
  {
   "cell_type": "code",
   "execution_count": null,
   "id": "b9696618",
   "metadata": {},
   "outputs": [],
   "source": [
    "import pandas as pd\n",
    "from owid import grapher, site"
   ]
  },
  {
   "cell_type": "code",
   "execution_count": null,
   "id": "8663e96f",
   "metadata": {},
   "outputs": [],
   "source": [
    "data = site.get_chart_data(slug=\"labor-force-participation-rate-of-men-65-years-and-older-in-the-usa\")\n",
    "data.head()"
   ]
  },
  {
   "cell_type": "code",
   "execution_count": null,
   "id": "a5050a25",
   "metadata": {},
   "outputs": [],
   "source": [
    "grapher.Chart(\n",
    "    data\n",
    ").encode(\n",
    "    x=\"year\",\n",
    "    y=\"value\"\n",
    ").label(\n",
    "    title=\"Labor force participation rate of men, 65 years and older in the USA\"\n",
    ").interact(\n",
    "    entity_control=True\n",
    ")"
   ]
  }
 ],
 "metadata": {
  "kernelspec": {
   "display_name": "Python 3 (ipykernel)",
   "language": "python",
   "name": "python3"
  }
 },
 "nbformat": 4,
 "nbformat_minor": 5
}
