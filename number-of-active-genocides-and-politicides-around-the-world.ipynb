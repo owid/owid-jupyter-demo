{
 "cells": [
  {
   "cell_type": "markdown",
   "id": "c9a657f6",
   "metadata": {},
   "source": [
    "# Number of active genocides and politicides around the world"
   ]
  },
  {
   "cell_type": "code",
   "execution_count": null,
   "id": "6a2fbf79",
   "metadata": {},
   "outputs": [],
   "source": [
    "import pandas as pd\n",
    "from owid import grapher, site"
   ]
  },
  {
   "cell_type": "code",
   "execution_count": null,
   "id": "da0e4e28",
   "metadata": {},
   "outputs": [],
   "source": [
    "data = site.get_chart_data(slug=\"number-of-active-genocides-and-politicides-around-the-world\")\n",
    "data.head()"
   ]
  },
  {
   "cell_type": "code",
   "execution_count": null,
   "id": "907205db",
   "metadata": {},
   "outputs": [],
   "source": [
    "grapher.Chart(\n",
    "    data\n",
    ").encode(\n",
    "    x=\"year\",\n",
    "    y=\"value\"\n",
    ").select([\n",
    "    \"World\"\n",
    "]).label(\n",
    "    title=\"Number of active genocides and politicides around the world\"\n",
    ").interact(\n",
    "    entity_control=True\n",
    ")"
   ]
  }
 ],
 "metadata": {
  "kernelspec": {
   "display_name": "Python 3 (ipykernel)",
   "language": "python",
   "name": "python3"
  }
 },
 "nbformat": 4,
 "nbformat_minor": 5
}
