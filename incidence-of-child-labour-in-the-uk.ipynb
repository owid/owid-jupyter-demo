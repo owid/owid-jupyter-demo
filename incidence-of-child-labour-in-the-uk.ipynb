{
 "cells": [
  {
   "cell_type": "markdown",
   "id": "615faab1",
   "metadata": {},
   "source": [
    "# Incidence of child labor in the UK"
   ]
  },
  {
   "cell_type": "code",
   "execution_count": null,
   "id": "12063f50",
   "metadata": {},
   "outputs": [],
   "source": [
    "import pandas as pd\n",
    "from owid import grapher, site"
   ]
  },
  {
   "cell_type": "code",
   "execution_count": null,
   "id": "58004d7c",
   "metadata": {},
   "outputs": [],
   "source": [
    "data = site.get_chart_data(slug=\"incidence-of-child-labour-in-the-uk\")\n",
    "data.head()"
   ]
  },
  {
   "cell_type": "code",
   "execution_count": null,
   "id": "dcd2bf92",
   "metadata": {},
   "outputs": [],
   "source": [
    "grapher.Chart(\n",
    "    data[data.entity == \"United Kingdom\"]\n",
    ").encode(\n",
    "    x=\"year\",\n",
    "    y=\"value\",\n",
    "    c=\"variable\"\n",
    ").label(\n",
    "    title=\"Incidence of child labor in the UK\",\n",
    "    subtitle=\"Share of boys and girls (ages 10-14) recorded as working\",\n",
    "    note=\"Cunningham, Hugh, and Pier Paolo Viazzo. \"Child Labour in Historical Perspective 1800-1985: Case Studies from Europe.\" Japan and Colombia, UNICEF, Florence (1996).\"\n",
    ").interact(\n",
    "    entity_control=True\n",
    ")"
   ]
  }
 ],
 "metadata": {
  "kernelspec": {
   "display_name": "Python 3 (ipykernel)",
   "language": "python",
   "name": "python3"
  }
 },
 "nbformat": 4,
 "nbformat_minor": 5
}
