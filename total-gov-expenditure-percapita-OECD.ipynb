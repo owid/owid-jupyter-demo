{
 "cells": [
  {
   "cell_type": "markdown",
   "id": "7a4e27e5",
   "metadata": {},
   "source": [
    "# Total government expenditure per capita"
   ]
  },
  {
   "cell_type": "code",
   "execution_count": null,
   "id": "84509b60",
   "metadata": {},
   "outputs": [],
   "source": [
    "import pandas as pd\n",
    "from owid import grapher, site"
   ]
  },
  {
   "cell_type": "code",
   "execution_count": null,
   "id": "6b081225",
   "metadata": {},
   "outputs": [],
   "source": [
    "data = site.get_chart_data(slug=\"total-gov-expenditure-percapita-OECD\")\n",
    "data.head()"
   ]
  },
  {
   "cell_type": "code",
   "execution_count": null,
   "id": "dd9dc29e",
   "metadata": {},
   "outputs": [],
   "source": [
    "grapher.Chart(\n",
    "    data\n",
    ").encode(\n",
    "    x=\"year\",\n",
    "    y=\"value\",\n",
    "    c=\"entity\"\n",
    ").select([\n",
    "    \"United Kingdom\",\n",
    "    \"United States\",\n",
    "    \"Colombia\",\n",
    "    \"India\",\n",
    "    \"Poland\",\n",
    "    \"Norway\"\n",
    "]).label(\n",
    "    title=\"Total government expenditure per capita\",\n",
    "    subtitle=\"Total government expenditures across all levels of government. Expenditures include intermediate consumption, compensation of employees, subsidies, property income, and social benefits.\"\n",
    ").interact(\n",
    "    entity_control=True,\n",
    "    enable_map=True\n",
    ")"
   ]
  }
 ],
 "metadata": {
  "kernelspec": {
   "display_name": "Python 3 (ipykernel)",
   "language": "python",
   "name": "python3"
  }
 },
 "nbformat": 4,
 "nbformat_minor": 5
}
