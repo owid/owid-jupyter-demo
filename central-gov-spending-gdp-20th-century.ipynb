{
 "cells": [
  {
   "cell_type": "markdown",
   "id": "b400ebd0",
   "metadata": {},
   "source": [
    "# Public spending (% GDP), selected OECD countries"
   ]
  },
  {
   "cell_type": "code",
   "execution_count": null,
   "id": "38d11cbe",
   "metadata": {},
   "outputs": [],
   "source": [
    "import pandas as pd\n",
    "from owid import grapher, site"
   ]
  },
  {
   "cell_type": "code",
   "execution_count": null,
   "id": "0846ec4e",
   "metadata": {},
   "outputs": [],
   "source": [
    "data = site.get_chart_data(slug=\"central-gov-spending-gdp-20th-century\")\n",
    "data.head()"
   ]
  },
  {
   "cell_type": "code",
   "execution_count": null,
   "id": "7ab0b7f3",
   "metadata": {},
   "outputs": [],
   "source": [
    "grapher.Chart(\n",
    "    data\n",
    ").encode(\n",
    "    x=\"year\",\n",
    "    y=\"value\",\n",
    "    c=\"entity\"\n",
    ").select([\n",
    "    \"France\",\n",
    "    \"Sweden\",\n",
    "    \"United States\",\n",
    "    \"United Kingdom\"\n",
    "]).label(\n",
    "    title=\"Public spending (% GDP), selected OECD countries\",\n",
    "    subtitle=\"Total central government expenditure as share of GDP\"\n",
    ").interact(\n",
    "    entity_control=True\n",
    ")"
   ]
  }
 ],
 "metadata": {
  "kernelspec": {
   "display_name": "Python 3 (ipykernel)",
   "language": "python",
   "name": "python3"
  }
 },
 "nbformat": 4,
 "nbformat_minor": 5
}
