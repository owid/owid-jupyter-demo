{
 "cells": [
  {
   "cell_type": "markdown",
   "id": "c6e67802",
   "metadata": {},
   "source": [
    "# Share who say they are 'very satisfied' or 'fairly satisfied' with their life"
   ]
  },
  {
   "cell_type": "code",
   "execution_count": null,
   "id": "b4901942",
   "metadata": {},
   "outputs": [],
   "source": [
    "import pandas as pd\n",
    "from owid import grapher, site"
   ]
  },
  {
   "cell_type": "code",
   "execution_count": null,
   "id": "5343ba44",
   "metadata": {},
   "outputs": [],
   "source": [
    "data = site.get_chart_data(slug=\"share-of-people-who-say-they-are-happy-Eurobarometer\")\n",
    "data.head()"
   ]
  },
  {
   "cell_type": "code",
   "execution_count": null,
   "id": "176126cd",
   "metadata": {},
   "outputs": [],
   "source": [
    "grapher.Chart(\n",
    "    data\n",
    ").encode(\n",
    "    x=\"year\",\n",
    "    y=\"value\",\n",
    "    c=\"entity\"\n",
    ").select([\n",
    "    \"France\",\n",
    "    \"Netherlands\",\n",
    "    \"United Kingdom\"\n",
    "]).label(\n",
    "    title=\"Share who say they are 'very satisfied' or 'fairly satisfied' with their life\",\n",
    "    subtitle=\"The full question asks: \"On the whole are you very satisfied, fairly satisfied, not very satisfied or not at all satisfied with the life you lead?\"\"\n",
    ").interact(\n",
    "    entity_control=True,\n",
    "    enable_map=True\n",
    ")"
   ]
  }
 ],
 "metadata": {
  "kernelspec": {
   "display_name": "Python 3 (ipykernel)",
   "language": "python",
   "name": "python3"
  }
 },
 "nbformat": 4,
 "nbformat_minor": 5
}
