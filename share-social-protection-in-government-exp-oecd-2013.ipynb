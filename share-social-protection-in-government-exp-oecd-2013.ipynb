{
 "cells": [
  {
   "cell_type": "markdown",
   "id": "4c47760c",
   "metadata": {},
   "source": [
    "# Share of social protection in government expenditure"
   ]
  },
  {
   "cell_type": "code",
   "execution_count": null,
   "id": "102504d7",
   "metadata": {},
   "outputs": [],
   "source": [
    "import pandas as pd\n",
    "from owid import grapher, site"
   ]
  },
  {
   "cell_type": "code",
   "execution_count": null,
   "id": "6eca3db5",
   "metadata": {},
   "outputs": [],
   "source": [
    "data = site.get_chart_data(slug=\"share-social-protection-in-government-exp-oecd-2013\")\n",
    "data.head()"
   ]
  },
  {
   "cell_type": "code",
   "execution_count": null,
   "id": "b0b4d6f4",
   "metadata": {},
   "outputs": [],
   "source": [
    "grapher.Chart(\n",
    "    data\n",
    ").encode(\n",
    "    x=\"year\",\n",
    "    y=\"value\",\n",
    "    c=\"entity\"\n",
    ").select([\n",
    "    \"Spain\",\n",
    "    \"South Korea\",\n",
    "    \"Australia\",\n",
    "    \"Italy\",\n",
    "    \"Costa Rica\",\n",
    "    \"United Kingdom\",\n",
    "    \"United States\",\n",
    "    \"Denmark\",\n",
    "    \"Colombia\",\n",
    "    \"Finland\"\n",
    "]).label(\n",
    "    title=\"Share of social protection in government expenditure\",\n",
    "    subtitle=\"social protection expenditures as a share of total general government spending. Social protection includes the following main areas: sickness, disability, pensions, housing, unemployment, family and children.\",\n",
    "    source_desc=\"Government at a Glance - OECD (2017)\"\n",
    ").interact(\n",
    "    entity_control=True\n",
    ")"
   ]
  }
 ],
 "metadata": {
  "kernelspec": {
   "display_name": "Python 3 (ipykernel)",
   "language": "python",
   "name": "python3"
  }
 },
 "nbformat": 4,
 "nbformat_minor": 5
}
