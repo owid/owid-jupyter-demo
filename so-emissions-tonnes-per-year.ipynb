{
 "cells": [
  {
   "cell_type": "markdown",
   "id": "a4be6bda",
   "metadata": {},
   "source": [
    "# Sulphur dioxide (SO₂) emissions"
   ]
  },
  {
   "cell_type": "code",
   "execution_count": null,
   "id": "e763b97d",
   "metadata": {},
   "outputs": [],
   "source": [
    "import pandas as pd\n",
    "from owid import grapher, site"
   ]
  },
  {
   "cell_type": "code",
   "execution_count": null,
   "id": "fce22a45",
   "metadata": {},
   "outputs": [],
   "source": [
    "data = site.get_chart_data(slug=\"so-emissions-tonnes-per-year\")\n",
    "data.head()"
   ]
  },
  {
   "cell_type": "code",
   "execution_count": null,
   "id": "e0ffaeb9",
   "metadata": {},
   "outputs": [],
   "source": [
    "grapher.Chart(\n",
    "    data\n",
    ").encode(\n",
    "    x=\"year\",\n",
    "    y=\"value\",\n",
    "    c=\"entity\"\n",
    ").select([\n",
    "    \"Russia\",\n",
    "    \"Italy\",\n",
    "    \"Germany\",\n",
    "    \"United Kingdom\",\n",
    "    \"United States\",\n",
    "    \"China\",\n",
    "    \"Sweden\"\n",
    "]).label(\n",
    "    title=\"Sulphur dioxide (SO₂) emissions\",\n",
    "    source_desc=\"ClioInfra\"\n",
    ").interact(\n",
    "    entity_control=True,\n",
    "    enable_map=True\n",
    ")"
   ]
  }
 ],
 "metadata": {
  "kernelspec": {
   "display_name": "Python 3 (ipykernel)",
   "language": "python",
   "name": "python3"
  }
 },
 "nbformat": 4,
 "nbformat_minor": 5
}
