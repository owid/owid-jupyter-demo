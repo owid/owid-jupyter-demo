{
 "cells": [
  {
   "cell_type": "markdown",
   "id": "4e2e7691",
   "metadata": {},
   "source": [
    "# Inequality of incomes"
   ]
  },
  {
   "cell_type": "code",
   "execution_count": null,
   "id": "396bd554",
   "metadata": {},
   "outputs": [],
   "source": [
    "import pandas as pd\n",
    "from owid import grapher, site"
   ]
  },
  {
   "cell_type": "code",
   "execution_count": null,
   "id": "80d7233a",
   "metadata": {},
   "outputs": [],
   "source": [
    "data = site.get_chart_data(slug=\"inequality-of-incomes-chartbook\")\n",
    "data.head()"
   ]
  },
  {
   "cell_type": "code",
   "execution_count": null,
   "id": "ee358018",
   "metadata": {},
   "outputs": [],
   "source": [
    "grapher.Chart(\n",
    "    data\n",
    ").encode(\n",
    "    x=\"year\",\n",
    "    y=\"value\",\n",
    "    c=\"entity\"\n",
    ").select([\n",
    "    \"Japan\",\n",
    "    \"United Kingdom\",\n",
    "    \"Netherlands\",\n",
    "    \"France\"\n",
    "]).label(\n",
    "    title=\"Inequality of incomes\",\n",
    "    subtitle=\"This chart presents time-series which are consistent over time for each country. Before making cross-country comparisons please check the definitions on the 'Sources' tab.\"\n",
    ").interact(\n",
    "    entity_control=True\n",
    ")"
   ]
  }
 ],
 "metadata": {
  "kernelspec": {
   "display_name": "Python 3 (ipykernel)",
   "language": "python",
   "name": "python3"
  }
 },
 "nbformat": 4,
 "nbformat_minor": 5
}
