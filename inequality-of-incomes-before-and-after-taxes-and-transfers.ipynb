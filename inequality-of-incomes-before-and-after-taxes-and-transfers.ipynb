{
 "cells": [
  {
   "cell_type": "markdown",
   "id": "7ebdb735",
   "metadata": {},
   "source": [
    "# Inequality of incomes before and after taxes and transfers"
   ]
  },
  {
   "cell_type": "code",
   "execution_count": null,
   "id": "8df8b1f7",
   "metadata": {},
   "outputs": [],
   "source": [
    "import pandas as pd\n",
    "from owid import grapher, site"
   ]
  },
  {
   "cell_type": "code",
   "execution_count": null,
   "id": "294e3ac0",
   "metadata": {},
   "outputs": [],
   "source": [
    "data = site.get_chart_data(slug=\"inequality-of-incomes-before-and-after-taxes-and-transfers\")\n",
    "data.head()"
   ]
  },
  {
   "cell_type": "code",
   "execution_count": null,
   "id": "335ed463",
   "metadata": {},
   "outputs": [],
   "source": [
    "grapher.Chart(\n",
    "    data[data.entity == \"United Kingdom\"]\n",
    ").encode(\n",
    "    x=\"year\",\n",
    "    y=\"value\",\n",
    "    c=\"variable\"\n",
    ").label(\n",
    "    title=\"Inequality of incomes before and after taxes and transfers\",\n",
    "    subtitle=\"Inequality of incomes, as measured by the Gini Coefficient. Higher values reflect more inequality.\",\n",
    "    note=\"Income before taxes and transfers corresponds to 'market income' (gross wages and salaries + self-employment income + capital and property income). Income after taxes and transfers corresponds to 'disposable income' (disposable income = market income + social security cash transfers + private transfers – income tax).\"\n",
    ").interact(\n",
    "    entity_control=True\n",
    ")"
   ]
  }
 ],
 "metadata": {
  "kernelspec": {
   "display_name": "Python 3 (ipykernel)",
   "language": "python",
   "name": "python3"
  }
 },
 "nbformat": 4,
 "nbformat_minor": 5
}
