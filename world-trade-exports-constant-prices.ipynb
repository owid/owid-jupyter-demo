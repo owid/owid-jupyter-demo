{
 "cells": [
  {
   "cell_type": "markdown",
   "id": "db5c277b",
   "metadata": {},
   "source": [
    "# The value of global exports "
   ]
  },
  {
   "cell_type": "code",
   "execution_count": null,
   "id": "7aa271ba",
   "metadata": {},
   "outputs": [],
   "source": [
    "import pandas as pd\n",
    "from owid import grapher, site"
   ]
  },
  {
   "cell_type": "code",
   "execution_count": null,
   "id": "a7c643a9",
   "metadata": {},
   "outputs": [],
   "source": [
    "data = site.get_chart_data(slug=\"world-trade-exports-constant-prices\")\n",
    "data.head()"
   ]
  },
  {
   "cell_type": "code",
   "execution_count": null,
   "id": "5804e239",
   "metadata": {},
   "outputs": [],
   "source": [
    "grapher.Chart(\n",
    "    data\n",
    ").encode(\n",
    "    x=\"year\",\n",
    "    y=\"value\"\n",
    ").label(\n",
    "    title=\"The value of global exports\",\n",
    "    subtitle=\"Time series of value of world exports at constant prices, relative to 1913 (i.e. values correspond to world export volumes indexed at 1913=100)\"\n",
    ").interact(\n",
    "    entity_control=True,\n",
    "    scale_control=True\n",
    ")"
   ]
  }
 ],
 "metadata": {
  "kernelspec": {
   "display_name": "Python 3 (ipykernel)",
   "language": "python",
   "name": "python3"
  }
 },
 "nbformat": 4,
 "nbformat_minor": 5
}
