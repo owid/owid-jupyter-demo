{
 "cells": [
  {
   "cell_type": "markdown",
   "id": "1af5e516",
   "metadata": {},
   "source": [
    "# Hours per week spent in home production in the United States, by employment and marital status"
   ]
  },
  {
   "cell_type": "code",
   "execution_count": null,
   "id": "64fee532",
   "metadata": {},
   "outputs": [],
   "source": [
    "import pandas as pd\n",
    "from owid import grapher, site"
   ]
  },
  {
   "cell_type": "code",
   "execution_count": null,
   "id": "a133e9d0",
   "metadata": {},
   "outputs": [],
   "source": [
    "data = site.get_chart_data(slug=\"weekly-hours-dedicated-to-home-production-in-the-usa-by-employment-and-marriage-status\")\n",
    "data.head()"
   ]
  },
  {
   "cell_type": "code",
   "execution_count": null,
   "id": "275bc5a5",
   "metadata": {},
   "outputs": [],
   "source": [
    "grapher.Chart(\n",
    "    data\n",
    ").encode(\n",
    "    x=\"year\",\n",
    "    y=\"value\",\n",
    "    c=\"entity\"\n",
    ").label(\n",
    "    title=\"Hours per week spent in home production in the United States, by employment and marital status\",\n",
    "    subtitle=\"Hours per week spent in home production, by gender, employment, and marital status. For more details see the source tab.\"\n",
    ").interact(\n",
    "    entity_control=True\n",
    ")"
   ]
  }
 ],
 "metadata": {
  "kernelspec": {
   "display_name": "Python 3 (ipykernel)",
   "language": "python",
   "name": "python3"
  }
 },
 "nbformat": 4,
 "nbformat_minor": 5
}
