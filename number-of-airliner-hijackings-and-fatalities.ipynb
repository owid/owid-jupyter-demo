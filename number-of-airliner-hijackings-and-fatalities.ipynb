{
 "cells": [
  {
   "cell_type": "markdown",
   "id": "ea3641de",
   "metadata": {},
   "source": [
    "# Global number of airliner hijackings and fatalities"
   ]
  },
  {
   "cell_type": "code",
   "execution_count": null,
   "id": "e3c5279b",
   "metadata": {},
   "outputs": [],
   "source": [
    "import pandas as pd\n",
    "from owid import grapher, site"
   ]
  },
  {
   "cell_type": "code",
   "execution_count": null,
   "id": "febc07de",
   "metadata": {},
   "outputs": [],
   "source": [
    "data = site.get_chart_data(slug=\"number-of-airliner-hijackings-and-fatalities\")\n",
    "data.head()"
   ]
  },
  {
   "cell_type": "code",
   "execution_count": null,
   "id": "4a98fa4e",
   "metadata": {},
   "outputs": [],
   "source": [
    "grapher.Chart(\n",
    "    data[data.entity == \"World\"]\n",
    ").encode(\n",
    "    x=\"year\",\n",
    "    y=\"value\",\n",
    "    c=\"variable\"\n",
    ").label(\n",
    "    title=\"Global number of airliner hijackings and fatalities\",\n",
    "    source_desc=\"Aviation Safety Network (ASN)\"\n",
    ").interact(\n",
    "    entity_control=True\n",
    ")"
   ]
  }
 ],
 "metadata": {
  "kernelspec": {
   "display_name": "Python 3 (ipykernel)",
   "language": "python",
   "name": "python3"
  }
 },
 "nbformat": 4,
 "nbformat_minor": 5
}
