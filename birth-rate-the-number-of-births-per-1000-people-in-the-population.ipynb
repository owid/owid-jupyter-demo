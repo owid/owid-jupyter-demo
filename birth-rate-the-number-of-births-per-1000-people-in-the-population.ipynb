{
 "cells": [
  {
   "cell_type": "markdown",
   "id": "88b26857",
   "metadata": {},
   "source": [
    "# Birth Rate: The number of births per 1,000 people in the population"
   ]
  },
  {
   "cell_type": "code",
   "execution_count": null,
   "id": "deef5346",
   "metadata": {},
   "outputs": [],
   "source": [
    "import pandas as pd\n",
    "from owid import grapher, site"
   ]
  },
  {
   "cell_type": "code",
   "execution_count": null,
   "id": "52c1b325",
   "metadata": {},
   "outputs": [],
   "source": [
    "data = site.get_chart_data(slug=\"birth-rate-the-number-of-births-per-1000-people-in-the-population\")\n",
    "data.head()"
   ]
  },
  {
   "cell_type": "code",
   "execution_count": null,
   "id": "95b7f01c",
   "metadata": {},
   "outputs": [],
   "source": [
    "grapher.Chart(\n",
    "    data\n",
    ").encode(\n",
    "    x=\"year\",\n",
    "    y=\"value\",\n",
    "    c=\"entity\"\n",
    ").select([\n",
    "    \"China\",\n",
    "    \"Tunisia\",\n",
    "    \"Sweden\",\n",
    "    \"Portugal\"\n",
    "]).label(\n",
    "    title=\"Birth Rate: The number of births per 1,000 people in the population\"\n",
    ").interact(\n",
    "    entity_control=True,\n",
    "    enable_map=True\n",
    ")"
   ]
  }
 ],
 "metadata": {
  "kernelspec": {
   "display_name": "Python 3 (ipykernel)",
   "language": "python",
   "name": "python3"
  }
 },
 "nbformat": 4,
 "nbformat_minor": 5
}
