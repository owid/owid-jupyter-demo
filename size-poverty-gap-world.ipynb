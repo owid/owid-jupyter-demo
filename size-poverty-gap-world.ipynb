{
 "cells": [
  {
   "cell_type": "markdown",
   "id": "8c330291",
   "metadata": {},
   "source": [
    "# The global poverty gap, in international-$"
   ]
  },
  {
   "cell_type": "code",
   "execution_count": null,
   "id": "3c3aa97d",
   "metadata": {},
   "outputs": [],
   "source": [
    "import pandas as pd\n",
    "from owid import grapher, site"
   ]
  },
  {
   "cell_type": "code",
   "execution_count": null,
   "id": "74a0b3e0",
   "metadata": {},
   "outputs": [],
   "source": [
    "data = site.get_chart_data(slug=\"size-poverty-gap-world\")\n",
    "data.head()"
   ]
  },
  {
   "cell_type": "code",
   "execution_count": null,
   "id": "8835d929",
   "metadata": {},
   "outputs": [],
   "source": [
    "grapher.Chart(\n",
    "    data\n",
    ").encode(\n",
    "    x=\"year\",\n",
    "    y=\"value\"\n",
    ").select([\n",
    "    \"World\"\n",
    "]).label(\n",
    "    title=\"The global poverty gap, in international-$\",\n",
    "    subtitle=\"The poverty gap is the amount of money that would be theoretically needed to lift the incomes of all people in extreme poverty up to the international poverty line of $1.90 a day. These estimates are expressed in international dollars using 2011 PPP conversion rates. This means that figures account for differences in prices levels, as well as for inflation.\",\n",
    "    note=\"The cost of closing the poverty gap does not take into account costs and inefficiencies from making the necessary transfers.\"\n",
    ").interact(\n",
    "    entity_control=True\n",
    ")"
   ]
  }
 ],
 "metadata": {
  "kernelspec": {
   "display_name": "Python 3 (ipykernel)",
   "language": "python",
   "name": "python3"
  }
 },
 "nbformat": 4,
 "nbformat_minor": 5
}
