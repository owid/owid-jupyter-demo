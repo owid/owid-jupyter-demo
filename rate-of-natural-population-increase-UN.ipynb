{
 "cells": [
  {
   "cell_type": "markdown",
   "id": "f1635f79",
   "metadata": {},
   "source": [
    "# Rate of natural population increase"
   ]
  },
  {
   "cell_type": "code",
   "execution_count": null,
   "id": "a8ce7f51",
   "metadata": {},
   "outputs": [],
   "source": [
    "import pandas as pd\n",
    "from owid import grapher, site"
   ]
  },
  {
   "cell_type": "code",
   "execution_count": null,
   "id": "2afc05ef",
   "metadata": {},
   "outputs": [],
   "source": [
    "data = site.get_chart_data(slug=\"rate-of-natural-population-increase-UN\")\n",
    "data.head()"
   ]
  },
  {
   "cell_type": "code",
   "execution_count": null,
   "id": "f0172819",
   "metadata": {},
   "outputs": [],
   "source": [
    "grapher.Chart(\n",
    "    data\n",
    ").encode(\n",
    "    x=\"year\",\n",
    "    y=\"value\",\n",
    "    c=\"entity\"\n",
    ").select(\n",
    "    entities=[\"Iran\",\n",
    "        \"Bangladesh\",\n",
    "        \"Pakistan\",\n",
    "        \"Brazil\",\n",
    "        \"South Africa\",\n",
    "        \"Nigeria\",\n",
    "        \"India\"],\n",
    "    timespan=(earliest, None)\n",
    ").label(\n",
    "    title=\"Rate of natural population increase\",\n",
    "    subtitle=\"This is the population increase determined by births and deaths. Migration flows are not taken into account.\",\n",
    "    source_desc=\"UN Population Division (2019)\"\n",
    ").interact(\n",
    "    entity_control=True,\n",
    "    enable_map=True\n",
    ")"
   ]
  }
 ],
 "metadata": {
  "kernelspec": {
   "display_name": "Python 3 (ipykernel)",
   "language": "python",
   "name": "python3"
  }
 },
 "nbformat": 4,
 "nbformat_minor": 5
}
