{
 "cells": [
  {
   "cell_type": "markdown",
   "id": "4d97d3d9",
   "metadata": {},
   "source": [
    "# Taxes on incomes of individuals and corporations"
   ]
  },
  {
   "cell_type": "code",
   "execution_count": null,
   "id": "ed64674a",
   "metadata": {},
   "outputs": [],
   "source": [
    "import pandas as pd\n",
    "from owid import grapher, site"
   ]
  },
  {
   "cell_type": "code",
   "execution_count": null,
   "id": "f2b390be",
   "metadata": {},
   "outputs": [],
   "source": [
    "data = site.get_chart_data(slug=\"taxes-on-incomes-of-individuals-and-corporations-gdp\")\n",
    "data.head()"
   ]
  },
  {
   "cell_type": "code",
   "execution_count": null,
   "id": "0fac9909",
   "metadata": {},
   "outputs": [],
   "source": [
    "grapher.Chart(\n",
    "    data\n",
    ").encode(\n",
    "    x=\"year\",\n",
    "    y=\"value\",\n",
    "    c=\"entity\"\n",
    ").select(\n",
    "    entities=[\"Italy\",\n",
    "        \"Brazil\",\n",
    "        \"Germany\",\n",
    "        \"Nigeria\",\n",
    "        \"China\",\n",
    "        \"India\"],\n",
    "    timespan=(1981, None)\n",
    ").label(\n",
    "    title=\"Taxes on incomes of individuals and corporations\",\n",
    "    subtitle=\"Taxes on incomes, profits and capital gains, as share of GDP.\"\n",
    ").interact(\n",
    "    entity_control=True,\n",
    "    enable_map=True\n",
    ")"
   ]
  }
 ],
 "metadata": {
  "kernelspec": {
   "display_name": "Python 3 (ipykernel)",
   "language": "python",
   "name": "python3"
  }
 },
 "nbformat": 4,
 "nbformat_minor": 5
}
